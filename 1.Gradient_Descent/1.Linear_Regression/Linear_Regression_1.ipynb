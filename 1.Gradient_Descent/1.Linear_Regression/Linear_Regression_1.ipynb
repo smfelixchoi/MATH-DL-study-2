{
 "cells": [
  {
   "attachments": {},
   "cell_type": "markdown",
   "id": "bf757074",
   "metadata": {},
   "source": [
    "# Linear Regression From Scratch"
   ]
  },
  {
   "cell_type": "code",
   "execution_count": 1,
   "id": "f2abb652",
   "metadata": {},
   "outputs": [],
   "source": [
    "import numpy as np\n",
    "import matplotlib.pyplot as plt"
   ]
  },
  {
   "attachments": {},
   "cell_type": "markdown",
   "id": "dc481628",
   "metadata": {},
   "source": [
    "## Plot With 1D data"
   ]
  },
  {
   "cell_type": "code",
   "execution_count": 2,
   "id": "9e3a49e9",
   "metadata": {},
   "outputs": [],
   "source": [
    "def f(x):\n",
    "    return 5*x-2"
   ]
  },
  {
   "cell_type": "code",
   "execution_count": 3,
   "id": "1bcbdbc3",
   "metadata": {},
   "outputs": [],
   "source": [
    "x = np.linspace(-3, 3, 200)\n",
    "e = np.random.randn(200)\n",
    "\n",
    "y = f(x) + e"
   ]
  },
  {
   "cell_type": "code",
   "execution_count": 6,
   "id": "b24baaf4",
   "metadata": {
    "scrolled": false
   },
   "outputs": [
    {
     "data": {
      "image/png": "[encoded data removed]",
      "text/plain": [
       "<Figure size 640x480 with 1 Axes>"
      ]
     },
     "metadata": {},
     "output_type": "display_data"
    }
   ],
   "source": [
    "plt.plot(x,y, 'o', markersize=1)\n",
    "plt.plot(x,f(x))\n",
    "plt.show()"
   ]
  },
  {
   "attachments": {},
   "cell_type": "markdown",
   "id": "a7499123",
   "metadata": {},
   "source": [
    "## Generate Data "
   ]
  },
  {
   "cell_type": "code",
   "execution_count": 7,
   "id": "eb3183ae",
   "metadata": {},
   "outputs": [],
   "source": [
    "x1 = np.linspace(-3,   1,  6)\n",
    "x2 = np.linspace(-2,   2,  7)\n",
    "x3 = np.linspace(-1,   3,  8)\n",
    "x4 = np.linspace(-3.5, 5,  10)\n",
    "\n",
    "X = np.zeros((6*7*8*10, 4))\n",
    "\n",
    "k=0\n",
    "\n",
    "for a in range(6):\n",
    "    for b in range(7):\n",
    "        for c in range(8):\n",
    "            for d in range(10):\n",
    "                X[k] = np.array([x1[a], x2[b], x3[c], x4[d] ])\n",
    "                k+=1"
   ]
  },
  {
   "cell_type": "code",
   "execution_count": 8,
   "id": "487d8d84",
   "metadata": {},
   "outputs": [],
   "source": [
    "def f(X):\n",
    "    n = X.shape[0]\n",
    "    y = np.zeros(n)\n",
    "    for i in range(n):\n",
    "        y[i] = 10 + 3*X[i,0] - 4*X[i,1] + X[i,2] - 7*X[i,3] \n",
    "    eps = np.random.randn(n)*2\n",
    "    return y + eps"
   ]
  },
  {
   "cell_type": "code",
   "execution_count": 9,
   "id": "8c4f1368",
   "metadata": {},
   "outputs": [
    {
     "name": "stdout",
     "output_type": "stream",
     "text": [
      "(3360,)\n"
     ]
    }
   ],
   "source": [
    "y = f(X)\n",
    "\n",
    "print(y.shape)"
   ]
  },
  {
   "cell_type": "code",
   "execution_count": 10,
   "id": "516e7016",
   "metadata": {},
   "outputs": [],
   "source": [
    "data = (X,y)"
   ]
  },
  {
   "attachments": {},
   "cell_type": "markdown",
   "id": "2f6cffa3",
   "metadata": {},
   "source": [
    "## Save and Load data"
   ]
  },
  {
   "cell_type": "code",
   "execution_count": 11,
   "id": "f2d38177",
   "metadata": {},
   "outputs": [],
   "source": [
    "import pickle"
   ]
  },
  {
   "cell_type": "code",
   "execution_count": 12,
   "id": "0f79cb2c",
   "metadata": {},
   "outputs": [],
   "source": [
    "# save\n",
    "with open('data.pickle', 'wb') as f:\n",
    "    pickle.dump(data, f, pickle.HIGHEST_PROTOCOL)"
   ]
  },
  {
   "cell_type": "code",
   "execution_count": 13,
   "id": "0a8eafef",
   "metadata": {},
   "outputs": [],
   "source": [
    "# load\n",
    "with open('data.pickle', 'rb') as f:\n",
    "    data_load = pickle.load(f)"
   ]
  },
  {
   "cell_type": "code",
   "execution_count": null,
   "id": "664ab4df",
   "metadata": {},
   "outputs": [],
   "source": []
  }
 ],
 "metadata": {
  "kernelspec": {
   "display_name": "mathdl",
   "language": "python",
   "name": "python3"
  },
  "language_info": {
   "codemirror_mode": {
    "name": "ipython",
    "version": 3
   },
   "file_extension": ".py",
   "mimetype": "text/x-python",
   "name": "python",
   "nbconvert_exporter": "python",
   "pygments_lexer": "ipython3",
   "version": "3.8.13"
  }
 },
 "nbformat": 4,
 "nbformat_minor": 5
}
