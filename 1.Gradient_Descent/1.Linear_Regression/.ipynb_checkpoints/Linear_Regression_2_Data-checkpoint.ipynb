{
 "cells": [
  {
   "cell_type": "markdown",
   "id": "e198236b",
   "metadata": {},
   "source": [
    "# Linear Regression"
   ]
  },
  {
   "cell_type": "markdown",
   "id": "0b2bf3e1",
   "metadata": {},
   "source": [
    "## Data Preparation"
   ]
  },
  {
   "cell_type": "code",
   "execution_count": 1,
   "id": "c6f9b6d5",
   "metadata": {},
   "outputs": [],
   "source": [
    "import numpy as np"
   ]
  },
  {
   "cell_type": "code",
   "execution_count": 2,
   "id": "af094432",
   "metadata": {},
   "outputs": [],
   "source": [
    "x1 = np.linspace(-3,1,6)\n",
    "x2 = np.linspace(-2,2,7)\n",
    "x3 = np.linspace(-1,3,8)\n",
    "x4 = np.linspace(-3.5,5,10)\n",
    "\n",
    "X = np.zeros((6*7*8*10, 4))\n",
    "\n",
    "k=0\n",
    "\n",
    "for a in range(6):\n",
    "    for b in range(7):\n",
    "        for c in range(8):\n",
    "            for d in range(10):\n",
    "                X[k] = np.array([x1[a], x2[b], x3[c], x4[d] ])\n",
    "                k+=1"
   ]
  },
  {
   "cell_type": "code",
   "execution_count": 3,
   "id": "d4a7cc1c",
   "metadata": {},
   "outputs": [
    {
     "data": {
      "text/plain": [
       "(3360, 4)"
      ]
     },
     "execution_count": 3,
     "metadata": {},
     "output_type": "execute_result"
    }
   ],
   "source": [
    "X.shape"
   ]
  },
  {
   "cell_type": "code",
   "execution_count": 4,
   "id": "fbddaa87",
   "metadata": {},
   "outputs": [],
   "source": [
    "def f(X):\n",
    "    n = X.shape[0]\n",
    "    y = np.zeros(n)\n",
    "    for i in range(n):\n",
    "        y[i] = 10 + 3*X[i,0] - 4*X[i,1] + X[i,2] - 7*X[i,3] \n",
    "    eps = np.random.randn(n)*2\n",
    "    return y + eps"
   ]
  },
  {
   "cell_type": "code",
   "execution_count": 5,
   "id": "a522596b",
   "metadata": {},
   "outputs": [],
   "source": [
    "y = f(X)"
   ]
  },
  {
   "cell_type": "code",
   "execution_count": 24,
   "id": "dff8ea54",
   "metadata": {},
   "outputs": [],
   "source": [
    "data = (X,y)"
   ]
  },
  {
   "cell_type": "code",
   "execution_count": 27,
   "id": "60f1a191",
   "metadata": {},
   "outputs": [],
   "source": [
    "import pickle"
   ]
  },
  {
   "cell_type": "code",
   "execution_count": 28,
   "id": "7776a0e2",
   "metadata": {},
   "outputs": [],
   "source": [
    "# save\n",
    "with open('data.pickle', 'wb') as f:\n",
    "    pickle.dump(data, f, pickle.HIGHEST_PROTOCOL)"
   ]
  },
  {
   "cell_type": "code",
   "execution_count": 29,
   "id": "2c61f7c2",
   "metadata": {},
   "outputs": [],
   "source": [
    "# load\n",
    "with open('data.pickle', 'rb') as f:\n",
    "    data_load = pickle.load(f)"
   ]
  },
  {
   "cell_type": "markdown",
   "id": "74133960",
   "metadata": {},
   "source": [
    "### Analytic Solution"
   ]
  },
  {
   "cell_type": "code",
   "execution_count": 6,
   "id": "a14c104d",
   "metadata": {},
   "outputs": [],
   "source": [
    "w = np.linalg.solve(X.T@X, X.T@y)"
   ]
  },
  {
   "cell_type": "code",
   "execution_count": 7,
   "id": "b77c5209",
   "metadata": {},
   "outputs": [
    {
     "data": {
      "text/plain": [
       "array([ 0.52218765, -3.99766011,  3.65546651, -6.55236882])"
      ]
     },
     "execution_count": 7,
     "metadata": {},
     "output_type": "execute_result"
    }
   ],
   "source": [
    "w"
   ]
  },
  {
   "cell_type": "markdown",
   "id": "a038c189",
   "metadata": {},
   "source": [
    "It's Wrong!"
   ]
  },
  {
   "cell_type": "code",
   "execution_count": 8,
   "id": "4405c5c2",
   "metadata": {},
   "outputs": [],
   "source": [
    "Z = np.zeros((X.shape[0], X.shape[1]+1))"
   ]
  },
  {
   "cell_type": "code",
   "execution_count": 9,
   "id": "f7e9955e",
   "metadata": {},
   "outputs": [],
   "source": [
    "for i in range(X.shape[0]):\n",
    "    temp = list(X[i])\n",
    "    temp.insert(0, 1)  #List.insert(index, value) index에 value값을 넣기\n",
    "    Z[i] = np.array(temp)"
   ]
  },
  {
   "cell_type": "code",
   "execution_count": 10,
   "id": "1ffd4288",
   "metadata": {},
   "outputs": [],
   "source": [
    "w = np.linalg.solve(Z.T@Z, Z.T@y)"
   ]
  },
  {
   "cell_type": "code",
   "execution_count": 11,
   "id": "2eb3e16b",
   "metadata": {},
   "outputs": [
    {
     "data": {
      "text/plain": [
       "array([10.01038492,  2.96479233, -3.99766011,  0.99574142, -7.01707071])"
      ]
     },
     "execution_count": 11,
     "metadata": {},
     "output_type": "execute_result"
    }
   ],
   "source": [
    "w"
   ]
  },
  {
   "cell_type": "code",
   "execution_count": null,
   "id": "374de675",
   "metadata": {},
   "outputs": [],
   "source": []
  },
  {
   "cell_type": "markdown",
   "id": "7350d719",
   "metadata": {},
   "source": [
    "### Gradient Descent"
   ]
  },
  {
   "cell_type": "code",
   "execution_count": 33,
   "id": "b2f9b4d9",
   "metadata": {},
   "outputs": [],
   "source": [
    "EPOCHS=300\n",
    "lr=0.00001"
   ]
  },
  {
   "cell_type": "code",
   "execution_count": 34,
   "id": "10462beb",
   "metadata": {},
   "outputs": [
    {
     "data": {
      "text/plain": [
       "(3360, 5)"
      ]
     },
     "execution_count": 34,
     "metadata": {},
     "output_type": "execute_result"
    }
   ],
   "source": [
    "Z.shape"
   ]
  },
  {
   "cell_type": "code",
   "execution_count": 35,
   "id": "96c1a892",
   "metadata": {},
   "outputs": [],
   "source": [
    "weights = np.zeros(5)"
   ]
  },
  {
   "cell_type": "code",
   "execution_count": 36,
   "id": "dee581e8",
   "metadata": {},
   "outputs": [],
   "source": [
    "def forward_pass(X,w):\n",
    "    return X.dot(w)"
   ]
  },
  {
   "cell_type": "code",
   "execution_count": 37,
   "id": "e3d214be",
   "metadata": {},
   "outputs": [],
   "source": [
    "def compute_gradient(X,y,w):\n",
    "    y_hat = forward_pass(X,w)\n",
    "    return X.T@(y_hat-y)"
   ]
  },
  {
   "cell_type": "code",
   "execution_count": 38,
   "id": "15e95b90",
   "metadata": {},
   "outputs": [],
   "source": [
    "for _ in range(EPOCHS):\n",
    "    weights -= lr*compute_gradient(Z,y,weights)"
   ]
  },
  {
   "cell_type": "code",
   "execution_count": 39,
   "id": "a23605ab",
   "metadata": {},
   "outputs": [
    {
     "data": {
      "text/plain": [
       "array([ 9.84495223,  2.92013249, -3.99766007,  1.0455666 , -7.00999904])"
      ]
     },
     "execution_count": 39,
     "metadata": {},
     "output_type": "execute_result"
    }
   ],
   "source": [
    "weights"
   ]
  },
  {
   "cell_type": "code",
   "execution_count": null,
   "id": "957dc65c",
   "metadata": {},
   "outputs": [],
   "source": []
  }
 ],
 "metadata": {
  "kernelspec": {
   "display_name": "MathDLstudy",
   "language": "python",
   "name": "mathdl"
  },
  "language_info": {
   "codemirror_mode": {
    "name": "ipython",
    "version": 3
   },
   "file_extension": ".py",
   "mimetype": "text/x-python",
   "name": "python",
   "nbconvert_exporter": "python",
   "pygments_lexer": "ipython3",
   "version": "3.8.13"
  }
 },
 "nbformat": 4,
 "nbformat_minor": 5
}
