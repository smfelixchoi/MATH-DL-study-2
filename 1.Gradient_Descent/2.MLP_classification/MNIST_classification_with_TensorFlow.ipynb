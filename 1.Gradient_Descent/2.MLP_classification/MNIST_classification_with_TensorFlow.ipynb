{
 "cells": [
  {
   "attachments": {},
   "cell_type": "markdown",
   "id": "e2c961c8",
   "metadata": {},
   "source": [
    "# MNIST classification with TensorFlow (Preview)"
   ]
  },
  {
   "cell_type": "code",
   "execution_count": 1,
   "id": "95b795a5",
   "metadata": {},
   "outputs": [],
   "source": [
    "import tensorflow as tf\n",
    "import numpy as np\n",
    "import matplotlib.pyplot as plt"
   ]
  },
  {
   "cell_type": "code",
   "execution_count": 2,
   "id": "45709c94",
   "metadata": {},
   "outputs": [],
   "source": [
    "(x_train, y_train), (x_test, y_test) = tf.keras.datasets.mnist.load_data()\n",
    "\n",
    "x_train, x_valid = x_train[:50000], x_train[50000:]\n",
    "y_train, y_valid = y_train[:50000], y_train[50000:]\n",
    "\n",
    "x_train = x_train.reshape(50000,28*28)/256\n",
    "x_valid = x_valid.reshape(-1, 28*28)/256\n",
    "x_test  = x_test.reshape(-1, 28*28)/256\n",
    "\n",
    "y_train_one_hot = np.eye(10)[y_train]\n",
    "y_valid_one_hot = np.eye(10)[y_valid]"
   ]
  },
  {
   "cell_type": "code",
   "execution_count": 3,
   "id": "3bd69cf8",
   "metadata": {},
   "outputs": [],
   "source": [
    "from tensorflow.keras.layers import Input, Dense\n",
    "from tensorflow.keras.models import Model"
   ]
  },
  {
   "attachments": {},
   "cell_type": "markdown",
   "id": "6e406726",
   "metadata": {},
   "source": [
    "## Define 2-Layer MLP"
   ]
  },
  {
   "cell_type": "code",
   "execution_count": 4,
   "id": "628ca124",
   "metadata": {},
   "outputs": [
    {
     "name": "stderr",
     "output_type": "stream",
     "text": [
      "2023-06-24 19:35:06.659714: I tensorflow/compiler/jit/xla_cpu_device.cc:41] Not creating XLA devices, tf_xla_enable_xla_devices not set\n",
      "2023-06-24 19:35:06.660242: I tensorflow/core/platform/cpu_feature_guard.cc:142] This TensorFlow binary is optimized with oneAPI Deep Neural Network Library (oneDNN) to use the following CPU instructions in performance-critical operations:  AVX2 FMA\n",
      "To enable them in other operations, rebuild TensorFlow with the appropriate compiler flags.\n"
     ]
    }
   ],
   "source": [
    "input_tensor = Input(28*28)\n",
    "x = Dense(100, activation='sigmoid', kernel_initializer='glorot_normal')(input_tensor)\n",
    "x = Dense(10, activation='softmax')(x)\n",
    "\n",
    "model = Model(inputs=input_tensor, outputs=x)\n",
    "optim = tf.keras.optimizers.SGD(learning_rate=0.01)\n",
    "model.compile(loss='categorical_crossentropy', optimizer=optim, metrics=['accuracy'])"
   ]
  },
  {
   "attachments": {},
   "cell_type": "markdown",
   "id": "ae344a41",
   "metadata": {},
   "source": [
    "## Train and Predict"
   ]
  },
  {
   "cell_type": "code",
   "execution_count": 5,
   "id": "f8f05976",
   "metadata": {
    "scrolled": true
   },
   "outputs": [
    {
     "name": "stderr",
     "output_type": "stream",
     "text": [
      "2023-06-24 19:35:06.837358: I tensorflow/compiler/mlir/mlir_graph_optimization_pass.cc:116] None of the MLIR optimization passes are enabled (registered 2)\n"
     ]
    },
    {
     "name": "stdout",
     "output_type": "stream",
     "text": [
      "Epoch 1/20\n",
      "200/200 [==============================] - 1s 5ms/step - loss: 2.3073 - accuracy: 0.1623 - val_loss: 2.0997 - val_accuracy: 0.5308\n",
      "Epoch 2/20\n",
      "200/200 [==============================] - 0s 2ms/step - loss: 2.0494 - accuracy: 0.5614 - val_loss: 1.8838 - val_accuracy: 0.6882\n",
      "Epoch 3/20\n",
      "200/200 [==============================] - 0s 2ms/step - loss: 1.8441 - accuracy: 0.6743 - val_loss: 1.6824 - val_accuracy: 0.7268\n",
      "Epoch 4/20\n",
      "200/200 [==============================] - 0s 2ms/step - loss: 1.6509 - accuracy: 0.7148 - val_loss: 1.4988 - val_accuracy: 0.7620\n",
      "Epoch 5/20\n",
      "200/200 [==============================] - 0s 2ms/step - loss: 1.4814 - accuracy: 0.7421 - val_loss: 1.3393 - val_accuracy: 0.7864\n",
      "Epoch 6/20\n",
      "200/200 [==============================] - 0s 2ms/step - loss: 1.3318 - accuracy: 0.7610 - val_loss: 1.2055 - val_accuracy: 0.8028\n",
      "Epoch 7/20\n",
      "200/200 [==============================] - 0s 2ms/step - loss: 1.2104 - accuracy: 0.7765 - val_loss: 1.0942 - val_accuracy: 0.8139\n",
      "Epoch 8/20\n",
      "200/200 [==============================] - 0s 2ms/step - loss: 1.1066 - accuracy: 0.7901 - val_loss: 1.0024 - val_accuracy: 0.8233\n",
      "Epoch 9/20\n",
      "200/200 [==============================] - 0s 2ms/step - loss: 1.0183 - accuracy: 0.8039 - val_loss: 0.9264 - val_accuracy: 0.8337\n",
      "Epoch 10/20\n",
      "200/200 [==============================] - 0s 2ms/step - loss: 0.9522 - accuracy: 0.8075 - val_loss: 0.8630 - val_accuracy: 0.8414\n",
      "Epoch 11/20\n",
      "200/200 [==============================] - 0s 2ms/step - loss: 0.8856 - accuracy: 0.8191 - val_loss: 0.8090 - val_accuracy: 0.8451\n",
      "Epoch 12/20\n",
      "200/200 [==============================] - 0s 2ms/step - loss: 0.8320 - accuracy: 0.8261 - val_loss: 0.7630 - val_accuracy: 0.8520\n",
      "Epoch 13/20\n",
      "200/200 [==============================] - 1s 3ms/step - loss: 0.7949 - accuracy: 0.8314 - val_loss: 0.7236 - val_accuracy: 0.8564\n",
      "Epoch 14/20\n",
      "200/200 [==============================] - 0s 2ms/step - loss: 0.7540 - accuracy: 0.8373 - val_loss: 0.6894 - val_accuracy: 0.8599\n",
      "Epoch 15/20\n",
      "200/200 [==============================] - 0s 2ms/step - loss: 0.7246 - accuracy: 0.8399 - val_loss: 0.6590 - val_accuracy: 0.8647\n",
      "Epoch 16/20\n",
      "200/200 [==============================] - 0s 2ms/step - loss: 0.6962 - accuracy: 0.8462 - val_loss: 0.6325 - val_accuracy: 0.8668\n",
      "Epoch 17/20\n",
      "200/200 [==============================] - 0s 2ms/step - loss: 0.6684 - accuracy: 0.8517 - val_loss: 0.6090 - val_accuracy: 0.8702\n",
      "Epoch 18/20\n",
      "200/200 [==============================] - 0s 2ms/step - loss: 0.6477 - accuracy: 0.8514 - val_loss: 0.5876 - val_accuracy: 0.8734\n",
      "Epoch 19/20\n",
      "200/200 [==============================] - 0s 2ms/step - loss: 0.6276 - accuracy: 0.8572 - val_loss: 0.5688 - val_accuracy: 0.8754\n",
      "Epoch 20/20\n",
      "200/200 [==============================] - 0s 2ms/step - loss: 0.6186 - accuracy: 0.8541 - val_loss: 0.5514 - val_accuracy: 0.8789\n"
     ]
    }
   ],
   "source": [
    "EPOCHS = 20\n",
    "history = model.fit(x_train, y_train_one_hot, batch_size=250, epochs=EPOCHS, validation_data=(x_valid, y_valid_one_hot))"
   ]
  },
  {
   "cell_type": "code",
   "execution_count": 6,
   "id": "c9478057",
   "metadata": {},
   "outputs": [
    {
     "data": {
      "image/png": "[encoded data removed]",
      "text/plain": [
       "<Figure size 400x400 with 1 Axes>"
      ]
     },
     "metadata": {},
     "output_type": "display_data"
    }
   ],
   "source": [
    "plt.figure(figsize=(4,4))\n",
    "plt.plot(np.arange(1, EPOCHS+1), history.history['loss'])\n",
    "plt.xlabel('Epochs')\n",
    "plt.ylabel('Training loss')\n",
    "plt.show()"
   ]
  },
  {
   "cell_type": "code",
   "execution_count": 7,
   "id": "6daacf99",
   "metadata": {},
   "outputs": [
    {
     "name": "stdout",
     "output_type": "stream",
     "text": [
      "Test Accuracy: 87.14 %\n"
     ]
    }
   ],
   "source": [
    "pred = model.predict(x_test)\n",
    "pred_label = np.argmax(pred, axis = 1)\n",
    "test_acc = np.sum(pred_label==y_test)/y_test.shape[0]\n",
    "print('Test Accuracy:', test_acc*100, '%')"
   ]
  },
  {
   "cell_type": "code",
   "execution_count": null,
   "id": "f0226fff",
   "metadata": {},
   "outputs": [],
   "source": []
  }
 ],
 "metadata": {
  "kernelspec": {
   "display_name": "mathdl",
   "language": "python",
   "name": "python3"
  },
  "language_info": {
   "codemirror_mode": {
    "name": "ipython",
    "version": 3
   },
   "file_extension": ".py",
   "mimetype": "text/x-python",
   "name": "python",
   "nbconvert_exporter": "python",
   "pygments_lexer": "ipython3",
   "version": "3.8.13"
  }
 },
 "nbformat": 4,
 "nbformat_minor": 5
}
