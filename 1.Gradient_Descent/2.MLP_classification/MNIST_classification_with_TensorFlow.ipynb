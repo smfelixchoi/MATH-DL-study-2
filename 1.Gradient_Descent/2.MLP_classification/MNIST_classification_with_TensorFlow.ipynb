{
 "cells": [
  {
   "attachments": {},
   "cell_type": "markdown",
   "id": "e2c961c8",
   "metadata": {},
   "source": [
    "# MNIST classification with TensorFlow (Preview)"
   ]
  },
  {
   "cell_type": "code",
   "execution_count": 1,
   "id": "95b795a5",
   "metadata": {},
   "outputs": [],
   "source": [
    "import tensorflow as tf\n",
    "import numpy as np\n",
    "import matplotlib.pyplot as plt"
   ]
  },
  {
   "cell_type": "code",
   "execution_count": 2,
   "id": "45709c94",
   "metadata": {},
   "outputs": [],
   "source": [
    "(x_train, y_train), (x_test, y_test) = tf.keras.datasets.mnist.load_data()\n",
    "\n",
    "x_train, x_valid = x_train[:50000], x_train[50000:]\n",
    "y_train, y_valid = y_train[:50000], y_train[50000:]\n",
    "\n",
    "x_train = x_train.reshape(50000,28*28)/256\n",
    "x_valid = x_valid.reshape(-1, 28*28)/256\n",
    "x_test  = x_test.reshape(-1, 28*28)/256\n",
    "\n",
    "y_train_one_hot = np.eye(10)[y_train]\n",
    "y_valid_one_hot = np.eye(10)[y_valid]"
   ]
  },
  {
   "cell_type": "code",
   "execution_count": 3,
   "id": "3bd69cf8",
   "metadata": {},
   "outputs": [],
   "source": [
    "from tensorflow.keras.layers import Input, Dense\n",
    "from tensorflow.keras.models import Model"
   ]
  },
  {
   "attachments": {},
   "cell_type": "markdown",
   "id": "6e406726",
   "metadata": {},
   "source": [
    "## Define 2-Layer MLP"
   ]
  },
  {
   "cell_type": "code",
   "execution_count": 4,
   "id": "628ca124",
   "metadata": {},
   "outputs": [
    {
     "name": "stderr",
     "output_type": "stream",
     "text": [
      "2023-06-26 11:43:00.248840: I tensorflow/compiler/jit/xla_cpu_device.cc:41] Not creating XLA devices, tf_xla_enable_xla_devices not set\n",
      "2023-06-26 11:43:00.252869: I tensorflow/core/platform/cpu_feature_guard.cc:142] This TensorFlow binary is optimized with oneAPI Deep Neural Network Library (oneDNN) to use the following CPU instructions in performance-critical operations:  AVX2 FMA\n",
      "To enable them in other operations, rebuild TensorFlow with the appropriate compiler flags.\n"
     ]
    }
   ],
   "source": [
    "input_tensor = Input(28*28)\n",
    "x = Dense(100, activation='sigmoid', kernel_initializer='glorot_normal')(input_tensor)\n",
    "x = Dense(10, activation='softmax')(x)\n",
    "\n",
    "model = Model(inputs=input_tensor, outputs=x)\n",
    "optim = tf.keras.optimizers.SGD(learning_rate=0.01)\n",
    "model.compile(loss='categorical_crossentropy', optimizer=optim, metrics=['accuracy'])"
   ]
  },
  {
   "attachments": {},
   "cell_type": "markdown",
   "id": "ae344a41",
   "metadata": {},
   "source": [
    "## Train and Predict"
   ]
  },
  {
   "cell_type": "code",
   "execution_count": 5,
   "id": "f8f05976",
   "metadata": {
    "scrolled": true
   },
   "outputs": [
    {
     "name": "stderr",
     "output_type": "stream",
     "text": [
      "2023-06-26 11:43:02.128950: I tensorflow/compiler/mlir/mlir_graph_optimization_pass.cc:116] None of the MLIR optimization passes are enabled (registered 2)\n"
     ]
    },
    {
     "name": "stdout",
     "output_type": "stream",
     "text": [
      "Epoch 1/20\n",
      "200/200 [==============================] - 2s 7ms/step - loss: 2.2974 - accuracy: 0.2048 - val_loss: 2.0806 - val_accuracy: 0.5562\n",
      "Epoch 2/20\n",
      "200/200 [==============================] - 1s 3ms/step - loss: 2.0278 - accuracy: 0.5747 - val_loss: 1.8636 - val_accuracy: 0.6984\n",
      "Epoch 3/20\n",
      "200/200 [==============================] - 1s 4ms/step - loss: 1.8227 - accuracy: 0.6854 - val_loss: 1.6628 - val_accuracy: 0.7370\n",
      "Epoch 4/20\n",
      "200/200 [==============================] - 1s 3ms/step - loss: 1.6304 - accuracy: 0.7236 - val_loss: 1.4810 - val_accuracy: 0.7656\n",
      "Epoch 5/20\n",
      "200/200 [==============================] - 1s 3ms/step - loss: 1.4605 - accuracy: 0.7497 - val_loss: 1.3241 - val_accuracy: 0.7943\n",
      "Epoch 6/20\n",
      "200/200 [==============================] - 1s 6ms/step - loss: 1.3148 - accuracy: 0.7707 - val_loss: 1.1911 - val_accuracy: 0.8079\n",
      "Epoch 7/20\n",
      "200/200 [==============================] - 1s 6ms/step - loss: 1.1946 - accuracy: 0.7830 - val_loss: 1.0808 - val_accuracy: 0.8186\n",
      "Epoch 8/20\n",
      "200/200 [==============================] - 1s 4ms/step - loss: 1.0905 - accuracy: 0.7971 - val_loss: 0.9900 - val_accuracy: 0.8252\n",
      "Epoch 9/20\n",
      "200/200 [==============================] - 1s 4ms/step - loss: 1.0036 - accuracy: 0.8073 - val_loss: 0.9138 - val_accuracy: 0.8361\n",
      "Epoch 10/20\n",
      "200/200 [==============================] - 1s 3ms/step - loss: 0.9363 - accuracy: 0.8145 - val_loss: 0.8509 - val_accuracy: 0.8415\n",
      "Epoch 11/20\n",
      "200/200 [==============================] - 0s 2ms/step - loss: 0.8791 - accuracy: 0.8218 - val_loss: 0.7975 - val_accuracy: 0.8478\n",
      "Epoch 12/20\n",
      "200/200 [==============================] - 0s 2ms/step - loss: 0.8257 - accuracy: 0.8271 - val_loss: 0.7520 - val_accuracy: 0.8538\n",
      "Epoch 13/20\n",
      "200/200 [==============================] - 0s 2ms/step - loss: 0.7791 - accuracy: 0.8352 - val_loss: 0.7132 - val_accuracy: 0.8586\n",
      "Epoch 14/20\n",
      "200/200 [==============================] - 0s 2ms/step - loss: 0.7439 - accuracy: 0.8402 - val_loss: 0.6796 - val_accuracy: 0.8620\n",
      "Epoch 15/20\n",
      "200/200 [==============================] - 0s 2ms/step - loss: 0.7184 - accuracy: 0.8418 - val_loss: 0.6501 - val_accuracy: 0.8655\n",
      "Epoch 16/20\n",
      "200/200 [==============================] - 1s 3ms/step - loss: 0.6862 - accuracy: 0.8475 - val_loss: 0.6243 - val_accuracy: 0.8682\n",
      "Epoch 17/20\n",
      "200/200 [==============================] - 1s 3ms/step - loss: 0.6612 - accuracy: 0.8520 - val_loss: 0.6013 - val_accuracy: 0.8718\n",
      "Epoch 18/20\n",
      "200/200 [==============================] - 1s 3ms/step - loss: 0.6399 - accuracy: 0.8542 - val_loss: 0.5810 - val_accuracy: 0.8745\n",
      "Epoch 19/20\n",
      "200/200 [==============================] - 0s 2ms/step - loss: 0.6223 - accuracy: 0.8568 - val_loss: 0.5625 - val_accuracy: 0.8769\n",
      "Epoch 20/20\n",
      "200/200 [==============================] - 0s 2ms/step - loss: 0.6055 - accuracy: 0.8576 - val_loss: 0.5459 - val_accuracy: 0.8799\n"
     ]
    }
   ],
   "source": [
    "EPOCHS = 20\n",
    "history = model.fit(x_train, y_train_one_hot, batch_size=250, epochs=EPOCHS, validation_data=(x_valid, y_valid_one_hot))"
   ]
  },
  {
   "cell_type": "code",
   "execution_count": 6,
   "id": "c9478057",
   "metadata": {},
   "outputs": [
    {
     "data": {
      "image/png": "[encoded data removed]",
      "text/plain": [
       "<Figure size 400x400 with 1 Axes>"
      ]
     },
     "metadata": {},
     "output_type": "display_data"
    }
   ],
   "source": [
    "plt.figure(figsize=(4,4))\n",
    "plt.plot(np.arange(1, EPOCHS+1), history.history['loss'])\n",
    "plt.xlabel('Epochs')\n",
    "plt.ylabel('Training loss')\n",
    "plt.show()"
   ]
  },
  {
   "cell_type": "code",
   "execution_count": 7,
   "id": "6daacf99",
   "metadata": {},
   "outputs": [
    {
     "name": "stdout",
     "output_type": "stream",
     "text": [
      "Test Accuracy: 86.94 %\n"
     ]
    }
   ],
   "source": [
    "pred = model.predict(x_test)\n",
    "pred_label = np.argmax(pred, axis = 1)\n",
    "test_acc = np.sum(pred_label==y_test)/y_test.shape[0]\n",
    "print('Test Accuracy:', test_acc*100, '%')"
   ]
  },
  {
   "cell_type": "code",
   "execution_count": null,
   "id": "f0226fff",
   "metadata": {},
   "outputs": [],
   "source": []
  }
 ],
 "metadata": {
  "kernelspec": {
   "display_name": "mathdl",
   "language": "python",
   "name": "python3"
  },
  "language_info": {
   "codemirror_mode": {
    "name": "ipython",
    "version": 3
   },
   "file_extension": ".py",
   "mimetype": "text/x-python",
   "name": "python",
   "nbconvert_exporter": "python",
   "pygments_lexer": "ipython3",
   "version": "3.8.13"
  }
 },
 "nbformat": 4,
 "nbformat_minor": 5
}
