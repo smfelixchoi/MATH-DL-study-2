{
  "cells": [
    {
      "cell_type": "markdown",
      "metadata": {
        "id": "eAb9aTnzh7RD"
      },
      "source": [
        "# Simple ResNet Implementation (TensorFlow)\n",
        "\n"
      ]
    },
    {
      "cell_type": "markdown",
      "metadata": {
        "id": "aQ4wYyzyh7RF"
      },
      "source": [
        "## Residual Block\n",
        "\n",
        "<center><img src=\"./residual_block.png\" width=\"600\" height=\"250\"></center>\n",
        "\n",
        "- Left block: a building block of ResNet18, ResNet34\n",
        "- Right block: **Bottleneck block** of ResNet50, ResNet101, ResNet 152\n",
        "    - Call it 'bottleneck' because the number of channels in the feature map decreases and again increases.\n",
        "    - The change of channels: 256 $\\to$ 64 $\\to$ 256\n",
        "    - Deeper with more non-linearity\n",
        "\n",
        "### Bottleneck blocks are necessary in deeper models!\n",
        "\n",
        "Comparison of numbers of parameters\n",
        "- $(3 \\times 3 \\times 64) \\times 64 + (3 \\times 3 \\times 64) \\times 64 = 73,728$ params in basic blocks\n",
        "- $(1 \\times 1 \\times 256) \\times 64 + (3 \\times 3 \\times 64) \\times 64 + (1 \\times 1 \\times 64) \\times 256 = 69,632$ params in bottleneck blocks\n",
        "\n"
      ]
    },
    {
      "cell_type": "markdown",
      "metadata": {
        "id": "w37YqZBCh7RF"
      },
      "source": [
        "## Construct Residual Blocks"
      ]
    },
    {
      "cell_type": "code",
      "execution_count": 1,
      "metadata": {
        "id": "VwlQszReh7RG"
      },
      "outputs": [],
      "source": [
        "import numpy as np\n",
        "import matplotlib.pyplot as plt\n",
        "\n",
        "import tensorflow as tf\n",
        "from tensorflow.keras.layers import Input, Conv2D, Dense\n",
        "from tensorflow.keras.layers import BatchNormalization, GlobalAveragePooling2D\n",
        "from tensorflow.keras.layers import add\n",
        "from tensorflow.keras.activations import relu\n",
        "from tensorflow.keras.models import Model\n",
        "from tensorflow.keras.optimizers import Adam"
      ]
    },
    {
      "cell_type": "markdown",
      "metadata": {
        "id": "uwqKlI2nh7RG"
      },
      "source": [
        "### Basic Block"
      ]
    },
    {
      "cell_type": "code",
      "execution_count": 2,
      "metadata": {
        "id": "yTyG5oJHh7RH"
      },
      "outputs": [],
      "source": [
        "def make_basic_residual(num_filters, stride):\n",
        "    def f(x):\n",
        "        x = Conv2D(filters=num_filters,\n",
        "                   kernel_size=(3,3),\n",
        "                   strides=stride, padding='same',\n",
        "                   activation=None,\n",
        "                   use_bias=False, kernel_initializer='he_normal')(x)\n",
        "        x = BatchNormalization()(x)\n",
        "        x = relu(x)\n",
        "\n",
        "        x = Conv2D(filters=num_filters,\n",
        "                   kernel_size=(3,3),\n",
        "                   strides=1, padding='same',\n",
        "                   use_bias=False, kernel_initializer='he_normal')(x)\n",
        "        x = BatchNormalization()(x)\n",
        "\n",
        "        return x\n",
        "    return f\n",
        "\n",
        "def BasicBlock(num_filters, stride):\n",
        "    def f(x):\n",
        "        y = make_basic_residual(num_filters, stride)(x)\n",
        "\n",
        "        if stride!=1 or x.shape[-1] != num_filters:\n",
        "            x = Conv2D(filters=num_filters,\n",
        "                       kernel_size=(1,1),\n",
        "                       strides=stride, padding='same',\n",
        "                       activation=None,\n",
        "                       use_bias=True, kernel_initializer='he_normal')(x)\n",
        "        return relu(add([x,y]))\n",
        "    return f"
      ]
    },
    {
      "cell_type": "markdown",
      "metadata": {
        "id": "gGP3J86Rh7RH"
      },
      "source": [
        "### Bottleneck Block"
      ]
    },
    {
      "cell_type": "code",
      "execution_count": 3,
      "metadata": {
        "id": "5PnUy8R-h7RH"
      },
      "outputs": [],
      "source": [
        "def make_bottleneck_residual(num_filters, stride):\n",
        "    def f(x):\n",
        "        x = Conv2D(filters=num_filters//4,\n",
        "                   kernel_size=(1,1),\n",
        "                   strides=stride, padding='same',\n",
        "                   activation=None,\n",
        "                   use_bias=False, kernel_initializer='he_normal')(x)\n",
        "        x = BatchNormalization()(x)\n",
        "        x = relu(x)\n",
        "        x = Conv2D(filters=num_filters//4,\n",
        "                   kernel_size=(3,3),\n",
        "                   strides=1, padding='same',\n",
        "                   activation=None,\n",
        "                   use_bias=False, kernel_initializer='he_normal')(x)\n",
        "        x = BatchNormalization()(x)\n",
        "        x = relu(x)\n",
        "        x = Conv2D(filters=num_filters,\n",
        "                   kernel_size=(1,1),\n",
        "                   strides=1, padding='same',\n",
        "                   activation=None,\n",
        "                   use_bias=False, kernel_initializer='he_normal')(x)\n",
        "        x = BatchNormalization()(x)\n",
        "\n",
        "        return x\n",
        "    return f\n",
        "\n",
        "def BottleneckBlock(num_filters, stride):\n",
        "    def f(x):\n",
        "        y = make_bottleneck_residual(num_filters, stride)(x)\n",
        "\n",
        "        if stride!=1 or x.shape[-1] != num_filters:\n",
        "            x = Conv2D(filters=num_filters,\n",
        "                       kernel_size=(1,1),\n",
        "                       strides=stride, padding='same',\n",
        "                       activation=None,\n",
        "                       use_bias=True, kernel_initializer='he_normal')(x)\n",
        "\n",
        "        return relu(add([x,y]))\n",
        "    return f"
      ]
    },
    {
      "cell_type": "markdown",
      "metadata": {
        "id": "z66ebv47h7RH"
      },
      "source": [
        "## Construct Simple ResNet"
      ]
    },
    {
      "cell_type": "code",
      "execution_count": 4,
      "metadata": {
        "id": "Zbbc7gV6h7RI"
      },
      "outputs": [],
      "source": [
        "def make_simple_ResNet(input_shape, channels, block:str, num_classes:int):\n",
        "\n",
        "    input_tensor=Input(input_shape)\n",
        "    x = Conv2D(filters=channels[0], kernel_size=(3,3), padding='same',\n",
        "               activation=None, use_bias=False, kernel_initializer='he_uniform')(input_tensor)\n",
        "    x = BatchNormalization()(x)\n",
        "    x = relu(x)\n",
        "\n",
        "    if block=='basic':\n",
        "        x = BasicBlock(channels[0], stride=1)(x)\n",
        "        x = BasicBlock(channels[1], stride=2)(x)\n",
        "        x = BasicBlock(channels[2], stride=2)(x)\n",
        "        x = BasicBlock(channels[3], stride=2)(x)\n",
        "        x = BasicBlock(channels[4], stride=2)(x)\n",
        "\n",
        "    elif block == 'bottleneck':\n",
        "        x = BottleneckBlock(channels[0], stride=1)(x)\n",
        "        x = BottleneckBlock(channels[1], stride=2)(x)\n",
        "        x = BottleneckBlock(channels[2], stride=2)(x)\n",
        "        x = BottleneckBlock(channels[3], stride=2)(x)\n",
        "        x = BottleneckBlock(channels[4], stride=2)(x)\n",
        "\n",
        "    else:\n",
        "        raise ValueError\n",
        "\n",
        "    x = GlobalAveragePooling2D()(x)\n",
        "\n",
        "    x = Dense(channels[4]//4, activation=None, use_bias=False, kernel_initializer='he_uniform')(x)\n",
        "    x = BatchNormalization()(x)\n",
        "    x = relu(x)\n",
        "    x = Dense(num_classes, activation='softmax')(x)\n",
        "\n",
        "    model = Model(inputs=input_tensor, outputs=x)\n",
        "\n",
        "    return model"
      ]
    },
    {
      "cell_type": "markdown",
      "metadata": {
        "id": "OeNdoKthh7RI"
      },
      "source": [
        "## Load CIFAR-10 data"
      ]
    },
    {
      "cell_type": "code",
      "execution_count": 5,
      "metadata": {
        "id": "c4vqm5GUh7RI"
      },
      "outputs": [],
      "source": [
        "import numpy as np\n",
        "from tensorflow.keras.datasets.cifar10 import load_data"
      ]
    },
    {
      "cell_type": "code",
      "execution_count": 6,
      "metadata": {
        "colab": {
          "base_uri": "https://localhost:8080/"
        },
        "id": "gsx75RgUh7RI",
        "outputId": "816427a6-d552-453c-ec76-701b9df25b6b"
      },
      "outputs": [
        {
          "output_type": "stream",
          "name": "stdout",
          "text": [
            "Downloading data from https://www.cs.toronto.edu/~kriz/cifar-10-python.tar.gz\n",
            "170498071/170498071 [==============================] - 3s 0us/step\n",
            "train dataset shape:  (50000, 32, 32, 3)\n",
            "test dataset shape :  (10000, 32, 32, 3)\n",
            "train labels shape :  (50000, 1)\n",
            "test labels shape  :  (10000, 1)\n",
            "Number of classes  :  10\n"
          ]
        }
      ],
      "source": [
        "(trainX, trainY), (testX, testY) = load_data()\n",
        "\n",
        "n_classes = len(np.unique(trainY))\n",
        "\n",
        "print('train dataset shape: ', trainX.shape)\n",
        "print('test dataset shape : ', testX.shape)\n",
        "print('train labels shape : ', trainY.shape)\n",
        "print('test labels shape  : ', testY.shape)\n",
        "\n",
        "print('Number of classes  : ', n_classes)"
      ]
    },
    {
      "cell_type": "code",
      "execution_count": 7,
      "metadata": {
        "colab": {
          "base_uri": "https://localhost:8080/"
        },
        "id": "ji-7r_E9h7RJ",
        "outputId": "58e47031-8dfa-420c-9662-c6e90cd45f5c"
      },
      "outputs": [
        {
          "output_type": "stream",
          "name": "stdout",
          "text": [
            "Number of Training data: 45000\n",
            "Number of Validation data: 5000\n"
          ]
        }
      ],
      "source": [
        "train_num = int(len(trainX)*0.9)\n",
        "valid_num = len(trainX) - train_num\n",
        "\n",
        "print('Number of Training data:', train_num)\n",
        "print('Number of Validation data:', valid_num)\n",
        "\n",
        "p = np.random.permutation(len(trainX))\n",
        "\n",
        "trainX = trainX[p]\n",
        "trainY = trainY[p]\n",
        "\n",
        "validX = trainX[-valid_num:] / 255\n",
        "validY = trainY[-valid_num:]\n",
        "\n",
        "trainX = trainX[:train_num] / 255\n",
        "trainY = trainY[:train_num]\n",
        "\n",
        "testX = testX / 255\n",
        "testY = testY"
      ]
    },
    {
      "cell_type": "markdown",
      "metadata": {
        "id": "GRkfCx0Bh7RJ"
      },
      "source": [
        "## Train Model"
      ]
    },
    {
      "cell_type": "code",
      "execution_count": 8,
      "metadata": {
        "id": "J8mfNTRgh7RJ"
      },
      "outputs": [],
      "source": [
        "basic_model = make_simple_ResNet(input_shape=trainX.shape[1:], channels=[16,32,64,128,256], block='basic', num_classes=n_classes)\n",
        "\n",
        "optimizer = Adam()\n",
        "basic_model.compile(optimizer=optimizer, loss='sparse_categorical_crossentropy', metrics=['accuracy'])\n"
      ]
    },
    {
      "cell_type": "code",
      "execution_count": 9,
      "metadata": {
        "colab": {
          "base_uri": "https://localhost:8080/"
        },
        "id": "YgrIFIgUh7RK",
        "outputId": "bf2a8a5f-d029-4a56-b91c-4e6521d154e7"
      },
      "outputs": [
        {
          "output_type": "stream",
          "name": "stdout",
          "text": [
            "Model: \"model\"\n",
            "__________________________________________________________________________________________________\n",
            " Layer (type)                   Output Shape         Param #     Connected to                     \n",
            "==================================================================================================\n",
            " input_1 (InputLayer)           [(None, 32, 32, 3)]  0           []                               \n",
            "                                                                                                  \n",
            " conv2d (Conv2D)                (None, 32, 32, 16)   432         ['input_1[0][0]']                \n",
            "                                                                                                  \n",
            " batch_normalization (BatchNorm  (None, 32, 32, 16)  64          ['conv2d[0][0]']                 \n",
            " alization)                                                                                       \n",
            "                                                                                                  \n",
            " tf.nn.relu (TFOpLambda)        (None, 32, 32, 16)   0           ['batch_normalization[0][0]']    \n",
            "                                                                                                  \n",
            " conv2d_1 (Conv2D)              (None, 32, 32, 16)   2304        ['tf.nn.relu[0][0]']             \n",
            "                                                                                                  \n",
            " batch_normalization_1 (BatchNo  (None, 32, 32, 16)  64          ['conv2d_1[0][0]']               \n",
            " rmalization)                                                                                     \n",
            "                                                                                                  \n",
            " tf.nn.relu_1 (TFOpLambda)      (None, 32, 32, 16)   0           ['batch_normalization_1[0][0]']  \n",
            "                                                                                                  \n",
            " conv2d_2 (Conv2D)              (None, 32, 32, 16)   2304        ['tf.nn.relu_1[0][0]']           \n",
            "                                                                                                  \n",
            " batch_normalization_2 (BatchNo  (None, 32, 32, 16)  64          ['conv2d_2[0][0]']               \n",
            " rmalization)                                                                                     \n",
            "                                                                                                  \n",
            " add (Add)                      (None, 32, 32, 16)   0           ['tf.nn.relu[0][0]',             \n",
            "                                                                  'batch_normalization_2[0][0]']  \n",
            "                                                                                                  \n",
            " tf.nn.relu_2 (TFOpLambda)      (None, 32, 32, 16)   0           ['add[0][0]']                    \n",
            "                                                                                                  \n",
            " conv2d_3 (Conv2D)              (None, 16, 16, 32)   4608        ['tf.nn.relu_2[0][0]']           \n",
            "                                                                                                  \n",
            " batch_normalization_3 (BatchNo  (None, 16, 16, 32)  128         ['conv2d_3[0][0]']               \n",
            " rmalization)                                                                                     \n",
            "                                                                                                  \n",
            " tf.nn.relu_3 (TFOpLambda)      (None, 16, 16, 32)   0           ['batch_normalization_3[0][0]']  \n",
            "                                                                                                  \n",
            " conv2d_4 (Conv2D)              (None, 16, 16, 32)   9216        ['tf.nn.relu_3[0][0]']           \n",
            "                                                                                                  \n",
            " conv2d_5 (Conv2D)              (None, 16, 16, 32)   544         ['tf.nn.relu_2[0][0]']           \n",
            "                                                                                                  \n",
            " batch_normalization_4 (BatchNo  (None, 16, 16, 32)  128         ['conv2d_4[0][0]']               \n",
            " rmalization)                                                                                     \n",
            "                                                                                                  \n",
            " add_1 (Add)                    (None, 16, 16, 32)   0           ['conv2d_5[0][0]',               \n",
            "                                                                  'batch_normalization_4[0][0]']  \n",
            "                                                                                                  \n",
            " tf.nn.relu_4 (TFOpLambda)      (None, 16, 16, 32)   0           ['add_1[0][0]']                  \n",
            "                                                                                                  \n",
            " conv2d_6 (Conv2D)              (None, 8, 8, 64)     18432       ['tf.nn.relu_4[0][0]']           \n",
            "                                                                                                  \n",
            " batch_normalization_5 (BatchNo  (None, 8, 8, 64)    256         ['conv2d_6[0][0]']               \n",
            " rmalization)                                                                                     \n",
            "                                                                                                  \n",
            " tf.nn.relu_5 (TFOpLambda)      (None, 8, 8, 64)     0           ['batch_normalization_5[0][0]']  \n",
            "                                                                                                  \n",
            " conv2d_7 (Conv2D)              (None, 8, 8, 64)     36864       ['tf.nn.relu_5[0][0]']           \n",
            "                                                                                                  \n",
            " conv2d_8 (Conv2D)              (None, 8, 8, 64)     2112        ['tf.nn.relu_4[0][0]']           \n",
            "                                                                                                  \n",
            " batch_normalization_6 (BatchNo  (None, 8, 8, 64)    256         ['conv2d_7[0][0]']               \n",
            " rmalization)                                                                                     \n",
            "                                                                                                  \n",
            " add_2 (Add)                    (None, 8, 8, 64)     0           ['conv2d_8[0][0]',               \n",
            "                                                                  'batch_normalization_6[0][0]']  \n",
            "                                                                                                  \n",
            " tf.nn.relu_6 (TFOpLambda)      (None, 8, 8, 64)     0           ['add_2[0][0]']                  \n",
            "                                                                                                  \n",
            " conv2d_9 (Conv2D)              (None, 4, 4, 128)    73728       ['tf.nn.relu_6[0][0]']           \n",
            "                                                                                                  \n",
            " batch_normalization_7 (BatchNo  (None, 4, 4, 128)   512         ['conv2d_9[0][0]']               \n",
            " rmalization)                                                                                     \n",
            "                                                                                                  \n",
            " tf.nn.relu_7 (TFOpLambda)      (None, 4, 4, 128)    0           ['batch_normalization_7[0][0]']  \n",
            "                                                                                                  \n",
            " conv2d_10 (Conv2D)             (None, 4, 4, 128)    147456      ['tf.nn.relu_7[0][0]']           \n",
            "                                                                                                  \n",
            " conv2d_11 (Conv2D)             (None, 4, 4, 128)    8320        ['tf.nn.relu_6[0][0]']           \n",
            "                                                                                                  \n",
            " batch_normalization_8 (BatchNo  (None, 4, 4, 128)   512         ['conv2d_10[0][0]']              \n",
            " rmalization)                                                                                     \n",
            "                                                                                                  \n",
            " add_3 (Add)                    (None, 4, 4, 128)    0           ['conv2d_11[0][0]',              \n",
            "                                                                  'batch_normalization_8[0][0]']  \n",
            "                                                                                                  \n",
            " tf.nn.relu_8 (TFOpLambda)      (None, 4, 4, 128)    0           ['add_3[0][0]']                  \n",
            "                                                                                                  \n",
            " conv2d_12 (Conv2D)             (None, 2, 2, 256)    294912      ['tf.nn.relu_8[0][0]']           \n",
            "                                                                                                  \n",
            " batch_normalization_9 (BatchNo  (None, 2, 2, 256)   1024        ['conv2d_12[0][0]']              \n",
            " rmalization)                                                                                     \n",
            "                                                                                                  \n",
            " tf.nn.relu_9 (TFOpLambda)      (None, 2, 2, 256)    0           ['batch_normalization_9[0][0]']  \n",
            "                                                                                                  \n",
            " conv2d_13 (Conv2D)             (None, 2, 2, 256)    589824      ['tf.nn.relu_9[0][0]']           \n",
            "                                                                                                  \n",
            " conv2d_14 (Conv2D)             (None, 2, 2, 256)    33024       ['tf.nn.relu_8[0][0]']           \n",
            "                                                                                                  \n",
            " batch_normalization_10 (BatchN  (None, 2, 2, 256)   1024        ['conv2d_13[0][0]']              \n",
            " ormalization)                                                                                    \n",
            "                                                                                                  \n",
            " add_4 (Add)                    (None, 2, 2, 256)    0           ['conv2d_14[0][0]',              \n",
            "                                                                  'batch_normalization_10[0][0]'] \n",
            "                                                                                                  \n",
            " tf.nn.relu_10 (TFOpLambda)     (None, 2, 2, 256)    0           ['add_4[0][0]']                  \n",
            "                                                                                                  \n",
            " global_average_pooling2d (Glob  (None, 256)         0           ['tf.nn.relu_10[0][0]']          \n",
            " alAveragePooling2D)                                                                              \n",
            "                                                                                                  \n",
            " dense (Dense)                  (None, 64)           16384       ['global_average_pooling2d[0][0]'\n",
            "                                                                 ]                                \n",
            "                                                                                                  \n",
            " batch_normalization_11 (BatchN  (None, 64)          256         ['dense[0][0]']                  \n",
            " ormalization)                                                                                    \n",
            "                                                                                                  \n",
            " tf.nn.relu_11 (TFOpLambda)     (None, 64)           0           ['batch_normalization_11[0][0]'] \n",
            "                                                                                                  \n",
            " dense_1 (Dense)                (None, 10)           650         ['tf.nn.relu_11[0][0]']          \n",
            "                                                                                                  \n",
            "==================================================================================================\n",
            "Total params: 1,245,402\n",
            "Trainable params: 1,243,258\n",
            "Non-trainable params: 2,144\n",
            "__________________________________________________________________________________________________\n"
          ]
        }
      ],
      "source": [
        "basic_model.summary()"
      ]
    },
    {
      "cell_type": "code",
      "execution_count": 10,
      "metadata": {
        "colab": {
          "base_uri": "https://localhost:8080/"
        },
        "id": "Y8oxdWDPh7RK",
        "outputId": "3aa82fc6-5733-4925-ed28-e75bef541038"
      },
      "outputs": [
        {
          "output_type": "stream",
          "name": "stdout",
          "text": [
            "\n",
            "Epoch 1: LearningRateScheduler setting learning rate to 0.01.\n",
            "Epoch 1/20\n",
            "352/352 [==============================] - 29s 21ms/step - loss: 1.4753 - accuracy: 0.4607 - val_loss: 1.5833 - val_accuracy: 0.4972 - lr: 0.0100\n",
            "\n",
            "Epoch 2: LearningRateScheduler setting learning rate to 0.0097.\n",
            "Epoch 2/20\n",
            "352/352 [==============================] - 6s 17ms/step - loss: 1.0656 - accuracy: 0.6171 - val_loss: 1.1905 - val_accuracy: 0.5956 - lr: 0.0097\n",
            "\n",
            "Epoch 3: LearningRateScheduler setting learning rate to 0.009408999999999999.\n",
            "Epoch 3/20\n",
            "352/352 [==============================] - 6s 17ms/step - loss: 0.8639 - accuracy: 0.6931 - val_loss: 1.4554 - val_accuracy: 0.5690 - lr: 0.0094\n",
            "\n",
            "Epoch 4: LearningRateScheduler setting learning rate to 0.00912673.\n",
            "Epoch 4/20\n",
            "352/352 [==============================] - 6s 17ms/step - loss: 0.7218 - accuracy: 0.7475 - val_loss: 0.9882 - val_accuracy: 0.6712 - lr: 0.0091\n",
            "\n",
            "Epoch 5: LearningRateScheduler setting learning rate to 0.008852928099999999.\n",
            "Epoch 5/20\n",
            "352/352 [==============================] - 6s 17ms/step - loss: 0.6038 - accuracy: 0.7879 - val_loss: 0.9455 - val_accuracy: 0.6844 - lr: 0.0089\n",
            "\n",
            "Epoch 6: LearningRateScheduler setting learning rate to 0.0042936701285.\n",
            "Epoch 6/20\n",
            "352/352 [==============================] - 6s 17ms/step - loss: 0.3961 - accuracy: 0.8616 - val_loss: 0.7573 - val_accuracy: 0.7540 - lr: 0.0043\n",
            "\n",
            "Epoch 7: LearningRateScheduler setting learning rate to 0.004164860024644999.\n",
            "Epoch 7/20\n",
            "352/352 [==============================] - 6s 18ms/step - loss: 0.2843 - accuracy: 0.9032 - val_loss: 0.8333 - val_accuracy: 0.7456 - lr: 0.0042\n",
            "\n",
            "Epoch 8: LearningRateScheduler setting learning rate to 0.004039914223905649.\n",
            "Epoch 8/20\n",
            "352/352 [==============================] - 7s 19ms/step - loss: 0.2000 - accuracy: 0.9303 - val_loss: 0.9405 - val_accuracy: 0.7464 - lr: 0.0040\n",
            "\n",
            "Epoch 9: LearningRateScheduler setting learning rate to 0.003918716797188479.\n",
            "Epoch 9/20\n",
            "352/352 [==============================] - 6s 17ms/step - loss: 0.1436 - accuracy: 0.9501 - val_loss: 1.0944 - val_accuracy: 0.7342 - lr: 0.0039\n",
            "\n",
            "Epoch 10: LearningRateScheduler setting learning rate to 0.0038011552932728254.\n",
            "Epoch 10/20\n",
            "352/352 [==============================] - 7s 20ms/step - loss: 0.1076 - accuracy: 0.9632 - val_loss: 1.0826 - val_accuracy: 0.7550 - lr: 0.0038\n",
            "\n",
            "Epoch 11: LearningRateScheduler setting learning rate to 0.0018435603172373203.\n",
            "Epoch 11/20\n",
            "352/352 [==============================] - 6s 17ms/step - loss: 0.0366 - accuracy: 0.9888 - val_loss: 1.0847 - val_accuracy: 0.7740 - lr: 0.0018\n",
            "\n",
            "Epoch 12: LearningRateScheduler setting learning rate to 0.0017882535077202006.\n",
            "Epoch 12/20\n",
            "352/352 [==============================] - 6s 18ms/step - loss: 0.0123 - accuracy: 0.9972 - val_loss: 1.1602 - val_accuracy: 0.7776 - lr: 0.0018\n",
            "\n",
            "Epoch 13: LearningRateScheduler setting learning rate to 0.0017346059024885944.\n",
            "Epoch 13/20\n",
            "352/352 [==============================] - 6s 17ms/step - loss: 0.0063 - accuracy: 0.9989 - val_loss: 1.2235 - val_accuracy: 0.7702 - lr: 0.0017\n",
            "\n",
            "Epoch 14: LearningRateScheduler setting learning rate to 0.0016825677254139366.\n",
            "Epoch 14/20\n",
            "352/352 [==============================] - 6s 18ms/step - loss: 0.0047 - accuracy: 0.9992 - val_loss: 1.2642 - val_accuracy: 0.7762 - lr: 0.0017\n",
            "\n",
            "Epoch 15: LearningRateScheduler setting learning rate to 0.0016320906936515185.\n",
            "Epoch 15/20\n",
            "352/352 [==============================] - 6s 17ms/step - loss: 0.0039 - accuracy: 0.9993 - val_loss: 1.4021 - val_accuracy: 0.7670 - lr: 0.0016\n",
            "\n",
            "Epoch 16: LearningRateScheduler setting learning rate to 0.0007915639864209865.\n",
            "Epoch 16/20\n",
            "352/352 [==============================] - 6s 18ms/step - loss: 0.0029 - accuracy: 0.9995 - val_loss: 1.3619 - val_accuracy: 0.7730 - lr: 7.9156e-04\n",
            "\n",
            "Epoch 17: LearningRateScheduler setting learning rate to 0.0007678170668283568.\n",
            "Epoch 17/20\n",
            "352/352 [==============================] - 6s 17ms/step - loss: 0.0016 - accuracy: 0.9998 - val_loss: 1.3855 - val_accuracy: 0.7714 - lr: 7.6782e-04\n",
            "\n",
            "Epoch 18: LearningRateScheduler setting learning rate to 0.0007447825548235061.\n",
            "Epoch 18/20\n",
            "352/352 [==============================] - 6s 17ms/step - loss: 8.8702e-04 - accuracy: 1.0000 - val_loss: 1.3848 - val_accuracy: 0.7714 - lr: 7.4478e-04\n",
            "\n",
            "Epoch 19: LearningRateScheduler setting learning rate to 0.000722439078178801.\n",
            "Epoch 19/20\n",
            "352/352 [==============================] - 6s 17ms/step - loss: 7.2733e-04 - accuracy: 1.0000 - val_loss: 1.4017 - val_accuracy: 0.7742 - lr: 7.2244e-04\n",
            "\n",
            "Epoch 20: LearningRateScheduler setting learning rate to 0.0007007659058334369.\n",
            "Epoch 20/20\n",
            "352/352 [==============================] - 6s 18ms/step - loss: 8.8396e-04 - accuracy: 0.9999 - val_loss: 1.4374 - val_accuracy: 0.7736 - lr: 7.0077e-04\n"
          ]
        }
      ],
      "source": [
        "from tensorflow.keras.callbacks import LearningRateScheduler\n",
        "\n",
        "EPOCHS=20\n",
        "LR = LearningRateScheduler(lambda epoch: 0.01*(0.5**int(epoch//5))*(0.97 ** epoch), verbose=1)\n",
        "\n",
        "history=basic_model.fit(trainX, trainY, batch_size=128, epochs=EPOCHS, validation_data=(validX, validY), callbacks=[LR])"
      ]
    },
    {
      "cell_type": "code",
      "execution_count": 11,
      "metadata": {
        "colab": {
          "base_uri": "https://localhost:8080/"
        },
        "id": "evhlgceeh7RK",
        "outputId": "23266a68-39fa-477f-ddb6-1417356f5b68"
      },
      "outputs": [
        {
          "output_type": "stream",
          "name": "stdout",
          "text": [
            "313/313 [==============================] - 2s 5ms/step - loss: 1.4751 - accuracy: 0.7718\n"
          ]
        }
      ],
      "source": [
        "test_loss, test_acc = basic_model.evaluate(testX, testY, verbose=1)"
      ]
    },
    {
      "cell_type": "markdown",
      "metadata": {
        "id": "JYVChevqh7RK"
      },
      "source": [
        "## Plot Training Loss and Validation loss"
      ]
    },
    {
      "cell_type": "code",
      "execution_count": 15,
      "metadata": {
        "colab": {
          "base_uri": "https://localhost:8080/",
          "height": 430
        },
        "id": "UZ4TwMSNh7RK",
        "outputId": "1fdc32e7-2114-4bb3-b418-67b5912444ec"
      },
      "outputs": [
        {
          "output_type": "display_data",
          "data": {
            "text/plain": [
              "<Figure size 640x480 with 1 Axes>"
            ],
            "image/png": "[encoded data removed]"
          },
          "metadata": {}
        }
      ],
      "source": [
        "plt.figure()\n",
        "plt.plot(np.arange(1, EPOCHS+1), history.history['loss'], label='Training Loss')\n",
        "plt.plot(np.arange(1, EPOCHS+1), history.history['val_loss'], label='Validation Loss')\n",
        "plt.legend()\n",
        "plt.show()"
      ]
    },
    {
      "cell_type": "code",
      "execution_count": 17,
      "metadata": {
        "colab": {
          "base_uri": "https://localhost:8080/",
          "height": 430
        },
        "id": "EXaxpY_Eh7RL",
        "outputId": "a065412e-dc8d-42e6-84a7-99e5afeb1588"
      },
      "outputs": [
        {
          "output_type": "display_data",
          "data": {
            "text/plain": [
              "<Figure size 640x480 with 1 Axes>"
            ],
            "image/png": "[encoded data removed]"
          },
          "metadata": {}
        }
      ],
      "source": [
        "plt.figure()\n",
        "plt.plot(np.arange(1, EPOCHS+1), history.history['accuracy'], label='Training accuracy')\n",
        "plt.plot(np.arange(1, EPOCHS+1), history.history['val_accuracy'], label='Validation accuracy')\n",
        "plt.legend()\n",
        "plt.show()"
      ]
    },
    {
      "cell_type": "markdown",
      "source": [
        "## Overfitting!\n",
        "\n",
        "- How can we alleviate overfitting problem?\n",
        "    - Dropout might help."
      ],
      "metadata": {
        "id": "MjVjei0cj0Tw"
      }
    },
    {
      "cell_type": "code",
      "source": [
        "from tensorflow.keras.layers import SpatialDropout2D"
      ],
      "metadata": {
        "id": "2L7m1lGikiLt"
      },
      "execution_count": 18,
      "outputs": []
    },
    {
      "cell_type": "code",
      "execution_count": 19,
      "metadata": {
        "id": "8DtmuF_9h7RL"
      },
      "outputs": [],
      "source": [
        "def make_simple_ResNet_dropout(input_shape, channels, block:str, num_classes:int, dropout_rate):\n",
        "\n",
        "    input_tensor=Input(input_shape)\n",
        "    x = Conv2D(filters=channels[0], kernel_size=(3,3), padding='same',\n",
        "               activation=None, use_bias=False, kernel_initializer='he_uniform')(input_tensor)\n",
        "    x = BatchNormalization()(x)\n",
        "    x = relu(x)\n",
        "\n",
        "    if block=='basic':\n",
        "        x = BasicBlock(channels[0], stride=1)(x)\n",
        "        x = BasicBlock(channels[1], stride=2)(x)\n",
        "        x = SpatialDropout2D(rate=dropout_rate)(x)\n",
        "        x = BasicBlock(channels[2], stride=2)(x)\n",
        "        x = SpatialDropout2D(rate=dropout_rate)(x)\n",
        "        x = BasicBlock(channels[3], stride=2)(x)\n",
        "        x = SpatialDropout2D(rate=dropout_rate)(x)\n",
        "        x = BasicBlock(channels[4], stride=2)(x)\n",
        "\n",
        "    elif block == 'bottleneck':\n",
        "        x = BottleneckBlock(channels[0], stride=1)(x)\n",
        "        x = BottleneckBlock(channels[1], stride=2)(x)\n",
        "        x = SpatialDropout2D(rate=dropout_rate)(x)\n",
        "        x = BottleneckBlock(channels[2], stride=2)(x)\n",
        "        x = SpatialDropout2D(rate=dropout_rate)(x)\n",
        "        x = BottleneckBlock(channels[3], stride=2)(x)\n",
        "        x = SpatialDropout2D(rate=dropout_rate)(x)\n",
        "        x = BottleneckBlock(channels[4], stride=2)(x)\n",
        "\n",
        "    else:\n",
        "        raise ValueError\n",
        "\n",
        "    x = GlobalAveragePooling2D()(x)\n",
        "\n",
        "    x = Dense(channels[4]//4, activation=None, use_bias=False, kernel_initializer='he_uniform')(x)\n",
        "    x = BatchNormalization()(x)\n",
        "    x = relu(x)\n",
        "    x = Dense(num_classes, activation='softmax')(x)\n",
        "\n",
        "    model = Model(inputs=input_tensor, outputs=x)\n",
        "\n",
        "    return model"
      ]
    },
    {
      "cell_type": "code",
      "source": [
        "basic_model_dropout = make_simple_ResNet_dropout(input_shape=trainX.shape[1:], channels=[16,32,64,128,256],\n",
        "                                                 block='basic', num_classes=n_classes, dropout_rate=0.5)\n",
        "\n",
        "optimizer = Adam()\n",
        "basic_model_dropout.compile(optimizer=optimizer, loss='sparse_categorical_crossentropy', metrics=['accuracy'])\n"
      ],
      "metadata": {
        "id": "JfVGC_51kzVr"
      },
      "execution_count": 20,
      "outputs": []
    },
    {
      "cell_type": "code",
      "source": [
        "basic_model_dropout.summary()"
      ],
      "metadata": {
        "colab": {
          "base_uri": "https://localhost:8080/"
        },
        "id": "6fOmh79Ik78K",
        "outputId": "2e0d574a-6eda-4a0b-fc12-66b9c740f439"
      },
      "execution_count": 22,
      "outputs": [
        {
          "output_type": "stream",
          "name": "stdout",
          "text": [
            "Model: \"model_1\"\n",
            "__________________________________________________________________________________________________\n",
            " Layer (type)                   Output Shape         Param #     Connected to                     \n",
            "==================================================================================================\n",
            " input_2 (InputLayer)           [(None, 32, 32, 3)]  0           []                               \n",
            "                                                                                                  \n",
            " conv2d_15 (Conv2D)             (None, 32, 32, 16)   432         ['input_2[0][0]']                \n",
            "                                                                                                  \n",
            " batch_normalization_12 (BatchN  (None, 32, 32, 16)  64          ['conv2d_15[0][0]']              \n",
            " ormalization)                                                                                    \n",
            "                                                                                                  \n",
            " tf.nn.relu_12 (TFOpLambda)     (None, 32, 32, 16)   0           ['batch_normalization_12[0][0]'] \n",
            "                                                                                                  \n",
            " conv2d_16 (Conv2D)             (None, 32, 32, 16)   2304        ['tf.nn.relu_12[0][0]']          \n",
            "                                                                                                  \n",
            " batch_normalization_13 (BatchN  (None, 32, 32, 16)  64          ['conv2d_16[0][0]']              \n",
            " ormalization)                                                                                    \n",
            "                                                                                                  \n",
            " tf.nn.relu_13 (TFOpLambda)     (None, 32, 32, 16)   0           ['batch_normalization_13[0][0]'] \n",
            "                                                                                                  \n",
            " conv2d_17 (Conv2D)             (None, 32, 32, 16)   2304        ['tf.nn.relu_13[0][0]']          \n",
            "                                                                                                  \n",
            " batch_normalization_14 (BatchN  (None, 32, 32, 16)  64          ['conv2d_17[0][0]']              \n",
            " ormalization)                                                                                    \n",
            "                                                                                                  \n",
            " add_5 (Add)                    (None, 32, 32, 16)   0           ['tf.nn.relu_12[0][0]',          \n",
            "                                                                  'batch_normalization_14[0][0]'] \n",
            "                                                                                                  \n",
            " tf.nn.relu_14 (TFOpLambda)     (None, 32, 32, 16)   0           ['add_5[0][0]']                  \n",
            "                                                                                                  \n",
            " conv2d_18 (Conv2D)             (None, 16, 16, 32)   4608        ['tf.nn.relu_14[0][0]']          \n",
            "                                                                                                  \n",
            " batch_normalization_15 (BatchN  (None, 16, 16, 32)  128         ['conv2d_18[0][0]']              \n",
            " ormalization)                                                                                    \n",
            "                                                                                                  \n",
            " tf.nn.relu_15 (TFOpLambda)     (None, 16, 16, 32)   0           ['batch_normalization_15[0][0]'] \n",
            "                                                                                                  \n",
            " conv2d_19 (Conv2D)             (None, 16, 16, 32)   9216        ['tf.nn.relu_15[0][0]']          \n",
            "                                                                                                  \n",
            " conv2d_20 (Conv2D)             (None, 16, 16, 32)   544         ['tf.nn.relu_14[0][0]']          \n",
            "                                                                                                  \n",
            " batch_normalization_16 (BatchN  (None, 16, 16, 32)  128         ['conv2d_19[0][0]']              \n",
            " ormalization)                                                                                    \n",
            "                                                                                                  \n",
            " add_6 (Add)                    (None, 16, 16, 32)   0           ['conv2d_20[0][0]',              \n",
            "                                                                  'batch_normalization_16[0][0]'] \n",
            "                                                                                                  \n",
            " tf.nn.relu_16 (TFOpLambda)     (None, 16, 16, 32)   0           ['add_6[0][0]']                  \n",
            "                                                                                                  \n",
            " spatial_dropout2d (SpatialDrop  (None, 16, 16, 32)  0           ['tf.nn.relu_16[0][0]']          \n",
            " out2D)                                                                                           \n",
            "                                                                                                  \n",
            " conv2d_21 (Conv2D)             (None, 8, 8, 64)     18432       ['spatial_dropout2d[0][0]']      \n",
            "                                                                                                  \n",
            " batch_normalization_17 (BatchN  (None, 8, 8, 64)    256         ['conv2d_21[0][0]']              \n",
            " ormalization)                                                                                    \n",
            "                                                                                                  \n",
            " tf.nn.relu_17 (TFOpLambda)     (None, 8, 8, 64)     0           ['batch_normalization_17[0][0]'] \n",
            "                                                                                                  \n",
            " conv2d_22 (Conv2D)             (None, 8, 8, 64)     36864       ['tf.nn.relu_17[0][0]']          \n",
            "                                                                                                  \n",
            " conv2d_23 (Conv2D)             (None, 8, 8, 64)     2112        ['spatial_dropout2d[0][0]']      \n",
            "                                                                                                  \n",
            " batch_normalization_18 (BatchN  (None, 8, 8, 64)    256         ['conv2d_22[0][0]']              \n",
            " ormalization)                                                                                    \n",
            "                                                                                                  \n",
            " add_7 (Add)                    (None, 8, 8, 64)     0           ['conv2d_23[0][0]',              \n",
            "                                                                  'batch_normalization_18[0][0]'] \n",
            "                                                                                                  \n",
            " tf.nn.relu_18 (TFOpLambda)     (None, 8, 8, 64)     0           ['add_7[0][0]']                  \n",
            "                                                                                                  \n",
            " spatial_dropout2d_1 (SpatialDr  (None, 8, 8, 64)    0           ['tf.nn.relu_18[0][0]']          \n",
            " opout2D)                                                                                         \n",
            "                                                                                                  \n",
            " conv2d_24 (Conv2D)             (None, 4, 4, 128)    73728       ['spatial_dropout2d_1[0][0]']    \n",
            "                                                                                                  \n",
            " batch_normalization_19 (BatchN  (None, 4, 4, 128)   512         ['conv2d_24[0][0]']              \n",
            " ormalization)                                                                                    \n",
            "                                                                                                  \n",
            " tf.nn.relu_19 (TFOpLambda)     (None, 4, 4, 128)    0           ['batch_normalization_19[0][0]'] \n",
            "                                                                                                  \n",
            " conv2d_25 (Conv2D)             (None, 4, 4, 128)    147456      ['tf.nn.relu_19[0][0]']          \n",
            "                                                                                                  \n",
            " conv2d_26 (Conv2D)             (None, 4, 4, 128)    8320        ['spatial_dropout2d_1[0][0]']    \n",
            "                                                                                                  \n",
            " batch_normalization_20 (BatchN  (None, 4, 4, 128)   512         ['conv2d_25[0][0]']              \n",
            " ormalization)                                                                                    \n",
            "                                                                                                  \n",
            " add_8 (Add)                    (None, 4, 4, 128)    0           ['conv2d_26[0][0]',              \n",
            "                                                                  'batch_normalization_20[0][0]'] \n",
            "                                                                                                  \n",
            " tf.nn.relu_20 (TFOpLambda)     (None, 4, 4, 128)    0           ['add_8[0][0]']                  \n",
            "                                                                                                  \n",
            " spatial_dropout2d_2 (SpatialDr  (None, 4, 4, 128)   0           ['tf.nn.relu_20[0][0]']          \n",
            " opout2D)                                                                                         \n",
            "                                                                                                  \n",
            " conv2d_27 (Conv2D)             (None, 2, 2, 256)    294912      ['spatial_dropout2d_2[0][0]']    \n",
            "                                                                                                  \n",
            " batch_normalization_21 (BatchN  (None, 2, 2, 256)   1024        ['conv2d_27[0][0]']              \n",
            " ormalization)                                                                                    \n",
            "                                                                                                  \n",
            " tf.nn.relu_21 (TFOpLambda)     (None, 2, 2, 256)    0           ['batch_normalization_21[0][0]'] \n",
            "                                                                                                  \n",
            " conv2d_28 (Conv2D)             (None, 2, 2, 256)    589824      ['tf.nn.relu_21[0][0]']          \n",
            "                                                                                                  \n",
            " conv2d_29 (Conv2D)             (None, 2, 2, 256)    33024       ['spatial_dropout2d_2[0][0]']    \n",
            "                                                                                                  \n",
            " batch_normalization_22 (BatchN  (None, 2, 2, 256)   1024        ['conv2d_28[0][0]']              \n",
            " ormalization)                                                                                    \n",
            "                                                                                                  \n",
            " add_9 (Add)                    (None, 2, 2, 256)    0           ['conv2d_29[0][0]',              \n",
            "                                                                  'batch_normalization_22[0][0]'] \n",
            "                                                                                                  \n",
            " tf.nn.relu_22 (TFOpLambda)     (None, 2, 2, 256)    0           ['add_9[0][0]']                  \n",
            "                                                                                                  \n",
            " global_average_pooling2d_1 (Gl  (None, 256)         0           ['tf.nn.relu_22[0][0]']          \n",
            " obalAveragePooling2D)                                                                            \n",
            "                                                                                                  \n",
            " dense_2 (Dense)                (None, 64)           16384       ['global_average_pooling2d_1[0][0\n",
            "                                                                 ]']                              \n",
            "                                                                                                  \n",
            " batch_normalization_23 (BatchN  (None, 64)          256         ['dense_2[0][0]']                \n",
            " ormalization)                                                                                    \n",
            "                                                                                                  \n",
            " tf.nn.relu_23 (TFOpLambda)     (None, 64)           0           ['batch_normalization_23[0][0]'] \n",
            "                                                                                                  \n",
            " dense_3 (Dense)                (None, 10)           650         ['tf.nn.relu_23[0][0]']          \n",
            "                                                                                                  \n",
            "==================================================================================================\n",
            "Total params: 1,245,402\n",
            "Trainable params: 1,243,258\n",
            "Non-trainable params: 2,144\n",
            "__________________________________________________________________________________________________\n"
          ]
        }
      ]
    },
    {
      "cell_type": "code",
      "source": [
        "from tensorflow.keras.callbacks import LearningRateScheduler\n",
        "\n",
        "EPOCHS=20\n",
        "LR = LearningRateScheduler(lambda epoch: 0.01*(0.5**int(epoch//5))*(0.97 ** epoch), verbose=1)\n",
        "\n",
        "history2=basic_model_dropout.fit(trainX, trainY, batch_size=128, epochs=EPOCHS, validation_data=(validX, validY), callbacks=[LR])"
      ],
      "metadata": {
        "colab": {
          "base_uri": "https://localhost:8080/"
        },
        "id": "Jki1AE5Ak9w-",
        "outputId": "94a52661-af4c-44a9-a4fa-d22e74e775b3"
      },
      "execution_count": 23,
      "outputs": [
        {
          "output_type": "stream",
          "name": "stdout",
          "text": [
            "\n",
            "Epoch 1: LearningRateScheduler setting learning rate to 0.01.\n",
            "Epoch 1/20\n",
            "352/352 [==============================] - 18s 24ms/step - loss: 1.9709 - accuracy: 0.2421 - val_loss: 1.7764 - val_accuracy: 0.3142 - lr: 0.0100\n",
            "\n",
            "Epoch 2: LearningRateScheduler setting learning rate to 0.0097.\n",
            "Epoch 2/20\n",
            "352/352 [==============================] - 8s 23ms/step - loss: 1.6519 - accuracy: 0.3833 - val_loss: 1.8238 - val_accuracy: 0.3510 - lr: 0.0097\n",
            "\n",
            "Epoch 3: LearningRateScheduler setting learning rate to 0.009408999999999999.\n",
            "Epoch 3/20\n",
            "352/352 [==============================] - 8s 23ms/step - loss: 1.5003 - accuracy: 0.4485 - val_loss: 1.4890 - val_accuracy: 0.4566 - lr: 0.0094\n",
            "\n",
            "Epoch 4: LearningRateScheduler setting learning rate to 0.00912673.\n",
            "Epoch 4/20\n",
            "352/352 [==============================] - 8s 22ms/step - loss: 1.3922 - accuracy: 0.4905 - val_loss: 1.3910 - val_accuracy: 0.5070 - lr: 0.0091\n",
            "\n",
            "Epoch 5: LearningRateScheduler setting learning rate to 0.008852928099999999.\n",
            "Epoch 5/20\n",
            "352/352 [==============================] - 8s 23ms/step - loss: 1.3057 - accuracy: 0.5266 - val_loss: 1.6054 - val_accuracy: 0.4422 - lr: 0.0089\n",
            "\n",
            "Epoch 6: LearningRateScheduler setting learning rate to 0.0042936701285.\n",
            "Epoch 6/20\n",
            "352/352 [==============================] - 8s 22ms/step - loss: 1.1874 - accuracy: 0.5716 - val_loss: 1.1446 - val_accuracy: 0.5894 - lr: 0.0043\n",
            "\n",
            "Epoch 7: LearningRateScheduler setting learning rate to 0.004164860024644999.\n",
            "Epoch 7/20\n",
            "352/352 [==============================] - 8s 22ms/step - loss: 1.1314 - accuracy: 0.5933 - val_loss: 1.1181 - val_accuracy: 0.6042 - lr: 0.0042\n",
            "\n",
            "Epoch 8: LearningRateScheduler setting learning rate to 0.004039914223905649.\n",
            "Epoch 8/20\n",
            "352/352 [==============================] - 8s 23ms/step - loss: 1.0922 - accuracy: 0.6052 - val_loss: 1.1128 - val_accuracy: 0.5948 - lr: 0.0040\n",
            "\n",
            "Epoch 9: LearningRateScheduler setting learning rate to 0.003918716797188479.\n",
            "Epoch 9/20\n",
            "352/352 [==============================] - 8s 23ms/step - loss: 1.0571 - accuracy: 0.6188 - val_loss: 1.0594 - val_accuracy: 0.6216 - lr: 0.0039\n",
            "\n",
            "Epoch 10: LearningRateScheduler setting learning rate to 0.0038011552932728254.\n",
            "Epoch 10/20\n",
            "352/352 [==============================] - 8s 22ms/step - loss: 1.0320 - accuracy: 0.6306 - val_loss: 1.0222 - val_accuracy: 0.6260 - lr: 0.0038\n",
            "\n",
            "Epoch 11: LearningRateScheduler setting learning rate to 0.0018435603172373203.\n",
            "Epoch 11/20\n",
            "352/352 [==============================] - 9s 27ms/step - loss: 0.9738 - accuracy: 0.6516 - val_loss: 0.9499 - val_accuracy: 0.6576 - lr: 0.0018\n",
            "\n",
            "Epoch 12: LearningRateScheduler setting learning rate to 0.0017882535077202006.\n",
            "Epoch 12/20\n",
            "352/352 [==============================] - 11s 31ms/step - loss: 0.9487 - accuracy: 0.6585 - val_loss: 0.9332 - val_accuracy: 0.6648 - lr: 0.0018\n",
            "\n",
            "Epoch 13: LearningRateScheduler setting learning rate to 0.0017346059024885944.\n",
            "Epoch 13/20\n",
            "352/352 [==============================] - 9s 25ms/step - loss: 0.9295 - accuracy: 0.6649 - val_loss: 0.9437 - val_accuracy: 0.6528 - lr: 0.0017\n",
            "\n",
            "Epoch 14: LearningRateScheduler setting learning rate to 0.0016825677254139366.\n",
            "Epoch 14/20\n",
            "352/352 [==============================] - 9s 25ms/step - loss: 0.9149 - accuracy: 0.6721 - val_loss: 0.9473 - val_accuracy: 0.6580 - lr: 0.0017\n",
            "\n",
            "Epoch 15: LearningRateScheduler setting learning rate to 0.0016320906936515185.\n",
            "Epoch 15/20\n",
            "352/352 [==============================] - 8s 24ms/step - loss: 0.8901 - accuracy: 0.6807 - val_loss: 0.9047 - val_accuracy: 0.6780 - lr: 0.0016\n",
            "\n",
            "Epoch 16: LearningRateScheduler setting learning rate to 0.0007915639864209865.\n",
            "Epoch 16/20\n",
            "352/352 [==============================] - 8s 23ms/step - loss: 0.8627 - accuracy: 0.6927 - val_loss: 0.9113 - val_accuracy: 0.6698 - lr: 7.9156e-04\n",
            "\n",
            "Epoch 17: LearningRateScheduler setting learning rate to 0.0007678170668283568.\n",
            "Epoch 17/20\n",
            "352/352 [==============================] - 8s 22ms/step - loss: 0.8515 - accuracy: 0.6955 - val_loss: 0.9114 - val_accuracy: 0.6772 - lr: 7.6782e-04\n",
            "\n",
            "Epoch 18: LearningRateScheduler setting learning rate to 0.0007447825548235061.\n",
            "Epoch 18/20\n",
            "352/352 [==============================] - 8s 22ms/step - loss: 0.8430 - accuracy: 0.6976 - val_loss: 0.8885 - val_accuracy: 0.6834 - lr: 7.4478e-04\n",
            "\n",
            "Epoch 19: LearningRateScheduler setting learning rate to 0.000722439078178801.\n",
            "Epoch 19/20\n",
            "352/352 [==============================] - 8s 22ms/step - loss: 0.8369 - accuracy: 0.7009 - val_loss: 0.8937 - val_accuracy: 0.6840 - lr: 7.2244e-04\n",
            "\n",
            "Epoch 20: LearningRateScheduler setting learning rate to 0.0007007659058334369.\n",
            "Epoch 20/20\n",
            "352/352 [==============================] - 8s 22ms/step - loss: 0.8223 - accuracy: 0.7049 - val_loss: 0.9193 - val_accuracy: 0.6756 - lr: 7.0077e-04\n"
          ]
        }
      ]
    },
    {
      "cell_type": "code",
      "source": [
        "test_loss, test_acc = basic_model_dropout.evaluate(testX, testY, verbose=1)"
      ],
      "metadata": {
        "colab": {
          "base_uri": "https://localhost:8080/"
        },
        "id": "G2Yi3qIulGGo",
        "outputId": "b58f91ae-262a-4f1f-9f6c-947fb2cb1c9b"
      },
      "execution_count": 24,
      "outputs": [
        {
          "output_type": "stream",
          "name": "stdout",
          "text": [
            "313/313 [==============================] - 1s 5ms/step - loss: 0.9501 - accuracy: 0.6675\n"
          ]
        }
      ]
    },
    {
      "cell_type": "code",
      "source": [
        "plt.figure()\n",
        "plt.plot(np.arange(1, EPOCHS+1), history2.history['loss'], label='Training Loss')\n",
        "plt.plot(np.arange(1, EPOCHS+1), history2.history['val_loss'], label='Validation Loss')\n",
        "plt.legend()\n",
        "plt.show()"
      ],
      "metadata": {
        "colab": {
          "base_uri": "https://localhost:8080/",
          "height": 430
        },
        "id": "y1f4By28lfua",
        "outputId": "ebc0fae5-a7e4-4e8d-b237-045520407924"
      },
      "execution_count": 25,
      "outputs": [
        {
          "output_type": "display_data",
          "data": {
            "text/plain": [
              "<Figure size 640x480 with 1 Axes>"
            ],
            "image/png": "[encoded data removed]"
          },
          "metadata": {}
        }
      ]
    },
    {
      "cell_type": "code",
      "source": [
        "plt.figure()\n",
        "plt.plot(np.arange(1, EPOCHS+1), history2.history['accuracy'], label='Training accuracy')\n",
        "plt.plot(np.arange(1, EPOCHS+1), history2.history['val_accuracy'], label='Validation accuracy')\n",
        "plt.legend()\n",
        "plt.show()"
      ],
      "metadata": {
        "colab": {
          "base_uri": "https://localhost:8080/",
          "height": 430
        },
        "id": "9M8ChkhCljXS",
        "outputId": "4c1a4e11-3f22-47eb-d465-cf46bd58e53e"
      },
      "execution_count": 26,
      "outputs": [
        {
          "output_type": "display_data",
          "data": {
            "text/plain": [
              "<Figure size 640x480 with 1 Axes>"
            ],
            "image/png": "[encoded data removed]"
          },
          "metadata": {}
        }
      ]
    },
    {
      "cell_type": "markdown",
      "source": [
        "### Why did the test accuracy decrease? Is it natural?\n"
      ],
      "metadata": {
        "id": "pdoKfHG7mAUw"
      }
    },
    {
      "cell_type": "code",
      "source": [],
      "metadata": {
        "id": "Bx6hHSC_lkJD"
      },
      "execution_count": null,
      "outputs": []
    }
  ],
  "metadata": {
    "kernelspec": {
      "display_name": "Python 3",
      "name": "python3"
    },
    "language_info": {
      "codemirror_mode": {
        "name": "ipython",
        "version": 3
      },
      "file_extension": ".py",
      "mimetype": "text/x-python",
      "name": "python",
      "nbconvert_exporter": "python",
      "pygments_lexer": "ipython3",
      "version": "3.8.13"
    },
    "orig_nbformat": 4,
    "colab": {
      "provenance": [],
      "gpuType": "T4"
    },
    "accelerator": "GPU"
  },
  "nbformat": 4,
  "nbformat_minor": 0
}