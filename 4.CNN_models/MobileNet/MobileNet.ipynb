{
  "cells": [
    {
      "cell_type": "markdown",
      "metadata": {
        "id": "7mu2euvym6qk"
      },
      "source": [
        "# Simple MobileNet Implementation (PyTorch)"
      ]
    },
    {
      "cell_type": "code",
      "execution_count": 1,
      "metadata": {
        "id": "KDRLDOjRm6qn"
      },
      "outputs": [],
      "source": [
        "import numpy as np\n",
        "import matplotlib.pyplot as plt\n",
        "\n",
        "import torch\n",
        "from torch import nn\n",
        "from torch import optim\n",
        "from torchsummary import summary\n",
        "\n",
        "import torchvision\n",
        "import torchvision.transforms as transforms\n",
        "from torchvision.datasets import CIFAR10\n",
        "from torch.utils.data import DataLoader\n",
        "from torch.utils.data import random_split"
      ]
    },
    {
      "cell_type": "code",
      "execution_count": 2,
      "metadata": {
        "colab": {
          "base_uri": "https://localhost:8080/"
        },
        "id": "vpl-DsqIm6qo",
        "outputId": "7410f13e-a3b6-4962-c98e-addeff62ec16"
      },
      "outputs": [
        {
          "output_type": "stream",
          "name": "stdout",
          "text": [
            "cuda\n"
          ]
        }
      ],
      "source": [
        "device = torch.device('cuda' if torch.cuda.is_available() else 'cpu')\n",
        "print(device)"
      ]
    },
    {
      "cell_type": "markdown",
      "metadata": {
        "id": "bBL4D1jwm6qq"
      },
      "source": [
        "## Download CIFAR10 & Define DataLoader\n",
        "\n",
        "- `ToTensor()` transforms data into `Tensor` type and also normalizes into `[0,1]` range."
      ]
    },
    {
      "cell_type": "code",
      "execution_count": 3,
      "metadata": {
        "colab": {
          "base_uri": "https://localhost:8080/"
        },
        "id": "xkEITYnRm6qq",
        "outputId": "b6420c9c-a847-4a97-8942-0a8308ed2ac2"
      },
      "outputs": [
        {
          "output_type": "stream",
          "name": "stdout",
          "text": [
            "Downloading https://www.cs.toronto.edu/~kriz/cifar-10-python.tar.gz to ./cifar-10-python.tar.gz\n"
          ]
        },
        {
          "output_type": "stream",
          "name": "stderr",
          "text": [
            "100%|██████████| 170498071/170498071 [00:12<00:00, 13133349.22it/s]\n"
          ]
        },
        {
          "output_type": "stream",
          "name": "stdout",
          "text": [
            "Extracting ./cifar-10-python.tar.gz to ./\n",
            "Files already downloaded and verified\n"
          ]
        }
      ],
      "source": [
        "transform = transforms.Compose([transforms.ToTensor()])\n",
        "\n",
        "dataset = CIFAR10(root='./', train=True, download=True, transform=transform)\n",
        "testset = CIFAR10(root='./', train=False, download=True, transform=transform)"
      ]
    },
    {
      "cell_type": "code",
      "execution_count": 4,
      "metadata": {
        "colab": {
          "base_uri": "https://localhost:8080/"
        },
        "id": "kRjJ3JHfm6qq",
        "outputId": "63072155-c664-4fd3-b801-7aab305e9b81"
      },
      "outputs": [
        {
          "output_type": "stream",
          "name": "stdout",
          "text": [
            "(50000, 32, 32, 3)\n",
            "(10000, 32, 32, 3)\n",
            "['airplane', 'automobile', 'bird', 'cat', 'deer', 'dog', 'frog', 'horse', 'ship', 'truck']\n"
          ]
        }
      ],
      "source": [
        "print(dataset.data.shape)\n",
        "print(testset.data.shape)\n",
        "print(dataset.classes)\n",
        "\n",
        "n_classes = len(dataset.classes)"
      ]
    },
    {
      "cell_type": "code",
      "execution_count": 5,
      "metadata": {
        "id": "eXX9FQBym6qr"
      },
      "outputs": [],
      "source": [
        "train_num = int(len(dataset)*0.9)\n",
        "valid_num = len(dataset) - train_num\n",
        "\n",
        "trainset, validset = random_split(dataset, [train_num, valid_num])"
      ]
    },
    {
      "cell_type": "code",
      "execution_count": 6,
      "metadata": {
        "id": "IMi8Y0qJm6qr"
      },
      "outputs": [],
      "source": [
        "batch_size = 128\n",
        "trainloader = DataLoader(trainset, batch_size=batch_size, shuffle=True, num_workers=2)\n",
        "validloader = DataLoader(validset, batch_size=batch_size, shuffle=False, num_workers=2)\n",
        "testloader = DataLoader(testset, batch_size=batch_size, shuffle=False, num_workers=2)"
      ]
    },
    {
      "cell_type": "markdown",
      "metadata": {
        "id": "ZqWxxg56m6qr"
      },
      "source": [
        "## Depthwise Separable Convolution\n",
        "\n",
        "<center><img src=\"./DWS_explained.png\" width=\"800\" height=\"400\"></center>\n",
        "\n",
        "<center><img src=\"./DepthwiseSeparable.png\" width=\"600\" height=\"400\"></center>"
      ]
    },
    {
      "cell_type": "markdown",
      "metadata": {
        "id": "v8oG3HzJm6qr"
      },
      "source": [
        "## Construct Depthwise Separable convolution layer"
      ]
    },
    {
      "cell_type": "code",
      "execution_count": 7,
      "metadata": {
        "id": "z6JjQRLxm6qs"
      },
      "outputs": [],
      "source": [
        "import torch\n",
        "from torch import nn"
      ]
    },
    {
      "cell_type": "code",
      "execution_count": 8,
      "metadata": {
        "id": "Q_Rezxvgm6qs"
      },
      "outputs": [],
      "source": [
        "class DWS(nn.Module):\n",
        "    def __init__(self, in_channels, out_channels, kernel_size, stride, padding):\n",
        "        super(DWS, self).__init__()\n",
        "\n",
        "        self.dwconv = nn.Conv2d(\n",
        "            in_channels, in_channels,\n",
        "            kernel_size=kernel_size, stride=stride, padding=padding, bias=False,\n",
        "            groups=in_channels\n",
        "        )\n",
        "        self.bn1 = nn.BatchNorm2d(in_channels)\n",
        "        self.relu = nn.ReLU()\n",
        "\n",
        "        self.ptconv = nn.Conv2d(\n",
        "            in_channels, out_channels,\n",
        "            kernel_size=1, stride=1, padding=0, bias=False\n",
        "        )\n",
        "        self.bn2 = nn.BatchNorm2d(out_channels)\n",
        "\n",
        "    def forward(self, x):\n",
        "        ## Depthwise convolution\n",
        "        x = self.relu(self.bn1(self.dwconv(x)))\n",
        "\n",
        "        ## Pointwise convolution\n",
        "        x = self.relu(self.bn2(self.ptconv(x)))\n",
        "\n",
        "        return x"
      ]
    },
    {
      "cell_type": "markdown",
      "metadata": {
        "id": "O0E4Se4Om6qs"
      },
      "source": [
        "## MobileNet-v1\n",
        "\n",
        "<center><img src=\"./MobileNet.png\" width=\"500\" height=\"800\"></center>\n",
        "\n",
        "Let's construct a simpler MobileNet."
      ]
    },
    {
      "cell_type": "code",
      "execution_count": 9,
      "metadata": {
        "id": "XDFZi_2dm6qs"
      },
      "outputs": [],
      "source": [
        "class MobileNet(nn.Module):\n",
        "    def __init__(self, channels:list, num_classes:int, init_weights=True):\n",
        "        super(MobileNet, self).__init__()\n",
        "\n",
        "        self.conv = nn.Conv2d(3, channels[0], kernel_size=3, stride=1, padding=1, bias=False)\n",
        "        self.bn1   = nn.BatchNorm2d(channels[0])\n",
        "        self.relu = nn.ReLU()\n",
        "\n",
        "        self.dws1 = DWS(channels[0], channels[1], kernel_size=3, stride=2, padding=1)\n",
        "        self.dws2 = DWS(channels[1], channels[2], kernel_size=3, stride=2, padding=1)\n",
        "        self.dws3 = DWS(channels[2], channels[3], kernel_size=3, stride=2, padding=1)\n",
        "        self.dws4 = DWS(channels[3], channels[4], kernel_size=3, stride=1, padding=1)\n",
        "\n",
        "        self.avgpool = nn.AvgPool2d(kernel_size=(4,4))\n",
        "\n",
        "        self.fc1 = nn.Linear(channels[4], channels[4]//4, bias=False)\n",
        "        self.bn2 = nn.BatchNorm1d(channels[4]//4)\n",
        "        self.fc2 = nn.Linear(channels[4]//4, n_classes, bias=True)\n",
        "\n",
        "        if init_weights:\n",
        "            self.initialize_weights()\n",
        "\n",
        "    def initialize_weights(self):\n",
        "        for m in self.modules():\n",
        "            if isinstance(m, nn.Conv2d):\n",
        "                nn.init.kaiming_normal_(m.weight, mode='fan_out', nonlinearity='relu')\n",
        "                if m.bias is not None:\n",
        "                    nn.init.constant_(m.bias,0)\n",
        "            elif isinstance(m, nn.BatchNorm2d):\n",
        "                nn.init.constant_(m.weight, 1)\n",
        "                nn.init.constant_(m.bias, 0)\n",
        "            elif isinstance(m, nn.BatchNorm1d):\n",
        "                nn.init.constant_(m.weight, 1)\n",
        "                nn.init.constant_(m.bias, 0)\n",
        "            elif isinstance(m, nn.Linear):\n",
        "                nn.init.kaiming_normal_(m.weight, mode='fan_out', nonlinearity='relu')\n",
        "                if m.bias is not None:\n",
        "                    nn.init.constant_(m.bias,0)\n",
        "\n",
        "    def forward(self, x):\n",
        "        x = self.relu(self.bn1(self.conv(x)))\n",
        "\n",
        "        x = self.dws1(x)\n",
        "        x = self.dws2(x)\n",
        "        x = self.dws3(x)\n",
        "        x = self.dws4(x)\n",
        "\n",
        "        x = self.avgpool(x)\n",
        "        x = x.view(x.size(0), -1)\n",
        "\n",
        "        x = self.fc1(x)\n",
        "        x = self.bn2(x)\n",
        "        x = self.relu(x)\n",
        "        x = self.fc2(x)\n",
        "\n",
        "        return x\n",
        "\n",
        ""
      ]
    },
    {
      "cell_type": "code",
      "execution_count": 13,
      "metadata": {
        "colab": {
          "base_uri": "https://localhost:8080/"
        },
        "id": "LUiAPOQlm6qt",
        "outputId": "01e0b284-160a-4a28-83d3-0e9241528c0e"
      },
      "outputs": [
        {
          "output_type": "execute_result",
          "data": {
            "text/plain": [
              "MobileNet(\n",
              "  (conv): Conv2d(3, 16, kernel_size=(3, 3), stride=(1, 1), padding=(1, 1), bias=False)\n",
              "  (bn1): BatchNorm2d(16, eps=1e-05, momentum=0.1, affine=True, track_running_stats=True)\n",
              "  (relu): ReLU()\n",
              "  (dws1): DWS(\n",
              "    (dwconv): Conv2d(16, 16, kernel_size=(3, 3), stride=(2, 2), padding=(1, 1), groups=16, bias=False)\n",
              "    (bn1): BatchNorm2d(16, eps=1e-05, momentum=0.1, affine=True, track_running_stats=True)\n",
              "    (relu): ReLU()\n",
              "    (ptconv): Conv2d(16, 32, kernel_size=(1, 1), stride=(1, 1), bias=False)\n",
              "    (bn2): BatchNorm2d(32, eps=1e-05, momentum=0.1, affine=True, track_running_stats=True)\n",
              "  )\n",
              "  (dws2): DWS(\n",
              "    (dwconv): Conv2d(32, 32, kernel_size=(3, 3), stride=(2, 2), padding=(1, 1), groups=32, bias=False)\n",
              "    (bn1): BatchNorm2d(32, eps=1e-05, momentum=0.1, affine=True, track_running_stats=True)\n",
              "    (relu): ReLU()\n",
              "    (ptconv): Conv2d(32, 64, kernel_size=(1, 1), stride=(1, 1), bias=False)\n",
              "    (bn2): BatchNorm2d(64, eps=1e-05, momentum=0.1, affine=True, track_running_stats=True)\n",
              "  )\n",
              "  (dws3): DWS(\n",
              "    (dwconv): Conv2d(64, 64, kernel_size=(3, 3), stride=(2, 2), padding=(1, 1), groups=64, bias=False)\n",
              "    (bn1): BatchNorm2d(64, eps=1e-05, momentum=0.1, affine=True, track_running_stats=True)\n",
              "    (relu): ReLU()\n",
              "    (ptconv): Conv2d(64, 128, kernel_size=(1, 1), stride=(1, 1), bias=False)\n",
              "    (bn2): BatchNorm2d(128, eps=1e-05, momentum=0.1, affine=True, track_running_stats=True)\n",
              "  )\n",
              "  (dws4): DWS(\n",
              "    (dwconv): Conv2d(128, 128, kernel_size=(3, 3), stride=(1, 1), padding=(1, 1), groups=128, bias=False)\n",
              "    (bn1): BatchNorm2d(128, eps=1e-05, momentum=0.1, affine=True, track_running_stats=True)\n",
              "    (relu): ReLU()\n",
              "    (ptconv): Conv2d(128, 256, kernel_size=(1, 1), stride=(1, 1), bias=False)\n",
              "    (bn2): BatchNorm2d(256, eps=1e-05, momentum=0.1, affine=True, track_running_stats=True)\n",
              "  )\n",
              "  (avgpool): AvgPool2d(kernel_size=(4, 4), stride=(4, 4), padding=0)\n",
              "  (fc1): Linear(in_features=256, out_features=64, bias=False)\n",
              "  (bn2): BatchNorm1d(64, eps=1e-05, momentum=0.1, affine=True, track_running_stats=True)\n",
              "  (fc2): Linear(in_features=64, out_features=10, bias=True)\n",
              ")"
            ]
          },
          "metadata": {},
          "execution_count": 13
        }
      ],
      "source": [
        "model = MobileNet(channels=[16,32,64,128,256], num_classes=n_classes)\n",
        "model.to(device)"
      ]
    },
    {
      "cell_type": "code",
      "execution_count": 14,
      "metadata": {
        "colab": {
          "base_uri": "https://localhost:8080/"
        },
        "id": "Qby8Tdn9m6qt",
        "outputId": "78e77e29-79c1-47e3-e9ca-741159398697"
      },
      "outputs": [
        {
          "output_type": "stream",
          "name": "stdout",
          "text": [
            "----------------------------------------------------------------\n",
            "        Layer (type)               Output Shape         Param #\n",
            "================================================================\n",
            "            Conv2d-1           [-1, 16, 32, 32]             432\n",
            "       BatchNorm2d-2           [-1, 16, 32, 32]              32\n",
            "              ReLU-3           [-1, 16, 32, 32]               0\n",
            "            Conv2d-4           [-1, 16, 16, 16]             144\n",
            "       BatchNorm2d-5           [-1, 16, 16, 16]              32\n",
            "              ReLU-6           [-1, 16, 16, 16]               0\n",
            "            Conv2d-7           [-1, 32, 16, 16]             512\n",
            "       BatchNorm2d-8           [-1, 32, 16, 16]              64\n",
            "              ReLU-9           [-1, 32, 16, 16]               0\n",
            "              DWS-10           [-1, 32, 16, 16]               0\n",
            "           Conv2d-11             [-1, 32, 8, 8]             288\n",
            "      BatchNorm2d-12             [-1, 32, 8, 8]              64\n",
            "             ReLU-13             [-1, 32, 8, 8]               0\n",
            "           Conv2d-14             [-1, 64, 8, 8]           2,048\n",
            "      BatchNorm2d-15             [-1, 64, 8, 8]             128\n",
            "             ReLU-16             [-1, 64, 8, 8]               0\n",
            "              DWS-17             [-1, 64, 8, 8]               0\n",
            "           Conv2d-18             [-1, 64, 4, 4]             576\n",
            "      BatchNorm2d-19             [-1, 64, 4, 4]             128\n",
            "             ReLU-20             [-1, 64, 4, 4]               0\n",
            "           Conv2d-21            [-1, 128, 4, 4]           8,192\n",
            "      BatchNorm2d-22            [-1, 128, 4, 4]             256\n",
            "             ReLU-23            [-1, 128, 4, 4]               0\n",
            "              DWS-24            [-1, 128, 4, 4]               0\n",
            "           Conv2d-25            [-1, 128, 4, 4]           1,152\n",
            "      BatchNorm2d-26            [-1, 128, 4, 4]             256\n",
            "             ReLU-27            [-1, 128, 4, 4]               0\n",
            "           Conv2d-28            [-1, 256, 4, 4]          32,768\n",
            "      BatchNorm2d-29            [-1, 256, 4, 4]             512\n",
            "             ReLU-30            [-1, 256, 4, 4]               0\n",
            "              DWS-31            [-1, 256, 4, 4]               0\n",
            "        AvgPool2d-32            [-1, 256, 1, 1]               0\n",
            "           Linear-33                   [-1, 64]          16,384\n",
            "      BatchNorm1d-34                   [-1, 64]             128\n",
            "             ReLU-35                   [-1, 64]               0\n",
            "           Linear-36                   [-1, 10]             650\n",
            "================================================================\n",
            "Total params: 64,746\n",
            "Trainable params: 64,746\n",
            "Non-trainable params: 0\n",
            "----------------------------------------------------------------\n",
            "Input size (MB): 0.01\n",
            "Forward/backward pass size (MB): 1.15\n",
            "Params size (MB): 0.25\n",
            "Estimated Total Size (MB): 1.41\n",
            "----------------------------------------------------------------\n"
          ]
        }
      ],
      "source": [
        "from torchsummary import summary\n",
        "\n",
        "summary(model, input_size=(3,32,32))"
      ]
    },
    {
      "cell_type": "markdown",
      "metadata": {
        "id": "D7w9qC3om6qt"
      },
      "source": [
        "### Comparison with Original Convolution network"
      ]
    },
    {
      "cell_type": "code",
      "execution_count": 15,
      "metadata": {
        "id": "3t9PZrgNm6qt"
      },
      "outputs": [],
      "source": [
        "class ConvNet(nn.Module):\n",
        "    def __init__(self, channels:list, num_classes:int, init_weights=True):\n",
        "        super(ConvNet, self).__init__()\n",
        "\n",
        "        self.conv1 = nn.Conv2d(3, channels[0], kernel_size=3, stride=1, padding=1, bias=False)\n",
        "        self.bn1  = nn.BatchNorm2d(channels[0])\n",
        "        self.relu = nn.ReLU()\n",
        "\n",
        "        self.conv2 = nn.Conv2d(channels[0], channels[1], kernel_size=3, stride=2, padding=1, bias=False)\n",
        "        self.bn2   = nn.BatchNorm2d(channels[1])\n",
        "        self.conv3 = nn.Conv2d(channels[1], channels[2], kernel_size=3, stride=2, padding=1, bias=False)\n",
        "        self.bn3   = nn.BatchNorm2d(channels[2])\n",
        "        self.conv4 = nn.Conv2d(channels[2], channels[3], kernel_size=3, stride=2, padding=1, bias=False)\n",
        "        self.bn4   = nn.BatchNorm2d(channels[3])\n",
        "        self.conv5 = nn.Conv2d(channels[3], channels[4], kernel_size=3, stride=1, padding=1, bias=False)\n",
        "        self.bn5   = nn.BatchNorm2d(channels[4])\n",
        "\n",
        "        self.avgpool = nn.AvgPool2d(kernel_size=(4,4))\n",
        "\n",
        "        self.fc1 = nn.Linear(channels[4], channels[4]//4, bias=False)\n",
        "        self.bn6 = nn.BatchNorm1d(channels[4]//4)\n",
        "        self.fc2 = nn.Linear(channels[4]//4, n_classes, bias=True)\n",
        "\n",
        "        if init_weights:\n",
        "            self.initialize_weights()\n",
        "\n",
        "    def initialize_weights(self):\n",
        "        for m in self.modules():\n",
        "            if isinstance(m, nn.Conv2d):\n",
        "                nn.init.kaiming_normal_(m.weight, mode='fan_out', nonlinearity='relu')\n",
        "                if m.bias is not None:\n",
        "                    nn.init.constant_(m.bias,0)\n",
        "            elif isinstance(m, nn.BatchNorm2d):\n",
        "                nn.init.constant_(m.weight, 1)\n",
        "                nn.init.constant_(m.bias, 0)\n",
        "            elif isinstance(m, nn.BatchNorm1d):\n",
        "                nn.init.constant_(m.weight, 1)\n",
        "                nn.init.constant_(m.bias, 0)\n",
        "            elif isinstance(m, nn.Linear):\n",
        "                nn.init.kaiming_normal_(m.weight, mode='fan_out', nonlinearity='relu')\n",
        "                if m.bias is not None:\n",
        "                    nn.init.constant_(m.bias,0)\n",
        "\n",
        "    def forward(self, x):\n",
        "        x = self.relu(self.bn1(self.conv1(x)))\n",
        "\n",
        "        x = self.relu(self.bn2(self.conv2(x)))\n",
        "        x = self.relu(self.bn3(self.conv3(x)))\n",
        "        x = self.relu(self.bn4(self.conv4(x)))\n",
        "        x = self.relu(self.bn5(self.conv5(x)))\n",
        "\n",
        "        x = self.avgpool(x)\n",
        "        x = x.view(x.size(0), -1)\n",
        "\n",
        "        x = self.fc1(x)\n",
        "        x = self.bn6(x)\n",
        "        x = self.relu(x)\n",
        "        x = self.fc2(x)\n",
        "\n",
        "        return x"
      ]
    },
    {
      "cell_type": "code",
      "execution_count": 16,
      "metadata": {
        "colab": {
          "base_uri": "https://localhost:8080/"
        },
        "id": "Rng4x2fWm6qu",
        "outputId": "f129feca-1044-4001-cd99-38b81dbe2d36"
      },
      "outputs": [
        {
          "output_type": "stream",
          "name": "stdout",
          "text": [
            "----------------------------------------------------------------\n",
            "        Layer (type)               Output Shape         Param #\n",
            "================================================================\n",
            "            Conv2d-1           [-1, 16, 32, 32]             432\n",
            "       BatchNorm2d-2           [-1, 16, 32, 32]              32\n",
            "              ReLU-3           [-1, 16, 32, 32]               0\n",
            "            Conv2d-4           [-1, 32, 16, 16]           4,608\n",
            "       BatchNorm2d-5           [-1, 32, 16, 16]              64\n",
            "              ReLU-6           [-1, 32, 16, 16]               0\n",
            "            Conv2d-7             [-1, 64, 8, 8]          18,432\n",
            "       BatchNorm2d-8             [-1, 64, 8, 8]             128\n",
            "              ReLU-9             [-1, 64, 8, 8]               0\n",
            "           Conv2d-10            [-1, 128, 4, 4]          73,728\n",
            "      BatchNorm2d-11            [-1, 128, 4, 4]             256\n",
            "             ReLU-12            [-1, 128, 4, 4]               0\n",
            "           Conv2d-13            [-1, 256, 4, 4]         294,912\n",
            "      BatchNorm2d-14            [-1, 256, 4, 4]             512\n",
            "             ReLU-15            [-1, 256, 4, 4]               0\n",
            "        AvgPool2d-16            [-1, 256, 1, 1]               0\n",
            "           Linear-17                   [-1, 64]          16,384\n",
            "      BatchNorm1d-18                   [-1, 64]             128\n",
            "             ReLU-19                   [-1, 64]               0\n",
            "           Linear-20                   [-1, 10]             650\n",
            "================================================================\n",
            "Total params: 410,266\n",
            "Trainable params: 410,266\n",
            "Non-trainable params: 0\n",
            "----------------------------------------------------------------\n",
            "Input size (MB): 0.01\n",
            "Forward/backward pass size (MB): 0.80\n",
            "Params size (MB): 1.57\n",
            "Estimated Total Size (MB): 2.38\n",
            "----------------------------------------------------------------\n"
          ]
        }
      ],
      "source": [
        "conv_model = ConvNet(channels=[16,32,64,128,256], num_classes=n_classes)\n",
        "conv_model.to(device)\n",
        "\n",
        "summary(conv_model, input_size=(3,32,32))"
      ]
    },
    {
      "cell_type": "markdown",
      "metadata": {
        "id": "aluxG5rAm6qu"
      },
      "source": [
        "## Train Networks"
      ]
    },
    {
      "cell_type": "code",
      "execution_count": 17,
      "metadata": {
        "id": "acJlXAJNm6qu"
      },
      "outputs": [],
      "source": [
        "from tqdm import tqdm\n",
        "\n",
        "def train(net, trainloader, validloader, epochs, device, loss_ftn, optimizer, scheduler=None):\n",
        "    losses = []\n",
        "    accs = []\n",
        "    valid_losses = []\n",
        "    valid_accs = []\n",
        "\n",
        "    for epoch in range(epochs):\n",
        "        running_loss = 0\n",
        "        valid_loss = 0\n",
        "        correct = 0\n",
        "        total = 0\n",
        "        valid_correct = 0\n",
        "        valid_total = 0\n",
        "        num_iter = 0\n",
        "\n",
        "        for i, data in tqdm(enumerate(trainloader, 0)):\n",
        "            inputs, labels = data\n",
        "\n",
        "            inputs = inputs.to(device)\n",
        "            labels = labels.to(device)\n",
        "\n",
        "            optimizer.zero_grad()\n",
        "\n",
        "            outputs = net(inputs)\n",
        "            loss = loss_ftn(outputs, labels)\n",
        "            loss.backward()\n",
        "            optimizer.step()\n",
        "\n",
        "            num_iter += 1\n",
        "            running_loss += loss.item()\n",
        "\n",
        "            _, predicted = torch.max(outputs.data, 1)\n",
        "            total += labels.size(0)\n",
        "            correct += (predicted == labels).sum().item()\n",
        "\n",
        "        accuracy = (correct/total)*100\n",
        "        losses.append(running_loss/num_iter)\n",
        "        accs.append(accuracy)\n",
        "\n",
        "        valid_num_iter = 0\n",
        "        with torch.no_grad():\n",
        "            for data in validloader:\n",
        "                images, labels = data\n",
        "\n",
        "                images = images.to(device)\n",
        "                labels = labels.to(device)\n",
        "\n",
        "                # calculate outputs by running images through the network\n",
        "                outputs = net(images)\n",
        "                loss = loss_ftn(outputs, labels)\n",
        "\n",
        "                valid_num_iter += 1\n",
        "                valid_loss += loss.item()\n",
        "\n",
        "                # the class with the highest energy is what we choose as prediction\n",
        "                _, predicted = torch.max(outputs.data, 1)\n",
        "                valid_total += labels.size(0)\n",
        "                valid_correct += (predicted == labels).sum().item()\n",
        "\n",
        "        valid_accuracy = (valid_correct/valid_total)*100\n",
        "        valid_losses.append(valid_loss/valid_num_iter)\n",
        "        valid_accs.append(valid_accuracy)\n",
        "\n",
        "        print('EPOCH %d Completed. \\n Training Loss: %.3f, Training Accuracy: %.2f, Validation Loss: %.3f, Validation Accuracy: %.2f \\n'\n",
        "              %(epoch+1, running_loss/num_iter, accuracy, valid_loss/valid_num_iter, valid_accuracy))\n",
        "\n",
        "        if scheduler is not None:\n",
        "            scheduler.step()\n",
        "\n",
        "    return losses, accs, valid_losses, valid_accs"
      ]
    },
    {
      "cell_type": "code",
      "execution_count": 18,
      "metadata": {
        "colab": {
          "base_uri": "https://localhost:8080/"
        },
        "id": "UyqMWD4gm6qu",
        "outputId": "e4c7ac17-a8bf-4bfc-dd47-f78f4dffb766"
      },
      "outputs": [
        {
          "output_type": "stream",
          "name": "stdout",
          "text": [
            "Adjusting learning rate of group 0 to 1.0000e-02.\n"
          ]
        }
      ],
      "source": [
        "loss_ftn = nn.CrossEntropyLoss()\n",
        "\n",
        "optimizer = optim.Adam(model.parameters(), lr=0.01)\n",
        "\n",
        "scheduler = optim.lr_scheduler.LambdaLR(optimizer=optimizer,\n",
        "                                        lr_lambda=lambda epoch: 0.95 ** epoch,\n",
        "                                        last_epoch=-1,\n",
        "                                        verbose=True)"
      ]
    },
    {
      "cell_type": "code",
      "execution_count": 19,
      "metadata": {
        "colab": {
          "base_uri": "https://localhost:8080/"
        },
        "id": "uqetY_O8m6qv",
        "outputId": "b2e57763-f340-4049-8de9-0fed4b03fc3f"
      },
      "outputs": [
        {
          "output_type": "stream",
          "name": "stderr",
          "text": [
            "352it [00:10, 32.28it/s]\n"
          ]
        },
        {
          "output_type": "stream",
          "name": "stdout",
          "text": [
            "EPOCH 1 Completed. \n",
            " Training Loss: 1.580, Training Accuracy: 42.77, Validation Loss: 1.342, Validation Accuracy: 53.04 \n",
            "\n",
            "Adjusting learning rate of group 0 to 9.5000e-03.\n"
          ]
        },
        {
          "output_type": "stream",
          "name": "stderr",
          "text": [
            "352it [00:09, 35.78it/s]\n"
          ]
        },
        {
          "output_type": "stream",
          "name": "stdout",
          "text": [
            "EPOCH 2 Completed. \n",
            " Training Loss: 1.205, Training Accuracy: 56.72, Validation Loss: 1.167, Validation Accuracy: 59.90 \n",
            "\n",
            "Adjusting learning rate of group 0 to 9.0250e-03.\n"
          ]
        },
        {
          "output_type": "stream",
          "name": "stderr",
          "text": [
            "352it [00:10, 33.71it/s]\n"
          ]
        },
        {
          "output_type": "stream",
          "name": "stdout",
          "text": [
            "EPOCH 3 Completed. \n",
            " Training Loss: 1.033, Training Accuracy: 63.26, Validation Loss: 1.047, Validation Accuracy: 63.66 \n",
            "\n",
            "Adjusting learning rate of group 0 to 8.5737e-03.\n"
          ]
        },
        {
          "output_type": "stream",
          "name": "stderr",
          "text": [
            "352it [00:08, 39.79it/s]\n"
          ]
        },
        {
          "output_type": "stream",
          "name": "stdout",
          "text": [
            "EPOCH 4 Completed. \n",
            " Training Loss: 0.920, Training Accuracy: 67.34, Validation Loss: 0.950, Validation Accuracy: 67.22 \n",
            "\n",
            "Adjusting learning rate of group 0 to 8.1451e-03.\n"
          ]
        },
        {
          "output_type": "stream",
          "name": "stderr",
          "text": [
            "352it [00:08, 40.11it/s]\n"
          ]
        },
        {
          "output_type": "stream",
          "name": "stdout",
          "text": [
            "EPOCH 5 Completed. \n",
            " Training Loss: 0.838, Training Accuracy: 70.05, Validation Loss: 0.879, Validation Accuracy: 69.58 \n",
            "\n",
            "Adjusting learning rate of group 0 to 7.7378e-03.\n"
          ]
        },
        {
          "output_type": "stream",
          "name": "stderr",
          "text": [
            "352it [00:09, 36.04it/s]\n"
          ]
        },
        {
          "output_type": "stream",
          "name": "stdout",
          "text": [
            "EPOCH 6 Completed. \n",
            " Training Loss: 0.776, Training Accuracy: 72.37, Validation Loss: 0.845, Validation Accuracy: 70.80 \n",
            "\n",
            "Adjusting learning rate of group 0 to 7.3509e-03.\n"
          ]
        },
        {
          "output_type": "stream",
          "name": "stderr",
          "text": [
            "352it [00:09, 35.58it/s]\n"
          ]
        },
        {
          "output_type": "stream",
          "name": "stdout",
          "text": [
            "EPOCH 7 Completed. \n",
            " Training Loss: 0.721, Training Accuracy: 74.46, Validation Loss: 0.846, Validation Accuracy: 71.92 \n",
            "\n",
            "Adjusting learning rate of group 0 to 6.9834e-03.\n"
          ]
        },
        {
          "output_type": "stream",
          "name": "stderr",
          "text": [
            "352it [00:09, 35.60it/s]\n"
          ]
        },
        {
          "output_type": "stream",
          "name": "stdout",
          "text": [
            "EPOCH 8 Completed. \n",
            " Training Loss: 0.668, Training Accuracy: 76.30, Validation Loss: 0.815, Validation Accuracy: 72.86 \n",
            "\n",
            "Adjusting learning rate of group 0 to 6.6342e-03.\n"
          ]
        },
        {
          "output_type": "stream",
          "name": "stderr",
          "text": [
            "352it [00:10, 33.41it/s]\n"
          ]
        },
        {
          "output_type": "stream",
          "name": "stdout",
          "text": [
            "EPOCH 9 Completed. \n",
            " Training Loss: 0.625, Training Accuracy: 77.83, Validation Loss: 0.826, Validation Accuracy: 72.48 \n",
            "\n",
            "Adjusting learning rate of group 0 to 6.3025e-03.\n"
          ]
        },
        {
          "output_type": "stream",
          "name": "stderr",
          "text": [
            "352it [00:09, 36.50it/s]\n"
          ]
        },
        {
          "output_type": "stream",
          "name": "stdout",
          "text": [
            "EPOCH 10 Completed. \n",
            " Training Loss: 0.575, Training Accuracy: 79.77, Validation Loss: 0.804, Validation Accuracy: 72.90 \n",
            "\n",
            "Adjusting learning rate of group 0 to 5.9874e-03.\n"
          ]
        },
        {
          "output_type": "stream",
          "name": "stderr",
          "text": [
            "352it [00:08, 40.09it/s]\n"
          ]
        },
        {
          "output_type": "stream",
          "name": "stdout",
          "text": [
            "EPOCH 11 Completed. \n",
            " Training Loss: 0.540, Training Accuracy: 80.77, Validation Loss: 0.801, Validation Accuracy: 73.86 \n",
            "\n",
            "Adjusting learning rate of group 0 to 5.6880e-03.\n"
          ]
        },
        {
          "output_type": "stream",
          "name": "stderr",
          "text": [
            "352it [00:08, 40.19it/s]\n"
          ]
        },
        {
          "output_type": "stream",
          "name": "stdout",
          "text": [
            "EPOCH 12 Completed. \n",
            " Training Loss: 0.499, Training Accuracy: 82.31, Validation Loss: 0.799, Validation Accuracy: 73.48 \n",
            "\n",
            "Adjusting learning rate of group 0 to 5.4036e-03.\n"
          ]
        },
        {
          "output_type": "stream",
          "name": "stderr",
          "text": [
            "352it [00:10, 34.87it/s]\n"
          ]
        },
        {
          "output_type": "stream",
          "name": "stdout",
          "text": [
            "EPOCH 13 Completed. \n",
            " Training Loss: 0.462, Training Accuracy: 83.46, Validation Loss: 0.818, Validation Accuracy: 73.68 \n",
            "\n",
            "Adjusting learning rate of group 0 to 5.1334e-03.\n"
          ]
        },
        {
          "output_type": "stream",
          "name": "stderr",
          "text": [
            "352it [00:09, 35.39it/s]\n"
          ]
        },
        {
          "output_type": "stream",
          "name": "stdout",
          "text": [
            "EPOCH 14 Completed. \n",
            " Training Loss: 0.420, Training Accuracy: 85.00, Validation Loss: 0.825, Validation Accuracy: 73.84 \n",
            "\n",
            "Adjusting learning rate of group 0 to 4.8767e-03.\n"
          ]
        },
        {
          "output_type": "stream",
          "name": "stderr",
          "text": [
            "352it [00:09, 35.61it/s]\n"
          ]
        },
        {
          "output_type": "stream",
          "name": "stdout",
          "text": [
            "EPOCH 15 Completed. \n",
            " Training Loss: 0.395, Training Accuracy: 85.96, Validation Loss: 0.821, Validation Accuracy: 74.36 \n",
            "\n",
            "Adjusting learning rate of group 0 to 4.6329e-03.\n"
          ]
        },
        {
          "output_type": "stream",
          "name": "stderr",
          "text": [
            "352it [00:09, 35.53it/s]\n"
          ]
        },
        {
          "output_type": "stream",
          "name": "stdout",
          "text": [
            "EPOCH 16 Completed. \n",
            " Training Loss: 0.363, Training Accuracy: 87.08, Validation Loss: 0.845, Validation Accuracy: 74.20 \n",
            "\n",
            "Adjusting learning rate of group 0 to 4.4013e-03.\n"
          ]
        },
        {
          "output_type": "stream",
          "name": "stderr",
          "text": [
            "352it [00:09, 36.43it/s]\n"
          ]
        },
        {
          "output_type": "stream",
          "name": "stdout",
          "text": [
            "EPOCH 17 Completed. \n",
            " Training Loss: 0.323, Training Accuracy: 88.49, Validation Loss: 0.890, Validation Accuracy: 73.52 \n",
            "\n",
            "Adjusting learning rate of group 0 to 4.1812e-03.\n"
          ]
        },
        {
          "output_type": "stream",
          "name": "stderr",
          "text": [
            "352it [00:09, 37.69it/s]\n"
          ]
        },
        {
          "output_type": "stream",
          "name": "stdout",
          "text": [
            "EPOCH 18 Completed. \n",
            " Training Loss: 0.299, Training Accuracy: 89.16, Validation Loss: 0.949, Validation Accuracy: 73.52 \n",
            "\n",
            "Adjusting learning rate of group 0 to 3.9721e-03.\n"
          ]
        },
        {
          "output_type": "stream",
          "name": "stderr",
          "text": [
            "352it [00:09, 38.97it/s]\n"
          ]
        },
        {
          "output_type": "stream",
          "name": "stdout",
          "text": [
            "EPOCH 19 Completed. \n",
            " Training Loss: 0.271, Training Accuracy: 90.21, Validation Loss: 1.007, Validation Accuracy: 72.78 \n",
            "\n",
            "Adjusting learning rate of group 0 to 3.7735e-03.\n"
          ]
        },
        {
          "output_type": "stream",
          "name": "stderr",
          "text": [
            "352it [00:09, 35.58it/s]\n"
          ]
        },
        {
          "output_type": "stream",
          "name": "stdout",
          "text": [
            "EPOCH 20 Completed. \n",
            " Training Loss: 0.239, Training Accuracy: 91.45, Validation Loss: 1.014, Validation Accuracy: 73.02 \n",
            "\n",
            "Adjusting learning rate of group 0 to 3.5849e-03.\n"
          ]
        }
      ],
      "source": [
        "EPOCHS=20\n",
        "\n",
        "losses, accs, valid_losses, valid_accs = train(model, trainloader, validloader, EPOCHS, device,\n",
        "                                               loss_ftn, optimizer, scheduler)"
      ]
    },
    {
      "cell_type": "markdown",
      "metadata": {
        "id": "XtitL-PEm6qv"
      },
      "source": [
        "## Plot Training Loss and Validation loss"
      ]
    },
    {
      "cell_type": "code",
      "execution_count": 20,
      "metadata": {
        "colab": {
          "base_uri": "https://localhost:8080/",
          "height": 430
        },
        "id": "Ssuhg0jMm6qv",
        "outputId": "c792fdea-9902-4fe8-e420-755930f296dc"
      },
      "outputs": [
        {
          "output_type": "display_data",
          "data": {
            "text/plain": [
              "<Figure size 640x480 with 1 Axes>"
            ],
            "image/png": "[encoded data removed]"
          },
          "metadata": {}
        }
      ],
      "source": [
        "plt.figure()\n",
        "plt.plot(np.arange(1,EPOCHS+1), losses, label='training loss')\n",
        "plt.plot(np.arange(1,EPOCHS+1), valid_losses, label='validation loss')\n",
        "plt.legend()\n",
        "plt.show()"
      ]
    },
    {
      "cell_type": "code",
      "execution_count": 21,
      "metadata": {
        "colab": {
          "base_uri": "https://localhost:8080/",
          "height": 430
        },
        "id": "t6T3u3lxm6qv",
        "outputId": "6b2215af-9cb0-406e-98e4-aef28c1c683e"
      },
      "outputs": [
        {
          "output_type": "display_data",
          "data": {
            "text/plain": [
              "<Figure size 640x480 with 1 Axes>"
            ],
            "image/png": "[encoded data removed]"
          },
          "metadata": {}
        }
      ],
      "source": [
        "plt.figure()\n",
        "plt.plot(np.arange(1,EPOCHS+1), accs, label='training accuracy')\n",
        "plt.plot(np.arange(1,EPOCHS+1), valid_accs, label='validation accuracy')\n",
        "plt.legend()\n",
        "plt.show()"
      ]
    },
    {
      "cell_type": "markdown",
      "metadata": {
        "id": "UuM45vOEm6qv"
      },
      "source": [
        "## Inference"
      ]
    },
    {
      "cell_type": "code",
      "execution_count": 22,
      "metadata": {
        "id": "brSYFbsVm6qv"
      },
      "outputs": [],
      "source": [
        "def test(net, testloader, device):\n",
        "    correct = 0\n",
        "    total = 0\n",
        "\n",
        "    with torch.no_grad():\n",
        "        for data in testloader:\n",
        "            images, labels = data\n",
        "\n",
        "            images = images.to(device)\n",
        "            labels = labels.to(device)\n",
        "\n",
        "            # calculate outputs by running images through the network\n",
        "            outputs = net(images)\n",
        "\n",
        "            # the class with the highest energy is what we choose as prediction\n",
        "            _, predicted = torch.max(outputs.data, 1)\n",
        "            total += labels.size(0)\n",
        "            correct += (predicted == labels).sum().item()\n",
        "\n",
        "    print(f'Accuracy of the network on 10000 test images: {100 * correct / total} %')"
      ]
    },
    {
      "cell_type": "code",
      "execution_count": 23,
      "metadata": {
        "colab": {
          "base_uri": "https://localhost:8080/"
        },
        "id": "9kYwnO9Ym6qw",
        "outputId": "b93f8588-77b4-4a1a-842c-9898f927a06a"
      },
      "outputs": [
        {
          "output_type": "stream",
          "name": "stdout",
          "text": [
            "Accuracy of the network on 10000 test images: 73.66 %\n"
          ]
        }
      ],
      "source": [
        "test(model, testloader, device)"
      ]
    },
    {
      "cell_type": "markdown",
      "source": [
        "## Train Original Convolution Network"
      ],
      "metadata": {
        "id": "Q4QgwCbKnLdp"
      }
    },
    {
      "cell_type": "code",
      "execution_count": 29,
      "metadata": {
        "colab": {
          "base_uri": "https://localhost:8080/"
        },
        "id": "LOJxBlZRm6qw",
        "outputId": "df65fcc3-cf41-4191-f839-be5df792bac8"
      },
      "outputs": [
        {
          "output_type": "stream",
          "name": "stdout",
          "text": [
            "Adjusting learning rate of group 0 to 1.0000e-02.\n"
          ]
        }
      ],
      "source": [
        "loss_ftn = nn.CrossEntropyLoss()\n",
        "optimizer = optim.Adam(conv_model.parameters(), lr=0.01)\n",
        "scheduler = optim.lr_scheduler.LambdaLR(optimizer=optimizer,\n",
        "                                        lr_lambda=lambda epoch: 0.95 ** epoch,\n",
        "                                        last_epoch=-1,\n",
        "                                        verbose=True)"
      ]
    },
    {
      "cell_type": "code",
      "source": [
        "EPOCHS=20\n",
        "\n",
        "losses, accs, valid_losses, valid_accs = train(conv_model, trainloader, validloader, EPOCHS, device,\n",
        "                                               loss_ftn, optimizer, scheduler)"
      ],
      "metadata": {
        "colab": {
          "base_uri": "https://localhost:8080/"
        },
        "id": "AcNoMqF1nGrO",
        "outputId": "ff2c4634-2ed4-49d7-d1b4-7552e8d303b4"
      },
      "execution_count": 30,
      "outputs": [
        {
          "output_type": "stream",
          "name": "stderr",
          "text": [
            "352it [00:10, 33.83it/s]\n"
          ]
        },
        {
          "output_type": "stream",
          "name": "stdout",
          "text": [
            "EPOCH 1 Completed. \n",
            " Training Loss: 1.564, Training Accuracy: 43.81, Validation Loss: 1.229, Validation Accuracy: 57.28 \n",
            "\n",
            "Adjusting learning rate of group 0 to 9.5000e-03.\n"
          ]
        },
        {
          "output_type": "stream",
          "name": "stderr",
          "text": [
            "352it [00:10, 34.67it/s]\n"
          ]
        },
        {
          "output_type": "stream",
          "name": "stdout",
          "text": [
            "EPOCH 2 Completed. \n",
            " Training Loss: 1.087, Training Accuracy: 61.19, Validation Loss: 1.051, Validation Accuracy: 63.20 \n",
            "\n",
            "Adjusting learning rate of group 0 to 9.0250e-03.\n"
          ]
        },
        {
          "output_type": "stream",
          "name": "stderr",
          "text": [
            "352it [00:10, 34.85it/s]\n"
          ]
        },
        {
          "output_type": "stream",
          "name": "stdout",
          "text": [
            "EPOCH 3 Completed. \n",
            " Training Loss: 0.899, Training Accuracy: 68.29, Validation Loss: 0.900, Validation Accuracy: 69.62 \n",
            "\n",
            "Adjusting learning rate of group 0 to 8.5737e-03.\n"
          ]
        },
        {
          "output_type": "stream",
          "name": "stderr",
          "text": [
            "352it [00:09, 35.35it/s]\n"
          ]
        },
        {
          "output_type": "stream",
          "name": "stdout",
          "text": [
            "EPOCH 4 Completed. \n",
            " Training Loss: 0.762, Training Accuracy: 73.30, Validation Loss: 0.823, Validation Accuracy: 72.92 \n",
            "\n",
            "Adjusting learning rate of group 0 to 8.1451e-03.\n"
          ]
        },
        {
          "output_type": "stream",
          "name": "stderr",
          "text": [
            "352it [00:10, 34.35it/s]\n"
          ]
        },
        {
          "output_type": "stream",
          "name": "stdout",
          "text": [
            "EPOCH 5 Completed. \n",
            " Training Loss: 0.658, Training Accuracy: 76.89, Validation Loss: 0.830, Validation Accuracy: 72.40 \n",
            "\n",
            "Adjusting learning rate of group 0 to 7.7378e-03.\n"
          ]
        },
        {
          "output_type": "stream",
          "name": "stderr",
          "text": [
            "352it [00:10, 34.69it/s]\n"
          ]
        },
        {
          "output_type": "stream",
          "name": "stdout",
          "text": [
            "EPOCH 6 Completed. \n",
            " Training Loss: 0.562, Training Accuracy: 80.08, Validation Loss: 0.831, Validation Accuracy: 73.78 \n",
            "\n",
            "Adjusting learning rate of group 0 to 7.3509e-03.\n"
          ]
        },
        {
          "output_type": "stream",
          "name": "stderr",
          "text": [
            "352it [00:10, 34.99it/s]\n"
          ]
        },
        {
          "output_type": "stream",
          "name": "stdout",
          "text": [
            "EPOCH 7 Completed. \n",
            " Training Loss: 0.470, Training Accuracy: 83.49, Validation Loss: 0.812, Validation Accuracy: 75.00 \n",
            "\n",
            "Adjusting learning rate of group 0 to 6.9834e-03.\n"
          ]
        },
        {
          "output_type": "stream",
          "name": "stderr",
          "text": [
            "352it [00:09, 37.33it/s]\n"
          ]
        },
        {
          "output_type": "stream",
          "name": "stdout",
          "text": [
            "EPOCH 8 Completed. \n",
            " Training Loss: 0.380, Training Accuracy: 86.59, Validation Loss: 0.852, Validation Accuracy: 73.96 \n",
            "\n",
            "Adjusting learning rate of group 0 to 6.6342e-03.\n"
          ]
        },
        {
          "output_type": "stream",
          "name": "stderr",
          "text": [
            "352it [00:09, 38.31it/s]\n"
          ]
        },
        {
          "output_type": "stream",
          "name": "stdout",
          "text": [
            "EPOCH 9 Completed. \n",
            " Training Loss: 0.300, Training Accuracy: 89.35, Validation Loss: 0.894, Validation Accuracy: 74.38 \n",
            "\n",
            "Adjusting learning rate of group 0 to 6.3025e-03.\n"
          ]
        },
        {
          "output_type": "stream",
          "name": "stderr",
          "text": [
            "352it [00:09, 35.99it/s]\n"
          ]
        },
        {
          "output_type": "stream",
          "name": "stdout",
          "text": [
            "EPOCH 10 Completed. \n",
            " Training Loss: 0.233, Training Accuracy: 91.70, Validation Loss: 1.004, Validation Accuracy: 74.18 \n",
            "\n",
            "Adjusting learning rate of group 0 to 5.9874e-03.\n"
          ]
        },
        {
          "output_type": "stream",
          "name": "stderr",
          "text": [
            "352it [00:10, 34.71it/s]\n"
          ]
        },
        {
          "output_type": "stream",
          "name": "stdout",
          "text": [
            "EPOCH 11 Completed. \n",
            " Training Loss: 0.182, Training Accuracy: 93.41, Validation Loss: 1.068, Validation Accuracy: 73.94 \n",
            "\n",
            "Adjusting learning rate of group 0 to 5.6880e-03.\n"
          ]
        },
        {
          "output_type": "stream",
          "name": "stderr",
          "text": [
            "352it [00:10, 33.88it/s]\n"
          ]
        },
        {
          "output_type": "stream",
          "name": "stdout",
          "text": [
            "EPOCH 12 Completed. \n",
            " Training Loss: 0.131, Training Accuracy: 95.52, Validation Loss: 1.156, Validation Accuracy: 74.14 \n",
            "\n",
            "Adjusting learning rate of group 0 to 5.4036e-03.\n"
          ]
        },
        {
          "output_type": "stream",
          "name": "stderr",
          "text": [
            "352it [00:10, 34.66it/s]\n"
          ]
        },
        {
          "output_type": "stream",
          "name": "stdout",
          "text": [
            "EPOCH 13 Completed. \n",
            " Training Loss: 0.103, Training Accuracy: 96.38, Validation Loss: 1.201, Validation Accuracy: 74.84 \n",
            "\n",
            "Adjusting learning rate of group 0 to 5.1334e-03.\n"
          ]
        },
        {
          "output_type": "stream",
          "name": "stderr",
          "text": [
            "352it [00:10, 34.92it/s]\n"
          ]
        },
        {
          "output_type": "stream",
          "name": "stdout",
          "text": [
            "EPOCH 14 Completed. \n",
            " Training Loss: 0.087, Training Accuracy: 96.94, Validation Loss: 1.279, Validation Accuracy: 75.58 \n",
            "\n",
            "Adjusting learning rate of group 0 to 4.8767e-03.\n"
          ]
        },
        {
          "output_type": "stream",
          "name": "stderr",
          "text": [
            "352it [00:10, 34.74it/s]\n"
          ]
        },
        {
          "output_type": "stream",
          "name": "stdout",
          "text": [
            "EPOCH 15 Completed. \n",
            " Training Loss: 0.069, Training Accuracy: 97.53, Validation Loss: 1.338, Validation Accuracy: 74.90 \n",
            "\n",
            "Adjusting learning rate of group 0 to 4.6329e-03.\n"
          ]
        },
        {
          "output_type": "stream",
          "name": "stderr",
          "text": [
            "352it [00:10, 34.27it/s]\n"
          ]
        },
        {
          "output_type": "stream",
          "name": "stdout",
          "text": [
            "EPOCH 16 Completed. \n",
            " Training Loss: 0.054, Training Accuracy: 98.14, Validation Loss: 1.469, Validation Accuracy: 74.98 \n",
            "\n",
            "Adjusting learning rate of group 0 to 4.4013e-03.\n"
          ]
        },
        {
          "output_type": "stream",
          "name": "stderr",
          "text": [
            "352it [00:09, 37.58it/s]\n"
          ]
        },
        {
          "output_type": "stream",
          "name": "stdout",
          "text": [
            "EPOCH 17 Completed. \n",
            " Training Loss: 0.051, Training Accuracy: 98.25, Validation Loss: 1.588, Validation Accuracy: 74.66 \n",
            "\n",
            "Adjusting learning rate of group 0 to 4.1812e-03.\n"
          ]
        },
        {
          "output_type": "stream",
          "name": "stderr",
          "text": [
            "352it [00:09, 38.53it/s]\n"
          ]
        },
        {
          "output_type": "stream",
          "name": "stdout",
          "text": [
            "EPOCH 18 Completed. \n",
            " Training Loss: 0.050, Training Accuracy: 98.14, Validation Loss: 1.559, Validation Accuracy: 74.40 \n",
            "\n",
            "Adjusting learning rate of group 0 to 3.9721e-03.\n"
          ]
        },
        {
          "output_type": "stream",
          "name": "stderr",
          "text": [
            "352it [00:10, 34.90it/s]\n"
          ]
        },
        {
          "output_type": "stream",
          "name": "stdout",
          "text": [
            "EPOCH 19 Completed. \n",
            " Training Loss: 0.030, Training Accuracy: 98.95, Validation Loss: 1.553, Validation Accuracy: 75.58 \n",
            "\n",
            "Adjusting learning rate of group 0 to 3.7735e-03.\n"
          ]
        },
        {
          "output_type": "stream",
          "name": "stderr",
          "text": [
            "352it [00:10, 34.40it/s]\n"
          ]
        },
        {
          "output_type": "stream",
          "name": "stdout",
          "text": [
            "EPOCH 20 Completed. \n",
            " Training Loss: 0.028, Training Accuracy: 99.06, Validation Loss: 1.628, Validation Accuracy: 75.04 \n",
            "\n",
            "Adjusting learning rate of group 0 to 3.5849e-03.\n"
          ]
        }
      ]
    },
    {
      "cell_type": "code",
      "source": [
        "plt.figure()\n",
        "plt.plot(np.arange(1,EPOCHS+1), losses, label='training loss')\n",
        "plt.plot(np.arange(1,EPOCHS+1), valid_losses, label='validation loss')\n",
        "plt.legend()\n",
        "plt.show()"
      ],
      "metadata": {
        "colab": {
          "base_uri": "https://localhost:8080/",
          "height": 430
        },
        "id": "sAOI344CnkoJ",
        "outputId": "1b59f73e-3ab5-4c79-c216-91490d3f0162"
      },
      "execution_count": 31,
      "outputs": [
        {
          "output_type": "display_data",
          "data": {
            "text/plain": [
              "<Figure size 640x480 with 1 Axes>"
            ],
            "image/png": "[encoded data removed]"
          },
          "metadata": {}
        }
      ]
    },
    {
      "cell_type": "code",
      "source": [
        "plt.figure()\n",
        "plt.plot(np.arange(1,EPOCHS+1), accs, label='training accuracy')\n",
        "plt.plot(np.arange(1,EPOCHS+1), valid_accs, label='validation accuracy')\n",
        "plt.legend()\n",
        "plt.show()"
      ],
      "metadata": {
        "colab": {
          "base_uri": "https://localhost:8080/",
          "height": 430
        },
        "id": "GETmUg7LnmAr",
        "outputId": "1aeccaf4-e900-4bde-e7a6-18f2a150b707"
      },
      "execution_count": 32,
      "outputs": [
        {
          "output_type": "display_data",
          "data": {
            "text/plain": [
              "<Figure size 640x480 with 1 Axes>"
            ],
            "image/png": "[encoded data removed]"
          },
          "metadata": {}
        }
      ]
    },
    {
      "cell_type": "code",
      "source": [
        "test(conv_model, testloader, device)"
      ],
      "metadata": {
        "colab": {
          "base_uri": "https://localhost:8080/"
        },
        "id": "M0N-S64tnnOR",
        "outputId": "49de913c-2e7c-4590-eae8-3369b9a7d864"
      },
      "execution_count": 33,
      "outputs": [
        {
          "output_type": "stream",
          "name": "stdout",
          "text": [
            "Accuracy of the network on 10000 test images: 74.15 %\n"
          ]
        }
      ]
    },
    {
      "cell_type": "code",
      "source": [],
      "metadata": {
        "id": "ZgEkdcRSoIAA"
      },
      "execution_count": null,
      "outputs": []
    }
  ],
  "metadata": {
    "kernelspec": {
      "display_name": "Python 3",
      "name": "python3"
    },
    "language_info": {
      "codemirror_mode": {
        "name": "ipython",
        "version": 3
      },
      "file_extension": ".py",
      "mimetype": "text/x-python",
      "name": "python",
      "nbconvert_exporter": "python",
      "pygments_lexer": "ipython3",
      "version": "3.8.13"
    },
    "orig_nbformat": 4,
    "colab": {
      "provenance": [],
      "gpuType": "T4"
    },
    "accelerator": "GPU"
  },
  "nbformat": 4,
  "nbformat_minor": 0
}