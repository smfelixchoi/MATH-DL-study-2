{
 "cells": [
  {
   "cell_type": "markdown",
   "metadata": {},
   "source": [
    "# Homework\n",
    "\n",
    "## Inception Module\n",
    "\n",
    "<center><img src=\"./inception_module.png\" width=\"800\" height=\"300\"></center>\n",
    "\n",
    "Build the inception module and construct your own model.\n",
    "Train it with CIFAR-10 dataset and show us the result."
   ]
  }
 ],
 "metadata": {
  "language_info": {
   "name": "python"
  },
  "orig_nbformat": 4
 },
 "nbformat": 4,
 "nbformat_minor": 2
}
