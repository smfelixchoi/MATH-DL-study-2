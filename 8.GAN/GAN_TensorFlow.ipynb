{
  "cells": [
    {
      "cell_type": "markdown",
      "id": "297e296f",
      "metadata": {
        "id": "297e296f"
      },
      "source": [
        "# GAN - TensorFlow using MNIST\n",
        "\n",
        "### 작성자: 고려대학교 수학과 석사과정 최선묵\n",
        "\n",
        "[References]  \n",
        "- [Goodfellow's GAN Paper Link](https://proceedings.neurips.cc/paper/2014/file/5ca3e9b122f61f8f06494c97b1afccf3-Paper.pdf)  \n",
        "- [DCGAN Paper Link](https://arxiv.org/pdf/1511.06434.pdf)\n"
      ]
    },
    {
      "cell_type": "code",
      "execution_count": 1,
      "id": "986b184a",
      "metadata": {
        "id": "986b184a"
      },
      "outputs": [],
      "source": [
        "import tensorflow as tf\n",
        "import numpy as np\n",
        "import matplotlib.pyplot as plt\n",
        "import matplotlib.animation as animation\n",
        "from IPython.display import HTML\n",
        "\n",
        "from tensorflow.keras.layers import Input, Dense, Conv2D, Conv2DTranspose, UpSampling2D\n",
        "from tensorflow.keras.layers import BatchNormalization, Flatten, Reshape, GlobalAveragePooling2D\n",
        "from tensorflow.keras.activations import relu, tanh, sigmoid\n",
        "from tensorflow.keras.models import Model\n",
        "from tensorflow.keras.losses import BinaryCrossentropy\n",
        "from tensorflow.keras.optimizers import Adam\n"
      ]
    },
    {
      "cell_type": "markdown",
      "id": "a955ffdf",
      "metadata": {
        "id": "a955ffdf"
      },
      "source": [
        "## Data Preparation"
      ]
    },
    {
      "cell_type": "code",
      "execution_count": 2,
      "id": "b0cfbe7b",
      "metadata": {
        "id": "b0cfbe7b"
      },
      "outputs": [
        {
          "name": "stderr",
          "output_type": "stream",
          "text": [
            "2023-08-26 23:59:02.794988: I tensorflow/compiler/jit/xla_cpu_device.cc:41] Not creating XLA devices, tf_xla_enable_xla_devices not set\n",
            "2023-08-26 23:59:02.806673: I tensorflow/core/platform/cpu_feature_guard.cc:142] This TensorFlow binary is optimized with oneAPI Deep Neural Network Library (oneDNN) to use the following CPU instructions in performance-critical operations:  AVX2 FMA\n",
            "To enable them in other operations, rebuild TensorFlow with the appropriate compiler flags.\n"
          ]
        }
      ],
      "source": [
        "# Download MNIST dataset in numpy array format\n",
        "(X_train, y_train), (X_test, y_test) = tf.keras.datasets.mnist.load_data()\n",
        "\n",
        "# Reshape it into 4-dim'l tensor and convert the type for `int` into `float`\n",
        "train_images = X_train.reshape((X_train.shape[0], 28*28)).astype('float32')\n",
        "test_images = X_test.reshape((X_test.shape[0], 28*28)).astype('float32')\n",
        "\n",
        "data_images = np.concatenate((train_images, test_images), axis=0)\n",
        "\n",
        "# Set the pixel values from -1 to 1\n",
        "data_images = (data_images/255.0) * 2 - 1\n",
        "\n",
        "# Shuffle and seperate into batches\n",
        "BATCH_SIZE = 128\n",
        "train_dataset = tf.data.Dataset.from_tensor_slices(data_images).shuffle(data_images.shape[0]).batch(BATCH_SIZE)"
      ]
    },
    {
      "cell_type": "markdown",
      "id": "280afd66",
      "metadata": {
        "id": "280afd66"
      },
      "source": [
        "## Deep Convolutional GANs\n",
        "\n",
        "### Architecture guidelines for stable Deep Convolutional GANs\n",
        "\n",
        "- Replace any pooling layers with `strided convolutions` (discriminator) and `fractional-strided convolutions` (generator).\n",
        "- Use `BatchNormaliziation` in both the generator and the discriminator.\n",
        "- Remove fully connected hidden layers for deeper architectures.\n",
        "- Use `ReLU` activation in `generator` for all layers except for the output, which uses Tanh.\n",
        "- Use `LeakyReLU` activation in the `discriminator` for all layers."
      ]
    },
    {
      "cell_type": "code",
      "execution_count": 3,
      "id": "d683a2a0",
      "metadata": {
        "id": "d683a2a0"
      },
      "outputs": [],
      "source": [
        "## Hyperparameters\n",
        "latent_dim = 50\n",
        "\n",
        "EPOCHS = 70\n",
        "LR = 2e-4\n",
        "BETA1 = 0.5 # for Adam optimizer\n"
      ]
    },
    {
      "cell_type": "markdown",
      "id": "ca86f5a3",
      "metadata": {
        "id": "ca86f5a3"
      },
      "source": [
        "### Generator"
      ]
    },
    {
      "cell_type": "code",
      "execution_count": 4,
      "id": "5cba7fc2",
      "metadata": {
        "id": "5cba7fc2"
      },
      "outputs": [],
      "source": [
        "def create_generator(input_size=latent_dim):\n",
        "    input_tensor = Input(shape=(input_size))\n",
        "\n",
        "    x = Dense(150, kernel_initializer='he_uniform')(input_tensor)\n",
        "    x = BatchNormalization()(x)\n",
        "    x = relu(x, alpha=0.0)\n",
        "\n",
        "    x = Dense(300, kernel_initializer='he_uniform')(x)\n",
        "    x = BatchNormalization()(x)\n",
        "    x = relu(x, alpha=0.0)\n",
        "\n",
        "    x = Dense(500, kernel_initializer='he_uniform')(x)\n",
        "    x = BatchNormalization()(x)\n",
        "    x = relu(x, alpha=0.0)\n",
        "\n",
        "    x = Dense(28*28, kernel_initializer='he_uniform')(x)\n",
        "    x = BatchNormalization()(x)\n",
        "    x = tanh(x)\n",
        "\n",
        "    model = Model(inputs=input_tensor, outputs=x)\n",
        "\n",
        "    return model"
      ]
    },
    {
      "cell_type": "code",
      "execution_count": 5,
      "id": "73a58c0e",
      "metadata": {
        "colab": {
          "base_uri": "https://localhost:8080/"
        },
        "id": "73a58c0e",
        "outputId": "01facbf1-2f3d-4c84-a77b-3cd02bc77a49"
      },
      "outputs": [
        {
          "name": "stdout",
          "output_type": "stream",
          "text": [
            "Model: \"model\"\n",
            "_________________________________________________________________\n",
            "Layer (type)                 Output Shape              Param #   \n",
            "=================================================================\n",
            "input_1 (InputLayer)         [(None, 50)]              0         \n",
            "_________________________________________________________________\n",
            "dense (Dense)                (None, 150)               7650      \n",
            "_________________________________________________________________\n",
            "batch_normalization (BatchNo (None, 150)               600       \n",
            "_________________________________________________________________\n",
            "tf.nn.relu (TFOpLambda)      (None, 150)               0         \n",
            "_________________________________________________________________\n",
            "dense_1 (Dense)              (None, 300)               45300     \n",
            "_________________________________________________________________\n",
            "batch_normalization_1 (Batch (None, 300)               1200      \n",
            "_________________________________________________________________\n",
            "tf.nn.relu_1 (TFOpLambda)    (None, 300)               0         \n",
            "_________________________________________________________________\n",
            "dense_2 (Dense)              (None, 500)               150500    \n",
            "_________________________________________________________________\n",
            "batch_normalization_2 (Batch (None, 500)               2000      \n",
            "_________________________________________________________________\n",
            "tf.nn.relu_2 (TFOpLambda)    (None, 500)               0         \n",
            "_________________________________________________________________\n",
            "dense_3 (Dense)              (None, 784)               392784    \n",
            "_________________________________________________________________\n",
            "batch_normalization_3 (Batch (None, 784)               3136      \n",
            "_________________________________________________________________\n",
            "tf.math.tanh (TFOpLambda)    (None, 784)               0         \n",
            "=================================================================\n",
            "Total params: 603,170\n",
            "Trainable params: 599,702\n",
            "Non-trainable params: 3,468\n",
            "_________________________________________________________________\n"
          ]
        }
      ],
      "source": [
        "g_model = create_generator()\n",
        "g_model.summary()"
      ]
    },
    {
      "cell_type": "markdown",
      "id": "cb3b53bc",
      "metadata": {
        "id": "cb3b53bc"
      },
      "source": [
        "### Discriminator"
      ]
    },
    {
      "cell_type": "code",
      "execution_count": 6,
      "id": "e55c934e",
      "metadata": {
        "id": "e55c934e"
      },
      "outputs": [],
      "source": [
        "def create_discriminator(input_shape=(28*28,)):\n",
        "\n",
        "    input_tensor = Input(shape=input_shape)\n",
        "\n",
        "    x = Dense(500, kernel_initializer='he_uniform')(input_tensor)\n",
        "    x = BatchNormalization()(x)\n",
        "    x = relu(x, alpha=0.2)\n",
        "\n",
        "    x = Dense(250, kernel_initializer='he_uniform')(x)\n",
        "    x = BatchNormalization()(x)\n",
        "    x = relu(x, alpha=0.2)\n",
        "\n",
        "    x = Dense(100, kernel_initializer='he_uniform')(x)\n",
        "    x = BatchNormalization()(x)\n",
        "    x = relu(x, alpha=0.2)\n",
        "\n",
        "    x = Dense(50, kernel_initializer='he_uniform')(x)\n",
        "    x = BatchNormalization()(x)\n",
        "    x = relu(x, alpha=0.2)\n",
        "\n",
        "    x = Dense(1, kernel_initializer='he_uniform')(x)\n",
        "    x = BatchNormalization()(x)\n",
        "    x = sigmoid(x)\n",
        "\n",
        "    model = Model(inputs=input_tensor, outputs=x)\n",
        "\n",
        "    return model\n",
        "\n"
      ]
    },
    {
      "cell_type": "code",
      "execution_count": 7,
      "id": "9be4b681",
      "metadata": {
        "colab": {
          "base_uri": "https://localhost:8080/"
        },
        "id": "9be4b681",
        "outputId": "b6fd9893-2ff0-428c-c50f-ef60b876aa57"
      },
      "outputs": [
        {
          "name": "stdout",
          "output_type": "stream",
          "text": [
            "Model: \"model_1\"\n",
            "_________________________________________________________________\n",
            "Layer (type)                 Output Shape              Param #   \n",
            "=================================================================\n",
            "input_2 (InputLayer)         [(None, 784)]             0         \n",
            "_________________________________________________________________\n",
            "dense_4 (Dense)              (None, 500)               392500    \n",
            "_________________________________________________________________\n",
            "batch_normalization_4 (Batch (None, 500)               2000      \n",
            "_________________________________________________________________\n",
            "tf.nn.leaky_relu (TFOpLambda (None, 500)               0         \n",
            "_________________________________________________________________\n",
            "dense_5 (Dense)              (None, 250)               125250    \n",
            "_________________________________________________________________\n",
            "batch_normalization_5 (Batch (None, 250)               1000      \n",
            "_________________________________________________________________\n",
            "tf.nn.leaky_relu_1 (TFOpLamb (None, 250)               0         \n",
            "_________________________________________________________________\n",
            "dense_6 (Dense)              (None, 100)               25100     \n",
            "_________________________________________________________________\n",
            "batch_normalization_6 (Batch (None, 100)               400       \n",
            "_________________________________________________________________\n",
            "tf.nn.leaky_relu_2 (TFOpLamb (None, 100)               0         \n",
            "_________________________________________________________________\n",
            "dense_7 (Dense)              (None, 50)                5050      \n",
            "_________________________________________________________________\n",
            "batch_normalization_7 (Batch (None, 50)                200       \n",
            "_________________________________________________________________\n",
            "tf.nn.leaky_relu_3 (TFOpLamb (None, 50)                0         \n",
            "_________________________________________________________________\n",
            "dense_8 (Dense)              (None, 1)                 51        \n",
            "_________________________________________________________________\n",
            "batch_normalization_8 (Batch (None, 1)                 4         \n",
            "_________________________________________________________________\n",
            "tf.math.sigmoid (TFOpLambda) (None, 1)                 0         \n",
            "=================================================================\n",
            "Total params: 551,555\n",
            "Trainable params: 549,753\n",
            "Non-trainable params: 1,802\n",
            "_________________________________________________________________\n"
          ]
        }
      ],
      "source": [
        "d_model = create_discriminator()\n",
        "d_model.summary()"
      ]
    },
    {
      "cell_type": "markdown",
      "id": "46dc6193",
      "metadata": {
        "id": "46dc6193"
      },
      "source": [
        "### GAN model"
      ]
    },
    {
      "cell_type": "code",
      "execution_count": 8,
      "id": "4195d354",
      "metadata": {
        "id": "4195d354"
      },
      "outputs": [],
      "source": [
        "class GAN(tf.keras.Model):\n",
        "    def __init__(self, generator, discriminator, noise_size=latent_dim, d_iter=1):\n",
        "        super(GAN, self).__init__()\n",
        "        self.generator = generator\n",
        "        self.discriminator = discriminator\n",
        "        self.noise_size = noise_size\n",
        "        self.d_iter = d_iter\n",
        "\n",
        "    def compile(self, d_optimizer, g_optimizer):\n",
        "        super(GAN, self).compile()\n",
        "        self.d_optimizer = d_optimizer\n",
        "        self.g_optimizer = g_optimizer\n",
        "\n",
        "    def create_gen_input(self, batch_size, seed=None):\n",
        "        noise = tf.random.normal([batch_size, self.noise_size], seed=seed)\n",
        "        return noise\n",
        "\n",
        "    def train_step(self, real_img):\n",
        "\n",
        "        criterion = BinaryCrossentropy()\n",
        "        batch_size = tf.shape(real_img)[0]\n",
        "\n",
        "        # Train Discriminator d_iter times with fixed generator.\n",
        "        with tf.GradientTape() as d_tape:\n",
        "            self.discriminator.trainable = True\n",
        "            self.generator.trainable = False\n",
        "            d_tape.watch(self.discriminator.trainable_variables)\n",
        "\n",
        "            # Real images have label 1 for the discriminator.\n",
        "            real_label = tf.ones((batch_size, 1))\n",
        "\n",
        "            # Create fake images\n",
        "            noise = self.create_gen_input(batch_size=batch_size)\n",
        "            fake_img = self.generator(noise)\n",
        "\n",
        "            # Fake images have label 0 for the discriminator.\n",
        "            fake_label = tf.zeros((batch_size, 1))\n",
        "\n",
        "            # Compute discriminator output and its loss\n",
        "            imgs   = tf.concat([real_img, fake_img], axis=0)\n",
        "            labels = tf.concat([real_label, fake_label], axis=0)\n",
        "            d_output = self.discriminator(imgs)\n",
        "            d_loss = criterion(labels, d_output)\n",
        "\n",
        "        # Compute gradients\n",
        "        d_gradients = d_tape.gradient(d_loss, self.discriminator.trainable_variables)\n",
        "\n",
        "        # Optimize\n",
        "        self.d_optimizer.apply_gradients(zip(d_gradients, self.discriminator.trainable_variables))\n",
        "\n",
        "        # Train Generator with fixed discriminator.\n",
        "        with tf.GradientTape() as g_tape:\n",
        "            self.discriminator.trainable = False\n",
        "            self.generator.trainable = True\n",
        "            g_tape.watch(self.generator.trainable_variables)\n",
        "\n",
        "            # Train generator using fake batch images. Fake images have label 1 for generators.\n",
        "            noise = self.create_gen_input(batch_size=2*batch_size)\n",
        "            fake_img = self.generator(noise)\n",
        "            real_label = tf.ones((2*batch_size, 1))\n",
        "            d_fake_output = self.discriminator(fake_img)\n",
        "            g_loss = criterion(real_label, d_fake_output)\n",
        "\n",
        "        # Compute gradients\n",
        "        g_gradients = g_tape.gradient(g_loss, self.generator.trainable_variables)\n",
        "\n",
        "        # Optimize\n",
        "        self.g_optimizer.apply_gradients(zip(g_gradients, self.generator.trainable_variables))\n",
        "\n",
        "        return {\"d_loss\": d_loss, \"g_loss\": g_loss}\n",
        "\n"
      ]
    },
    {
      "cell_type": "code",
      "execution_count": 9,
      "id": "9f62fddd",
      "metadata": {
        "colab": {
          "base_uri": "https://localhost:8080/"
        },
        "id": "9f62fddd",
        "outputId": "e2d8f335-4e38-4ba3-bbce-d79a272d5c22",
        "scrolled": true
      },
      "outputs": [
        {
          "name": "stdout",
          "output_type": "stream",
          "text": [
            "Epoch 1/70\n",
            "547/547 [==============================] - 26s 10ms/step - d_loss: 0.4159 - g_loss: 2.5315\n",
            "Epoch 2/70\n",
            "547/547 [==============================] - 6s 11ms/step - d_loss: 0.4299 - g_loss: 1.7768\n",
            "Epoch 3/70\n",
            "547/547 [==============================] - 5s 10ms/step - d_loss: 0.4062 - g_loss: 1.7774\n",
            "Epoch 4/70\n",
            "547/547 [==============================] - 6s 11ms/step - d_loss: 0.3760 - g_loss: 1.9389\n",
            "Epoch 5/70\n",
            "547/547 [==============================] - 6s 10ms/step - d_loss: 0.4172 - g_loss: 1.7396\n",
            "Epoch 6/70\n",
            "547/547 [==============================] - 6s 10ms/step - d_loss: 0.4335 - g_loss: 1.6795\n",
            "Epoch 7/70\n",
            "547/547 [==============================] - 5s 10ms/step - d_loss: 0.4383 - g_loss: 1.6572\n",
            "Epoch 8/70\n",
            "547/547 [==============================] - 6s 10ms/step - d_loss: 0.4557 - g_loss: 1.5840\n",
            "Epoch 9/70\n",
            "547/547 [==============================] - 7s 12ms/step - d_loss: 0.4735 - g_loss: 1.5390\n",
            "Epoch 10/70\n",
            "547/547 [==============================] - 6s 10ms/step - d_loss: 0.4785 - g_loss: 1.4957\n",
            "Epoch 11/70\n",
            "547/547 [==============================] - 6s 11ms/step - d_loss: 0.4841 - g_loss: 1.4725\n",
            "Epoch 12/70\n",
            "547/547 [==============================] - 6s 10ms/step - d_loss: 0.4901 - g_loss: 1.4397\n",
            "Epoch 13/70\n",
            "547/547 [==============================] - 6s 11ms/step - d_loss: 0.4958 - g_loss: 1.4200\n",
            "Epoch 14/70\n",
            "547/547 [==============================] - 6s 11ms/step - d_loss: 0.5018 - g_loss: 1.3941\n",
            "Epoch 15/70\n",
            "547/547 [==============================] - 6s 11ms/step - d_loss: 0.5095 - g_loss: 1.3578\n",
            "Epoch 16/70\n",
            "547/547 [==============================] - 6s 11ms/step - d_loss: 0.5144 - g_loss: 1.3355\n",
            "Epoch 17/70\n",
            "547/547 [==============================] - 5s 10ms/step - d_loss: 0.5163 - g_loss: 1.3250\n",
            "Epoch 18/70\n",
            "547/547 [==============================] - 6s 11ms/step - d_loss: 0.5210 - g_loss: 1.3074\n",
            "Epoch 19/70\n",
            "547/547 [==============================] - 5s 10ms/step - d_loss: 0.5264 - g_loss: 1.2803\n",
            "Epoch 20/70\n",
            "547/547 [==============================] - 6s 11ms/step - d_loss: 0.5289 - g_loss: 1.2678\n",
            "Epoch 21/70\n",
            "547/547 [==============================] - 6s 11ms/step - d_loss: 0.5360 - g_loss: 1.2590\n",
            "Epoch 22/70\n",
            "547/547 [==============================] - 6s 10ms/step - d_loss: 0.5365 - g_loss: 1.2302\n",
            "Epoch 23/70\n",
            "547/547 [==============================] - 6s 11ms/step - d_loss: 0.5422 - g_loss: 1.2222\n",
            "Epoch 24/70\n",
            "547/547 [==============================] - 6s 10ms/step - d_loss: 0.5423 - g_loss: 1.2157\n",
            "Epoch 25/70\n",
            "547/547 [==============================] - 6s 11ms/step - d_loss: 0.5481 - g_loss: 1.2036\n",
            "Epoch 26/70\n",
            "547/547 [==============================] - 6s 11ms/step - d_loss: 0.5493 - g_loss: 1.1949\n",
            "Epoch 27/70\n",
            "547/547 [==============================] - 6s 10ms/step - d_loss: 0.5505 - g_loss: 1.1878\n",
            "Epoch 28/70\n",
            "547/547 [==============================] - 6s 11ms/step - d_loss: 0.5534 - g_loss: 1.1771\n",
            "Epoch 29/70\n",
            "547/547 [==============================] - 6s 11ms/step - d_loss: 0.5560 - g_loss: 1.1660\n",
            "Epoch 30/70\n",
            "547/547 [==============================] - 6s 10ms/step - d_loss: 0.5589 - g_loss: 1.1648\n",
            "Epoch 31/70\n",
            "547/547 [==============================] - 6s 11ms/step - d_loss: 0.5622 - g_loss: 1.1482\n",
            "Epoch 32/70\n",
            "547/547 [==============================] - 5s 10ms/step - d_loss: 0.5641 - g_loss: 1.1434\n",
            "Epoch 33/70\n",
            "547/547 [==============================] - 6s 11ms/step - d_loss: 0.5669 - g_loss: 1.1308\n",
            "Epoch 34/70\n",
            "547/547 [==============================] - 6s 10ms/step - d_loss: 0.5704 - g_loss: 1.1246\n",
            "Epoch 35/70\n",
            "547/547 [==============================] - 6s 11ms/step - d_loss: 0.5718 - g_loss: 1.1192\n",
            "Epoch 36/70\n",
            "547/547 [==============================] - 5s 10ms/step - d_loss: 0.5730 - g_loss: 1.1128\n",
            "Epoch 37/70\n",
            "547/547 [==============================] - 6s 11ms/step - d_loss: 0.5756 - g_loss: 1.1022\n",
            "Epoch 38/70\n",
            "547/547 [==============================] - 6s 10ms/step - d_loss: 0.5771 - g_loss: 1.0965\n",
            "Epoch 39/70\n",
            "547/547 [==============================] - 5s 10ms/step - d_loss: 0.5783 - g_loss: 1.0910\n",
            "Epoch 40/70\n",
            "547/547 [==============================] - 6s 11ms/step - d_loss: 0.5814 - g_loss: 1.0810\n",
            "Epoch 41/70\n",
            "547/547 [==============================] - 5s 10ms/step - d_loss: 0.5830 - g_loss: 1.0799\n",
            "Epoch 42/70\n",
            "547/547 [==============================] - 6s 11ms/step - d_loss: 0.5857 - g_loss: 1.0712\n",
            "Epoch 43/70\n",
            "547/547 [==============================] - 5s 10ms/step - d_loss: 0.5856 - g_loss: 1.0638\n",
            "Epoch 44/70\n",
            "547/547 [==============================] - 6s 11ms/step - d_loss: 0.5881 - g_loss: 1.0597\n",
            "Epoch 45/70\n",
            "547/547 [==============================] - 6s 11ms/step - d_loss: 0.5893 - g_loss: 1.0591\n",
            "Epoch 46/70\n",
            "547/547 [==============================] - 6s 11ms/step - d_loss: 0.5886 - g_loss: 1.0546\n",
            "Epoch 47/70\n",
            "547/547 [==============================] - 6s 11ms/step - d_loss: 0.5902 - g_loss: 1.0503\n",
            "Epoch 48/70\n",
            "547/547 [==============================] - 5s 10ms/step - d_loss: 0.5907 - g_loss: 1.0471\n",
            "Epoch 49/70\n",
            "547/547 [==============================] - 5s 10ms/step - d_loss: 0.5927 - g_loss: 1.0466\n",
            "Epoch 50/70\n",
            "547/547 [==============================] - 6s 10ms/step - d_loss: 0.5923 - g_loss: 1.0412\n",
            "Epoch 51/70\n",
            "547/547 [==============================] - 6s 11ms/step - d_loss: 0.5925 - g_loss: 1.0407\n",
            "Epoch 52/70\n",
            "547/547 [==============================] - 5s 10ms/step - d_loss: 0.5931 - g_loss: 1.0444\n",
            "Epoch 53/70\n",
            "547/547 [==============================] - 6s 11ms/step - d_loss: 0.5941 - g_loss: 1.0398\n",
            "Epoch 54/70\n",
            "547/547 [==============================] - 5s 10ms/step - d_loss: 0.5938 - g_loss: 1.0328\n",
            "Epoch 55/70\n",
            "547/547 [==============================] - 5s 10ms/step - d_loss: 0.5962 - g_loss: 1.0340\n",
            "Epoch 56/70\n",
            "547/547 [==============================] - 6s 11ms/step - d_loss: 0.5950 - g_loss: 1.0317\n",
            "Epoch 57/70\n",
            "547/547 [==============================] - 5s 10ms/step - d_loss: 0.5970 - g_loss: 1.0310\n",
            "Epoch 58/70\n",
            "547/547 [==============================] - 5s 10ms/step - d_loss: 0.5959 - g_loss: 1.0281\n",
            "Epoch 59/70\n",
            "547/547 [==============================] - 6s 11ms/step - d_loss: 0.5969 - g_loss: 1.0316\n",
            "Epoch 60/70\n",
            "547/547 [==============================] - 5s 10ms/step - d_loss: 0.5953 - g_loss: 1.0292\n",
            "Epoch 61/70\n",
            "547/547 [==============================] - 6s 10ms/step - d_loss: 0.5958 - g_loss: 1.0266\n",
            "Epoch 62/70\n",
            "547/547 [==============================] - 6s 10ms/step - d_loss: 0.5949 - g_loss: 1.0258\n",
            "Epoch 63/70\n",
            "547/547 [==============================] - 5s 10ms/step - d_loss: 0.5955 - g_loss: 1.0272\n",
            "Epoch 64/70\n",
            "547/547 [==============================] - 5s 10ms/step - d_loss: 0.5970 - g_loss: 1.0275\n",
            "Epoch 65/70\n",
            "547/547 [==============================] - 6s 11ms/step - d_loss: 0.5955 - g_loss: 1.0257\n",
            "Epoch 66/70\n",
            "547/547 [==============================] - 6s 11ms/step - d_loss: 0.5973 - g_loss: 1.0238\n",
            "Epoch 67/70\n",
            "547/547 [==============================] - 5s 10ms/step - d_loss: 0.5975 - g_loss: 1.0219\n",
            "Epoch 68/70\n",
            "547/547 [==============================] - 6s 11ms/step - d_loss: 0.5962 - g_loss: 1.0254\n",
            "Epoch 69/70\n",
            "547/547 [==============================] - 5s 10ms/step - d_loss: 0.5966 - g_loss: 1.0254\n",
            "Epoch 70/70\n",
            "547/547 [==============================] - 6s 11ms/step - d_loss: 0.5969 - g_loss: 1.0224\n"
          ]
        }
      ],
      "source": [
        "gan = GAN(generator=g_model, discriminator=d_model)\n",
        "\n",
        "gan.compile(d_optimizer=Adam(learning_rate=LR, beta_1 = BETA1, beta_2=0.999),\n",
        "            g_optimizer=Adam(learning_rate=LR, beta_1 = BETA1, beta_2=0.999)\n",
        "            )\n",
        "\n",
        "history = gan.fit(train_dataset, epochs=EPOCHS)"
      ]
    },
    {
      "cell_type": "code",
      "execution_count": 10,
      "id": "effBVZGgoV0l",
      "metadata": {
        "colab": {
          "base_uri": "https://localhost:8080/"
        },
        "id": "effBVZGgoV0l",
        "outputId": "54cfdf1b-262d-44fb-b806-94efe22b1a1e"
      },
      "outputs": [
        {
          "data": {
            "text/plain": [
              "dict_keys(['d_loss', 'g_loss'])"
            ]
          },
          "execution_count": 10,
          "metadata": {},
          "output_type": "execute_result"
        }
      ],
      "source": [
        "history.history.keys()"
      ]
    },
    {
      "cell_type": "code",
      "execution_count": 11,
      "id": "oON7XWuEoj7H",
      "metadata": {
        "colab": {
          "base_uri": "https://localhost:8080/",
          "height": 487
        },
        "id": "oON7XWuEoj7H",
        "outputId": "6ae15dd7-f608-4bc1-957e-7d66be35532f"
      },
      "outputs": [
        {
          "data": {
            "image/png": "[encoded data removed]",
            "text/plain": [
              "<Figure size 1000x500 with 1 Axes>"
            ]
          },
          "metadata": {},
          "output_type": "display_data"
        }
      ],
      "source": [
        "d_loss = history.history['d_loss']\n",
        "g_loss = history.history['g_loss']\n",
        "\n",
        "plt.figure(figsize=(10,5))\n",
        "plt.title(\"Generator and Discriminator Loss During Training\")\n",
        "plt.plot(g_loss,label=\"G\")\n",
        "plt.plot(d_loss,label=\"D\")\n",
        "plt.xlabel(\"Epochs\")\n",
        "plt.ylabel(\"Loss\")\n",
        "plt.legend()\n",
        "plt.savefig('tensorflow_train_loss_plot.png')\n",
        "plt.show()"
      ]
    },
    {
      "cell_type": "code",
      "execution_count": 12,
      "id": "0oOfPykzpHZ9",
      "metadata": {
        "colab": {
          "base_uri": "https://localhost:8080/",
          "height": 17
        },
        "id": "0oOfPykzpHZ9",
        "outputId": "d0ebcb6b-3418-41eb-bb02-7b0ddaf0bc46"
      },
      "outputs": [
        {
          "data": {
            "application/javascript": "\n    async function download(id, filename, size) {\n      if (!google.colab.kernel.accessAllowed) {\n        return;\n      }\n      const div = document.createElement('div');\n      const label = document.createElement('label');\n      label.textContent = `Downloading \"${filename}\": `;\n      div.appendChild(label);\n      const progress = document.createElement('progress');\n      progress.max = size;\n      div.appendChild(progress);\n      document.body.appendChild(div);\n\n      const buffers = [];\n      let downloaded = 0;\n\n      const channel = await google.colab.kernel.comms.open(id);\n      // Send a message to notify the kernel that we're ready.\n      channel.send({})\n\n      for await (const message of channel.messages) {\n        // Send a message to notify the kernel that we're ready.\n        channel.send({})\n        if (message.buffers) {\n          for (const buffer of message.buffers) {\n            buffers.push(buffer);\n            downloaded += buffer.byteLength;\n            progress.value = downloaded;\n          }\n        }\n      }\n      const blob = new Blob(buffers, {type: 'application/binary'});\n      const a = document.createElement('a');\n      a.href = window.URL.createObjectURL(blob);\n      a.download = filename;\n      div.appendChild(a);\n      a.click();\n      div.remove();\n    }\n  ",
            "text/plain": [
              "<IPython.core.display.Javascript object>"
            ]
          },
          "metadata": {},
          "output_type": "display_data"
        },
        {
          "data": {
            "application/javascript": "download(\"download_594ec8bb-cb34-43a4-a65c-8f93d50608c8\", \"tensorflow_train_loss_plot.png\", 57467)",
            "text/plain": [
              "<IPython.core.display.Javascript object>"
            ]
          },
          "metadata": {},
          "output_type": "display_data"
        }
      ],
      "source": [
        "from google.colab import files\n",
        "\n",
        "files.download('tensorflow_train_loss_plot.png')"
      ]
    },
    {
      "cell_type": "code",
      "execution_count": 18,
      "id": "9be4550b",
      "metadata": {
        "id": "9be4550b"
      },
      "outputs": [],
      "source": [
        "# Save trained models\n",
        "\n",
        "g_model.save_weights('saved_models/generator')\n",
        "d_model.save_weights('saved_models/discriminator')"
      ]
    },
    {
      "cell_type": "code",
      "execution_count": 19,
      "id": "ddzTlRgLlQrM",
      "metadata": {
        "colab": {
          "base_uri": "https://localhost:8080/",
          "height": 17
        },
        "id": "ddzTlRgLlQrM",
        "outputId": "810c7398-13c9-4999-aa69-5f5a0cb5a9a1"
      },
      "outputs": [
        {
          "data": {
            "application/javascript": "\n    async function download(id, filename, size) {\n      if (!google.colab.kernel.accessAllowed) {\n        return;\n      }\n      const div = document.createElement('div');\n      const label = document.createElement('label');\n      label.textContent = `Downloading \"${filename}\": `;\n      div.appendChild(label);\n      const progress = document.createElement('progress');\n      progress.max = size;\n      div.appendChild(progress);\n      document.body.appendChild(div);\n\n      const buffers = [];\n      let downloaded = 0;\n\n      const channel = await google.colab.kernel.comms.open(id);\n      // Send a message to notify the kernel that we're ready.\n      channel.send({})\n\n      for await (const message of channel.messages) {\n        // Send a message to notify the kernel that we're ready.\n        channel.send({})\n        if (message.buffers) {\n          for (const buffer of message.buffers) {\n            buffers.push(buffer);\n            downloaded += buffer.byteLength;\n            progress.value = downloaded;\n          }\n        }\n      }\n      const blob = new Blob(buffers, {type: 'application/binary'});\n      const a = document.createElement('a');\n      a.href = window.URL.createObjectURL(blob);\n      a.download = filename;\n      div.appendChild(a);\n      a.click();\n      div.remove();\n    }\n  ",
            "text/plain": [
              "<IPython.core.display.Javascript object>"
            ]
          },
          "metadata": {},
          "output_type": "display_data"
        },
        {
          "data": {
            "application/javascript": "download(\"download_8d405ce8-1750-4a22-84e2-b1f75049fe40\", \"checkpoint\", 83)",
            "text/plain": [
              "<IPython.core.display.Javascript object>"
            ]
          },
          "metadata": {},
          "output_type": "display_data"
        },
        {
          "data": {
            "application/javascript": "\n    async function download(id, filename, size) {\n      if (!google.colab.kernel.accessAllowed) {\n        return;\n      }\n      const div = document.createElement('div');\n      const label = document.createElement('label');\n      label.textContent = `Downloading \"${filename}\": `;\n      div.appendChild(label);\n      const progress = document.createElement('progress');\n      progress.max = size;\n      div.appendChild(progress);\n      document.body.appendChild(div);\n\n      const buffers = [];\n      let downloaded = 0;\n\n      const channel = await google.colab.kernel.comms.open(id);\n      // Send a message to notify the kernel that we're ready.\n      channel.send({})\n\n      for await (const message of channel.messages) {\n        // Send a message to notify the kernel that we're ready.\n        channel.send({})\n        if (message.buffers) {\n          for (const buffer of message.buffers) {\n            buffers.push(buffer);\n            downloaded += buffer.byteLength;\n            progress.value = downloaded;\n          }\n        }\n      }\n      const blob = new Blob(buffers, {type: 'application/binary'});\n      const a = document.createElement('a');\n      a.href = window.URL.createObjectURL(blob);\n      a.download = filename;\n      div.appendChild(a);\n      a.click();\n      div.remove();\n    }\n  ",
            "text/plain": [
              "<IPython.core.display.Javascript object>"
            ]
          },
          "metadata": {},
          "output_type": "display_data"
        },
        {
          "data": {
            "application/javascript": "download(\"download_f98c0a46-f145-4ada-843a-bd6c5625b7f8\", \"generator.data-00000-of-00001\", 2416117)",
            "text/plain": [
              "<IPython.core.display.Javascript object>"
            ]
          },
          "metadata": {},
          "output_type": "display_data"
        },
        {
          "data": {
            "application/javascript": "\n    async function download(id, filename, size) {\n      if (!google.colab.kernel.accessAllowed) {\n        return;\n      }\n      const div = document.createElement('div');\n      const label = document.createElement('label');\n      label.textContent = `Downloading \"${filename}\": `;\n      div.appendChild(label);\n      const progress = document.createElement('progress');\n      progress.max = size;\n      div.appendChild(progress);\n      document.body.appendChild(div);\n\n      const buffers = [];\n      let downloaded = 0;\n\n      const channel = await google.colab.kernel.comms.open(id);\n      // Send a message to notify the kernel that we're ready.\n      channel.send({})\n\n      for await (const message of channel.messages) {\n        // Send a message to notify the kernel that we're ready.\n        channel.send({})\n        if (message.buffers) {\n          for (const buffer of message.buffers) {\n            buffers.push(buffer);\n            downloaded += buffer.byteLength;\n            progress.value = downloaded;\n          }\n        }\n      }\n      const blob = new Blob(buffers, {type: 'application/binary'});\n      const a = document.createElement('a');\n      a.href = window.URL.createObjectURL(blob);\n      a.download = filename;\n      div.appendChild(a);\n      a.click();\n      div.remove();\n    }\n  ",
            "text/plain": [
              "<IPython.core.display.Javascript object>"
            ]
          },
          "metadata": {},
          "output_type": "display_data"
        },
        {
          "data": {
            "application/javascript": "download(\"download_8fd89529-2dd4-44b6-add8-9a6b4d717ac3\", \"generator.index\", 1609)",
            "text/plain": [
              "<IPython.core.display.Javascript object>"
            ]
          },
          "metadata": {},
          "output_type": "display_data"
        },
        {
          "data": {
            "application/javascript": "\n    async function download(id, filename, size) {\n      if (!google.colab.kernel.accessAllowed) {\n        return;\n      }\n      const div = document.createElement('div');\n      const label = document.createElement('label');\n      label.textContent = `Downloading \"${filename}\": `;\n      div.appendChild(label);\n      const progress = document.createElement('progress');\n      progress.max = size;\n      div.appendChild(progress);\n      document.body.appendChild(div);\n\n      const buffers = [];\n      let downloaded = 0;\n\n      const channel = await google.colab.kernel.comms.open(id);\n      // Send a message to notify the kernel that we're ready.\n      channel.send({})\n\n      for await (const message of channel.messages) {\n        // Send a message to notify the kernel that we're ready.\n        channel.send({})\n        if (message.buffers) {\n          for (const buffer of message.buffers) {\n            buffers.push(buffer);\n            downloaded += buffer.byteLength;\n            progress.value = downloaded;\n          }\n        }\n      }\n      const blob = new Blob(buffers, {type: 'application/binary'});\n      const a = document.createElement('a');\n      a.href = window.URL.createObjectURL(blob);\n      a.download = filename;\n      div.appendChild(a);\n      a.click();\n      div.remove();\n    }\n  ",
            "text/plain": [
              "<IPython.core.display.Javascript object>"
            ]
          },
          "metadata": {},
          "output_type": "display_data"
        },
        {
          "data": {
            "application/javascript": "download(\"download_42dcd713-be69-48ea-838c-db2c27470d51\", \"discriminator.data-00000-of-00001\", 2210524)",
            "text/plain": [
              "<IPython.core.display.Javascript object>"
            ]
          },
          "metadata": {},
          "output_type": "display_data"
        },
        {
          "data": {
            "application/javascript": "\n    async function download(id, filename, size) {\n      if (!google.colab.kernel.accessAllowed) {\n        return;\n      }\n      const div = document.createElement('div');\n      const label = document.createElement('label');\n      label.textContent = `Downloading \"${filename}\": `;\n      div.appendChild(label);\n      const progress = document.createElement('progress');\n      progress.max = size;\n      div.appendChild(progress);\n      document.body.appendChild(div);\n\n      const buffers = [];\n      let downloaded = 0;\n\n      const channel = await google.colab.kernel.comms.open(id);\n      // Send a message to notify the kernel that we're ready.\n      channel.send({})\n\n      for await (const message of channel.messages) {\n        // Send a message to notify the kernel that we're ready.\n        channel.send({})\n        if (message.buffers) {\n          for (const buffer of message.buffers) {\n            buffers.push(buffer);\n            downloaded += buffer.byteLength;\n            progress.value = downloaded;\n          }\n        }\n      }\n      const blob = new Blob(buffers, {type: 'application/binary'});\n      const a = document.createElement('a');\n      a.href = window.URL.createObjectURL(blob);\n      a.download = filename;\n      div.appendChild(a);\n      a.click();\n      div.remove();\n    }\n  ",
            "text/plain": [
              "<IPython.core.display.Javascript object>"
            ]
          },
          "metadata": {},
          "output_type": "display_data"
        },
        {
          "data": {
            "application/javascript": "download(\"download_5734d38f-7415-4a99-9ee6-56f116acb241\", \"discriminator.index\", 1950)",
            "text/plain": [
              "<IPython.core.display.Javascript object>"
            ]
          },
          "metadata": {},
          "output_type": "display_data"
        }
      ],
      "source": [
        "from google.colab import files\n",
        "\n",
        "files.download('saved_models/checkpoint')\n",
        "files.download('saved_models/generator.data-00000-of-00001')\n",
        "files.download('saved_models/generator.index')\n",
        "files.download('saved_models/discriminator.data-00000-of-00001')\n",
        "files.download('saved_models/discriminator.index')\n",
        "\n",
        "\n",
        "# files.download('saved_models/generator/saved_model.pb')\n",
        "# files.download('saved_models/generator/variables/variables.index')\n",
        "# files.download('saved_models/generator/variables/variables.data-00000-of-00001')\n",
        "\n",
        "# files.download('saved_models/discriminator/saved_model.pb')\n",
        "# files.download('saved_models/discriminator/variables/variables.index')\n",
        "# files.download('saved_models/discriminator/variables/variables.data-00000-of-00001')"
      ]
    },
    {
      "cell_type": "code",
      "execution_count": 9,
      "id": "49bf1bc9",
      "metadata": {
        "id": "49bf1bc9"
      },
      "outputs": [
        {
          "data": {
            "text/plain": [
              "<tensorflow.python.training.tracking.util.CheckpointLoadStatus at 0x7fdc2949d880>"
            ]
          },
          "execution_count": 9,
          "metadata": {},
          "output_type": "execute_result"
        }
      ],
      "source": [
        "# Load trained models\n",
        "\n",
        "g_model.load_weights('saved_models/generator')\n",
        "d_model.load_weights('saved_models/discriminator')"
      ]
    },
    {
      "cell_type": "markdown",
      "id": "6a9291ab",
      "metadata": {
        "id": "6a9291ab"
      },
      "source": [
        "## Test"
      ]
    },
    {
      "cell_type": "code",
      "execution_count": 10,
      "id": "078419a7",
      "metadata": {
        "colab": {
          "base_uri": "https://localhost:8080/",
          "height": 444
        },
        "id": "078419a7",
        "outputId": "24eb9b0e-de56-41c8-9618-6f7fa1eb4e6b"
      },
      "outputs": [
        {
          "data": {
            "image/png": "[encoded data removed]",
            "text/plain": [
              "<Figure size 1000x600 with 10 Axes>"
            ]
          },
          "metadata": {},
          "output_type": "display_data"
        }
      ],
      "source": [
        "noise = tf.random.normal([10, latent_dim], seed=128)\n",
        "generated_images = np.array(g_model(noise)).reshape(10,28,28)\n",
        "generated_images = (generated_images + 1)/2 # convert the values from [-1,1] to [0,1] for plots\n",
        "\n",
        "plt.rcParams['figure.figsize'] = (10.0, 6.0)\n",
        "\n",
        "rows = 2\n",
        "columns = 5\n",
        "\n",
        "for i in range(10) :\n",
        "    image_index = i+1      # image index\n",
        "    title = \"Sample {}\".format(image_index) # image title\n",
        "    plt.subplot(rows, columns, image_index) # subplot\n",
        "    plt.title(title)   # title\n",
        "    plt.axis('off')\n",
        "    plt.xticks([])  # x = None\n",
        "    plt.yticks([])  # y = None\n",
        "    plt.imshow(generated_images[i])\n",
        "plt.show()\n"
      ]
    },
    {
      "cell_type": "code",
      "execution_count": 16,
      "id": "5bc4e322",
      "metadata": {
        "id": "5bc4e322"
      },
      "outputs": [],
      "source": []
    }
  ],
  "metadata": {
    "accelerator": "GPU",
    "colab": {
      "provenance": []
    },
    "gpuClass": "standard",
    "kernelspec": {
      "display_name": "mathdl",
      "language": "python",
      "name": "python3"
    },
    "language_info": {
      "codemirror_mode": {
        "name": "ipython",
        "version": 3
      },
      "file_extension": ".py",
      "mimetype": "text/x-python",
      "name": "python",
      "nbconvert_exporter": "python",
      "pygments_lexer": "ipython3",
      "version": "3.8.13"
    }
  },
  "nbformat": 4,
  "nbformat_minor": 5
}
