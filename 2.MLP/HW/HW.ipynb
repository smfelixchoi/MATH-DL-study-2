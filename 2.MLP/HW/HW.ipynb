{
 "cells": [
  {
   "attachments": {},
   "cell_type": "markdown",
   "metadata": {},
   "source": [
    "# Homework"
   ]
  },
  {
   "attachments": {},
   "cell_type": "markdown",
   "metadata": {},
   "source": [
    "1. 우리가 배운 **pytorch** classification 코드에서는 **tensorflow** 와 다르게 마지막 network에 softmax 활성화함수를 쓰지 않았습니다.\n",
    "\n",
    "    (1) 기존 코드에서 코드를 추가하여 맨 마지막에 softmax 활성화함수를 쓰는 코드를 완성하시오.\n",
    "\n",
    "    (2) 완성된 코드를 돌려보면 원래 코드와 다른 결과가 나올 것입니다. 이러한 결과가 나오는 이유를 설명하시오."
   ]
  }
 ],
 "metadata": {
  "language_info": {
   "name": "python"
  },
  "orig_nbformat": 4
 },
 "nbformat": 4,
 "nbformat_minor": 2
}
