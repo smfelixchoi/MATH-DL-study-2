{
 "cells": [
  {
   "attachments": {},
   "cell_type": "markdown",
   "id": "e2c961c8",
   "metadata": {},
   "source": [
    "# Loss Function\n",
    "발표자 : 통합과정 최찬혁\n",
    "\n",
    "이 코드에서는 classification에서 자주 쓰이는 loss function인 cross-entropy loss 및 sparse-cross-entropy loss의 차이를 tensorflow 환경에서 알아보고자 합니다.\n",
    "\n",
    "이 코드는 MNIST Dataset에 대해 cross-entropy loss 및 sparse-cross-entropy loss를 이용한 모델을 학습시키는 코드입니다."
   ]
  },
  {
   "attachments": {},
   "cell_type": "markdown",
   "id": "c0a6cda0",
   "metadata": {},
   "source": [
    "## Import pakage\n",
    "필요한 패키지를 불러옵니다."
   ]
  },
  {
   "cell_type": "code",
   "execution_count": 1,
   "id": "95b795a5",
   "metadata": {},
   "outputs": [],
   "source": [
    "import tensorflow as tf\n",
    "import numpy as np\n",
    "import matplotlib.pyplot as plt\n",
    "from tensorflow.keras.layers import Input, Dense\n",
    "from tensorflow.keras.models import Model"
   ]
  },
  {
   "attachments": {},
   "cell_type": "markdown",
   "id": "c08d9d13",
   "metadata": {},
   "source": [
    "## Download data and split into train_set/validation_set/test_set\n",
    "\n",
    "MNIST 데이터를 다운로드받아서 이를 train_set/validation_set/test_set으로 분리합니다."
   ]
  },
  {
   "cell_type": "code",
   "execution_count": 2,
   "id": "4202b70a",
   "metadata": {},
   "outputs": [],
   "source": [
    "(x_train, y_train), (x_test, y_test) = tf.keras.datasets.mnist.load_data()"
   ]
  },
  {
   "attachments": {},
   "cell_type": "markdown",
   "id": "dc77716d",
   "metadata": {},
   "source": [
    "현재 다운로드 받은 데이터의 형태는 다음과 같습니다."
   ]
  },
  {
   "cell_type": "code",
   "execution_count": 3,
   "id": "d0820c4b",
   "metadata": {},
   "outputs": [
    {
     "name": "stdout",
     "output_type": "stream",
     "text": [
      "x_train :  (60000, 28, 28) <class 'numpy.ndarray'> uint8\n",
      "y_train :  (60000,) <class 'numpy.ndarray'> uint8\n",
      "x_test :  (10000, 28, 28) <class 'numpy.ndarray'> uint8\n",
      "y_test :  (10000,) <class 'numpy.ndarray'> uint8\n"
     ]
    }
   ],
   "source": [
    "print(\"x_train : \", x_train.shape, type(x_train), x_train.dtype)\n",
    "print(\"y_train : \", y_train.shape, type(y_train), y_train.dtype)\n",
    "print(\"x_test : \", x_test.shape, type(x_test), x_test.dtype)\n",
    "print(\"y_test : \", y_test.shape, type(y_test), y_test.dtype)"
   ]
  },
  {
   "attachments": {},
   "cell_type": "markdown",
   "id": "e72b23c0",
   "metadata": {},
   "source": [
    "train_set이 60000개, test_set이 10000개 있는데 train_set 60000개 중 10000개를 validation_set으로 쓰고자 합니다."
   ]
  },
  {
   "cell_type": "code",
   "execution_count": 4,
   "id": "19b55111",
   "metadata": {},
   "outputs": [],
   "source": [
    "x_train, x_valid = x_train[:50000], x_train[50000:]\n",
    "y_train, y_valid = y_train[:50000], y_train[50000:]"
   ]
  },
  {
   "attachments": {},
   "cell_type": "markdown",
   "id": "f9e71211",
   "metadata": {},
   "source": [
    "## Preprocess data"
   ]
  },
  {
   "cell_type": "code",
   "execution_count": 5,
   "id": "2f3f19f6",
   "metadata": {},
   "outputs": [
    {
     "name": "stdout",
     "output_type": "stream",
     "text": [
      "x_example : \n",
      " [[  0   0   0   0   0   0   0   0   0   0   0   0   0   0   0   0   0   0\n",
      "    0   0   0   0   0   0   0   0   0   0]\n",
      " [  0   0   0   0   0   0   0   0   0   0   0   0   0   0   0   0   0   0\n",
      "    0   0   0   0   0   0   0   0   0   0]\n",
      " [  0   0   0   0   0   0   0   0   0   0   0   0   0   0   0   0   0   0\n",
      "    0   0   0   0   0   0   0   0   0   0]\n",
      " [  0   0   0   0   0   0   0   0   0   0   0   0   0   0   0   0   0   0\n",
      "    0   0   0   0   0   0   0   0   0   0]\n",
      " [  0   0   0   0   0   0   0   0   0   0   0   0   0   0   0   0   0   0\n",
      "    0   0   0   0   0   0   0   0   0   0]\n",
      " [  0   0   0   0   0   0   0   0   0   0   0   0   3  18  18  18 126 136\n",
      "  175  26 166 255 247 127   0   0   0   0]\n",
      " [  0   0   0   0   0   0   0   0  30  36  94 154 170 253 253 253 253 253\n",
      "  225 172 253 242 195  64   0   0   0   0]\n",
      " [  0   0   0   0   0   0   0  49 238 253 253 253 253 253 253 253 253 251\n",
      "   93  82  82  56  39   0   0   0   0   0]\n",
      " [  0   0   0   0   0   0   0  18 219 253 253 253 253 253 198 182 247 241\n",
      "    0   0   0   0   0   0   0   0   0   0]\n",
      " [  0   0   0   0   0   0   0   0  80 156 107 253 253 205  11   0  43 154\n",
      "    0   0   0   0   0   0   0   0   0   0]\n",
      " [  0   0   0   0   0   0   0   0   0  14   1 154 253  90   0   0   0   0\n",
      "    0   0   0   0   0   0   0   0   0   0]\n",
      " [  0   0   0   0   0   0   0   0   0   0   0 139 253 190   2   0   0   0\n",
      "    0   0   0   0   0   0   0   0   0   0]\n",
      " [  0   0   0   0   0   0   0   0   0   0   0  11 190 253  70   0   0   0\n",
      "    0   0   0   0   0   0   0   0   0   0]\n",
      " [  0   0   0   0   0   0   0   0   0   0   0   0  35 241 225 160 108   1\n",
      "    0   0   0   0   0   0   0   0   0   0]\n",
      " [  0   0   0   0   0   0   0   0   0   0   0   0   0  81 240 253 253 119\n",
      "   25   0   0   0   0   0   0   0   0   0]\n",
      " [  0   0   0   0   0   0   0   0   0   0   0   0   0   0  45 186 253 253\n",
      "  150  27   0   0   0   0   0   0   0   0]\n",
      " [  0   0   0   0   0   0   0   0   0   0   0   0   0   0   0  16  93 252\n",
      "  253 187   0   0   0   0   0   0   0   0]\n",
      " [  0   0   0   0   0   0   0   0   0   0   0   0   0   0   0   0   0 249\n",
      "  253 249  64   0   0   0   0   0   0   0]\n",
      " [  0   0   0   0   0   0   0   0   0   0   0   0   0   0  46 130 183 253\n",
      "  253 207   2   0   0   0   0   0   0   0]\n",
      " [  0   0   0   0   0   0   0   0   0   0   0   0  39 148 229 253 253 253\n",
      "  250 182   0   0   0   0   0   0   0   0]\n",
      " [  0   0   0   0   0   0   0   0   0   0  24 114 221 253 253 253 253 201\n",
      "   78   0   0   0   0   0   0   0   0   0]\n",
      " [  0   0   0   0   0   0   0   0  23  66 213 253 253 253 253 198  81   2\n",
      "    0   0   0   0   0   0   0   0   0   0]\n",
      " [  0   0   0   0   0   0  18 171 219 253 253 253 253 195  80   9   0   0\n",
      "    0   0   0   0   0   0   0   0   0   0]\n",
      " [  0   0   0   0  55 172 226 253 253 253 253 244 133  11   0   0   0   0\n",
      "    0   0   0   0   0   0   0   0   0   0]\n",
      " [  0   0   0   0 136 253 253 253 212 135 132  16   0   0   0   0   0   0\n",
      "    0   0   0   0   0   0   0   0   0   0]\n",
      " [  0   0   0   0   0   0   0   0   0   0   0   0   0   0   0   0   0   0\n",
      "    0   0   0   0   0   0   0   0   0   0]\n",
      " [  0   0   0   0   0   0   0   0   0   0   0   0   0   0   0   0   0   0\n",
      "    0   0   0   0   0   0   0   0   0   0]\n",
      " [  0   0   0   0   0   0   0   0   0   0   0   0   0   0   0   0   0   0\n",
      "    0   0   0   0   0   0   0   0   0   0]]\n",
      "y_example 5\n"
     ]
    }
   ],
   "source": [
    "print(\"x_example : \\n\",x_train[0])\n",
    "print(\"y_example\", y_train[0])"
   ]
  },
  {
   "attachments": {},
   "cell_type": "markdown",
   "id": "9538c1e4",
   "metadata": {},
   "source": [
    "input(x)은 $\\left\\{ 0, 1, \\cdots , 255 \\right\\}^{28 \\times 28}$, label(y)은 $\\left\\{ 0, 1, \\cdots , 9 \\right\\}$ 형태로 되어 있습니다.\n",
    "\n",
    "input(x)의 경우 $0$, $1$ 사이로 맞추기 위해 $255$로 나누어주고, 단순한 MLP이므로 $28\\times 28$(2D) 형태가 아닌 $784$(1D) 형태로 바꿔주어야 됩니다.\n",
    "\n",
    "또한, label(y)의 경우 정수가 아닌 one-hot encoding이 필요합니다."
   ]
  },
  {
   "cell_type": "code",
   "execution_count": 6,
   "id": "45709c94",
   "metadata": {},
   "outputs": [],
   "source": [
    "x_train = x_train.reshape(50000,28*28)/255\n",
    "x_valid = x_valid.reshape(-1, 28*28)/255\n",
    "x_test  = x_test.reshape(-1, 28*28)/255\n",
    "\n",
    "y_train_one_hot = np.eye(10)[y_train]\n",
    "y_valid_one_hot = np.eye(10)[y_valid]"
   ]
  },
  {
   "attachments": {},
   "cell_type": "markdown",
   "id": "6c88389b",
   "metadata": {},
   "source": [
    "np.eye($N$)은 $N \\times N$ 단위행렬을 나타냅니다. 이 때 $k$index 위치의 경우 $k$번째 원소는 $1$이고 나머지 원소는 $0$인 벡터를 얻을 수 있습니다."
   ]
  },
  {
   "attachments": {},
   "cell_type": "markdown",
   "id": "c40cffa8",
   "metadata": {},
   "source": [
    "## Set hyperparameters"
   ]
  },
  {
   "cell_type": "code",
   "execution_count": 7,
   "id": "c7198c5a",
   "metadata": {},
   "outputs": [],
   "source": [
    "MAX_EPOCHS = 100"
   ]
  },
  {
   "attachments": {},
   "cell_type": "markdown",
   "id": "6e406726",
   "metadata": {},
   "source": [
    "## Categorical cross entropy loss\n",
    "Categorical cross entropy loss는 label(y)이 one-hot encoding된 벡터여야만 됩니다. 만약 label(y)이 one-hot encoding된 벡터가 아닌 일반적인 정수형태인 경우 에러 메세지가 출력됩니다."
   ]
  },
  {
   "cell_type": "code",
   "execution_count": 8,
   "id": "737c35e4",
   "metadata": {},
   "outputs": [],
   "source": [
    "input_tensor0 = Input(28*28)\n",
    "x0 = Dense(100, activation='sigmoid', kernel_initializer='glorot_normal')(input_tensor0)\n",
    "x0 = Dense(10, activation='softmax')(x0)\n",
    "\n",
    "model0 = Model(inputs=input_tensor0, outputs=x0)\n",
    "optim = tf.keras.optimizers.SGD(learning_rate=0.01)\n",
    "model0.compile(loss=tf.keras.losses.CategoricalCrossentropy(), optimizer=optim, metrics=['accuracy'])"
   ]
  },
  {
   "cell_type": "code",
   "execution_count": 9,
   "id": "313824e4",
   "metadata": {},
   "outputs": [
    {
     "name": "stdout",
     "output_type": "stream",
     "text": [
      "Epoch 1/100\n"
     ]
    },
    {
     "ename": "ValueError",
     "evalue": "in user code:\n\n    File \"c:\\Users\\user\\anaconda3\\lib\\site-packages\\keras\\engine\\training.py\", line 1249, in train_function  *\n        return step_function(self, iterator)\n    File \"c:\\Users\\user\\anaconda3\\lib\\site-packages\\keras\\engine\\training.py\", line 1233, in step_function  **\n        outputs = model.distribute_strategy.run(run_step, args=(data,))\n    File \"c:\\Users\\user\\anaconda3\\lib\\site-packages\\keras\\engine\\training.py\", line 1222, in run_step  **\n        outputs = model.train_step(data)\n    File \"c:\\Users\\user\\anaconda3\\lib\\site-packages\\keras\\engine\\training.py\", line 1024, in train_step\n        loss = self.compute_loss(x, y, y_pred, sample_weight)\n    File \"c:\\Users\\user\\anaconda3\\lib\\site-packages\\keras\\engine\\training.py\", line 1082, in compute_loss\n        return self.compiled_loss(\n    File \"c:\\Users\\user\\anaconda3\\lib\\site-packages\\keras\\engine\\compile_utils.py\", line 265, in __call__\n        loss_value = loss_obj(y_t, y_p, sample_weight=sw)\n    File \"c:\\Users\\user\\anaconda3\\lib\\site-packages\\keras\\losses.py\", line 152, in __call__\n        losses = call_fn(y_true, y_pred)\n    File \"c:\\Users\\user\\anaconda3\\lib\\site-packages\\keras\\losses.py\", line 284, in call  **\n        return ag_fn(y_true, y_pred, **self._fn_kwargs)\n    File \"c:\\Users\\user\\anaconda3\\lib\\site-packages\\keras\\losses.py\", line 2004, in categorical_crossentropy\n        return backend.categorical_crossentropy(\n    File \"c:\\Users\\user\\anaconda3\\lib\\site-packages\\keras\\backend.py\", line 5532, in categorical_crossentropy\n        target.shape.assert_is_compatible_with(output.shape)\n\n    ValueError: Shapes (250, 1) and (250, 10) are incompatible\n",
     "output_type": "error",
     "traceback": [
      "\u001b[1;31m---------------------------------------------------------------------------\u001b[0m",
      "\u001b[1;31mValueError\u001b[0m                                Traceback (most recent call last)",
      "\u001b[1;32m~\\AppData\\Local\\Temp\\ipykernel_3812\\2121638166.py\u001b[0m in \u001b[0;36m<module>\u001b[1;34m\u001b[0m\n\u001b[1;32m----> 1\u001b[1;33m \u001b[0mhistory0\u001b[0m \u001b[1;33m=\u001b[0m \u001b[0mmodel0\u001b[0m\u001b[1;33m.\u001b[0m\u001b[0mfit\u001b[0m\u001b[1;33m(\u001b[0m\u001b[0mx_train\u001b[0m\u001b[1;33m,\u001b[0m \u001b[0my_train\u001b[0m\u001b[1;33m,\u001b[0m \u001b[0mbatch_size\u001b[0m\u001b[1;33m=\u001b[0m\u001b[1;36m250\u001b[0m\u001b[1;33m,\u001b[0m \u001b[0mepochs\u001b[0m\u001b[1;33m=\u001b[0m\u001b[0mMAX_EPOCHS\u001b[0m\u001b[1;33m,\u001b[0m \u001b[0mvalidation_data\u001b[0m\u001b[1;33m=\u001b[0m\u001b[1;33m(\u001b[0m\u001b[0mx_valid\u001b[0m\u001b[1;33m,\u001b[0m \u001b[0my_valid\u001b[0m\u001b[1;33m)\u001b[0m\u001b[1;33m)\u001b[0m\u001b[1;33m\u001b[0m\u001b[1;33m\u001b[0m\u001b[0m\n\u001b[0m",
      "\u001b[1;32mc:\\Users\\user\\anaconda3\\lib\\site-packages\\keras\\utils\\traceback_utils.py\u001b[0m in \u001b[0;36merror_handler\u001b[1;34m(*args, **kwargs)\u001b[0m\n\u001b[0;32m     68\u001b[0m             \u001b[1;31m# To get the full stack trace, call:\u001b[0m\u001b[1;33m\u001b[0m\u001b[1;33m\u001b[0m\u001b[0m\n\u001b[0;32m     69\u001b[0m             \u001b[1;31m# `tf.debugging.disable_traceback_filtering()`\u001b[0m\u001b[1;33m\u001b[0m\u001b[1;33m\u001b[0m\u001b[0m\n\u001b[1;32m---> 70\u001b[1;33m             \u001b[1;32mraise\u001b[0m \u001b[0me\u001b[0m\u001b[1;33m.\u001b[0m\u001b[0mwith_traceback\u001b[0m\u001b[1;33m(\u001b[0m\u001b[0mfiltered_tb\u001b[0m\u001b[1;33m)\u001b[0m \u001b[1;32mfrom\u001b[0m \u001b[1;32mNone\u001b[0m\u001b[1;33m\u001b[0m\u001b[1;33m\u001b[0m\u001b[0m\n\u001b[0m\u001b[0;32m     71\u001b[0m         \u001b[1;32mfinally\u001b[0m\u001b[1;33m:\u001b[0m\u001b[1;33m\u001b[0m\u001b[1;33m\u001b[0m\u001b[0m\n\u001b[0;32m     72\u001b[0m             \u001b[1;32mdel\u001b[0m \u001b[0mfiltered_tb\u001b[0m\u001b[1;33m\u001b[0m\u001b[1;33m\u001b[0m\u001b[0m\n",
      "\u001b[1;32mc:\\Users\\user\\anaconda3\\lib\\site-packages\\keras\\engine\\training.py\u001b[0m in \u001b[0;36mtf__train_function\u001b[1;34m(iterator)\u001b[0m\n\u001b[0;32m     13\u001b[0m                 \u001b[1;32mtry\u001b[0m\u001b[1;33m:\u001b[0m\u001b[1;33m\u001b[0m\u001b[1;33m\u001b[0m\u001b[0m\n\u001b[0;32m     14\u001b[0m                     \u001b[0mdo_return\u001b[0m \u001b[1;33m=\u001b[0m \u001b[1;32mTrue\u001b[0m\u001b[1;33m\u001b[0m\u001b[1;33m\u001b[0m\u001b[0m\n\u001b[1;32m---> 15\u001b[1;33m                     \u001b[0mretval_\u001b[0m \u001b[1;33m=\u001b[0m \u001b[0mag__\u001b[0m\u001b[1;33m.\u001b[0m\u001b[0mconverted_call\u001b[0m\u001b[1;33m(\u001b[0m\u001b[0mag__\u001b[0m\u001b[1;33m.\u001b[0m\u001b[0mld\u001b[0m\u001b[1;33m(\u001b[0m\u001b[0mstep_function\u001b[0m\u001b[1;33m)\u001b[0m\u001b[1;33m,\u001b[0m \u001b[1;33m(\u001b[0m\u001b[0mag__\u001b[0m\u001b[1;33m.\u001b[0m\u001b[0mld\u001b[0m\u001b[1;33m(\u001b[0m\u001b[0mself\u001b[0m\u001b[1;33m)\u001b[0m\u001b[1;33m,\u001b[0m \u001b[0mag__\u001b[0m\u001b[1;33m.\u001b[0m\u001b[0mld\u001b[0m\u001b[1;33m(\u001b[0m\u001b[0miterator\u001b[0m\u001b[1;33m)\u001b[0m\u001b[1;33m)\u001b[0m\u001b[1;33m,\u001b[0m \u001b[1;32mNone\u001b[0m\u001b[1;33m,\u001b[0m \u001b[0mfscope\u001b[0m\u001b[1;33m)\u001b[0m\u001b[1;33m\u001b[0m\u001b[1;33m\u001b[0m\u001b[0m\n\u001b[0m\u001b[0;32m     16\u001b[0m                 \u001b[1;32mexcept\u001b[0m\u001b[1;33m:\u001b[0m\u001b[1;33m\u001b[0m\u001b[1;33m\u001b[0m\u001b[0m\n\u001b[0;32m     17\u001b[0m                     \u001b[0mdo_return\u001b[0m \u001b[1;33m=\u001b[0m \u001b[1;32mFalse\u001b[0m\u001b[1;33m\u001b[0m\u001b[1;33m\u001b[0m\u001b[0m\n",
      "\u001b[1;31mValueError\u001b[0m: in user code:\n\n    File \"c:\\Users\\user\\anaconda3\\lib\\site-packages\\keras\\engine\\training.py\", line 1249, in train_function  *\n        return step_function(self, iterator)\n    File \"c:\\Users\\user\\anaconda3\\lib\\site-packages\\keras\\engine\\training.py\", line 1233, in step_function  **\n        outputs = model.distribute_strategy.run(run_step, args=(data,))\n    File \"c:\\Users\\user\\anaconda3\\lib\\site-packages\\keras\\engine\\training.py\", line 1222, in run_step  **\n        outputs = model.train_step(data)\n    File \"c:\\Users\\user\\anaconda3\\lib\\site-packages\\keras\\engine\\training.py\", line 1024, in train_step\n        loss = self.compute_loss(x, y, y_pred, sample_weight)\n    File \"c:\\Users\\user\\anaconda3\\lib\\site-packages\\keras\\engine\\training.py\", line 1082, in compute_loss\n        return self.compiled_loss(\n    File \"c:\\Users\\user\\anaconda3\\lib\\site-packages\\keras\\engine\\compile_utils.py\", line 265, in __call__\n        loss_value = loss_obj(y_t, y_p, sample_weight=sw)\n    File \"c:\\Users\\user\\anaconda3\\lib\\site-packages\\keras\\losses.py\", line 152, in __call__\n        losses = call_fn(y_true, y_pred)\n    File \"c:\\Users\\user\\anaconda3\\lib\\site-packages\\keras\\losses.py\", line 284, in call  **\n        return ag_fn(y_true, y_pred, **self._fn_kwargs)\n    File \"c:\\Users\\user\\anaconda3\\lib\\site-packages\\keras\\losses.py\", line 2004, in categorical_crossentropy\n        return backend.categorical_crossentropy(\n    File \"c:\\Users\\user\\anaconda3\\lib\\site-packages\\keras\\backend.py\", line 5532, in categorical_crossentropy\n        target.shape.assert_is_compatible_with(output.shape)\n\n    ValueError: Shapes (250, 1) and (250, 10) are incompatible\n"
     ]
    }
   ],
   "source": [
    "history0 = model0.fit(x_train, y_train, batch_size=250, epochs=MAX_EPOCHS, validation_data=(x_valid, y_valid))"
   ]
  },
  {
   "cell_type": "code",
   "execution_count": 10,
   "id": "3cbac70b",
   "metadata": {},
   "outputs": [],
   "source": [
    "input_tensor = Input(28*28)\n",
    "x = Dense(100, activation='sigmoid', kernel_initializer='glorot_normal')(input_tensor)\n",
    "x = Dense(10, activation='softmax')(x)\n",
    "\n",
    "model = Model(inputs=input_tensor, outputs=x)\n",
    "optim = tf.keras.optimizers.SGD(learning_rate=0.01)\n",
    "model.compile(loss=tf.keras.losses.CategoricalCrossentropy(), optimizer=optim, metrics=['accuracy'])"
   ]
  },
  {
   "cell_type": "code",
   "execution_count": 11,
   "id": "70f46ac5",
   "metadata": {},
   "outputs": [
    {
     "name": "stdout",
     "output_type": "stream",
     "text": [
      "Epoch 1/100\n",
      "200/200 [==============================] - 2s 9ms/step - loss: 2.2012 - accuracy: 0.3195 - val_loss: 2.0728 - val_accuracy: 0.5368\n",
      "Epoch 2/100\n",
      "200/200 [==============================] - 1s 5ms/step - loss: 1.9769 - accuracy: 0.6050 - val_loss: 1.8647 - val_accuracy: 0.6871\n",
      "Epoch 3/100\n",
      "200/200 [==============================] - 1s 6ms/step - loss: 1.7804 - accuracy: 0.6803 - val_loss: 1.6683 - val_accuracy: 0.7411\n",
      "Epoch 4/100\n",
      "200/200 [==============================] - 1s 6ms/step - loss: 1.5973 - accuracy: 0.7194 - val_loss: 1.4879 - val_accuracy: 0.7634\n",
      "Epoch 5/100\n",
      "200/200 [==============================] - 1s 7ms/step - loss: 1.4325 - accuracy: 0.7432 - val_loss: 1.3286 - val_accuracy: 0.7910\n",
      "Epoch 6/100\n",
      "200/200 [==============================] - 2s 8ms/step - loss: 1.2898 - accuracy: 0.7674 - val_loss: 1.1930 - val_accuracy: 0.8066\n",
      "Epoch 7/100\n",
      "200/200 [==============================] - 1s 5ms/step - loss: 1.1695 - accuracy: 0.7843 - val_loss: 1.0799 - val_accuracy: 0.8183\n",
      "Epoch 8/100\n",
      "200/200 [==============================] - 1s 5ms/step - loss: 1.0696 - accuracy: 0.7978 - val_loss: 0.9863 - val_accuracy: 0.8283\n",
      "Epoch 9/100\n",
      "200/200 [==============================] - 1s 7ms/step - loss: 0.9868 - accuracy: 0.8080 - val_loss: 0.9089 - val_accuracy: 0.8378\n",
      "Epoch 10/100\n",
      "200/200 [==============================] - 1s 4ms/step - loss: 0.9178 - accuracy: 0.8162 - val_loss: 0.8443 - val_accuracy: 0.8469\n",
      "Epoch 11/100\n",
      "200/200 [==============================] - 1s 5ms/step - loss: 0.8601 - accuracy: 0.8248 - val_loss: 0.7902 - val_accuracy: 0.8526\n",
      "Epoch 12/100\n",
      "200/200 [==============================] - 1s 5ms/step - loss: 0.8113 - accuracy: 0.8313 - val_loss: 0.7444 - val_accuracy: 0.8592\n",
      "Epoch 13/100\n",
      "200/200 [==============================] - 2s 8ms/step - loss: 0.7697 - accuracy: 0.8375 - val_loss: 0.7053 - val_accuracy: 0.8625\n",
      "Epoch 14/100\n",
      "200/200 [==============================] - 1s 7ms/step - loss: 0.7337 - accuracy: 0.8428 - val_loss: 0.6715 - val_accuracy: 0.8671\n",
      "Epoch 15/100\n",
      "200/200 [==============================] - 1s 7ms/step - loss: 0.7024 - accuracy: 0.8471 - val_loss: 0.6420 - val_accuracy: 0.8704\n",
      "Epoch 16/100\n",
      "200/200 [==============================] - 1s 5ms/step - loss: 0.6750 - accuracy: 0.8509 - val_loss: 0.6164 - val_accuracy: 0.8720\n",
      "Epoch 17/100\n",
      "200/200 [==============================] - 1s 6ms/step - loss: 0.6508 - accuracy: 0.8545 - val_loss: 0.5936 - val_accuracy: 0.8753\n",
      "Epoch 18/100\n",
      "200/200 [==============================] - 1s 6ms/step - loss: 0.6292 - accuracy: 0.8569 - val_loss: 0.5734 - val_accuracy: 0.8792\n",
      "Epoch 19/100\n",
      "200/200 [==============================] - 1s 6ms/step - loss: 0.6098 - accuracy: 0.8598 - val_loss: 0.5552 - val_accuracy: 0.8802\n",
      "Epoch 20/100\n",
      "200/200 [==============================] - 1s 4ms/step - loss: 0.5924 - accuracy: 0.8622 - val_loss: 0.5391 - val_accuracy: 0.8824\n",
      "Epoch 21/100\n",
      "200/200 [==============================] - 1s 4ms/step - loss: 0.5766 - accuracy: 0.8643 - val_loss: 0.5243 - val_accuracy: 0.8834\n",
      "Epoch 22/100\n",
      "200/200 [==============================] - 1s 4ms/step - loss: 0.5622 - accuracy: 0.8669 - val_loss: 0.5109 - val_accuracy: 0.8855\n",
      "Epoch 23/100\n",
      "200/200 [==============================] - 1s 4ms/step - loss: 0.5491 - accuracy: 0.8686 - val_loss: 0.4988 - val_accuracy: 0.8869\n",
      "Epoch 24/100\n",
      "200/200 [==============================] - 1s 4ms/step - loss: 0.5370 - accuracy: 0.8706 - val_loss: 0.4877 - val_accuracy: 0.8880\n",
      "Epoch 25/100\n",
      "200/200 [==============================] - 1s 4ms/step - loss: 0.5259 - accuracy: 0.8722 - val_loss: 0.4775 - val_accuracy: 0.8895\n",
      "Epoch 26/100\n",
      "200/200 [==============================] - 1s 5ms/step - loss: 0.5157 - accuracy: 0.8739 - val_loss: 0.4680 - val_accuracy: 0.8916\n",
      "Epoch 27/100\n",
      "200/200 [==============================] - 1s 4ms/step - loss: 0.5062 - accuracy: 0.8753 - val_loss: 0.4592 - val_accuracy: 0.8931\n",
      "Epoch 28/100\n",
      "200/200 [==============================] - 1s 4ms/step - loss: 0.4973 - accuracy: 0.8767 - val_loss: 0.4512 - val_accuracy: 0.8937\n",
      "Epoch 29/100\n",
      "200/200 [==============================] - 1s 5ms/step - loss: 0.4891 - accuracy: 0.8783 - val_loss: 0.4438 - val_accuracy: 0.8939\n",
      "Epoch 30/100\n",
      "200/200 [==============================] - 1s 5ms/step - loss: 0.4814 - accuracy: 0.8792 - val_loss: 0.4368 - val_accuracy: 0.8945\n",
      "Epoch 31/100\n",
      "200/200 [==============================] - 1s 4ms/step - loss: 0.4742 - accuracy: 0.8807 - val_loss: 0.4303 - val_accuracy: 0.8946\n",
      "Epoch 32/100\n",
      "200/200 [==============================] - 1s 7ms/step - loss: 0.4675 - accuracy: 0.8816 - val_loss: 0.4241 - val_accuracy: 0.8951\n",
      "Epoch 33/100\n",
      "200/200 [==============================] - 1s 4ms/step - loss: 0.4611 - accuracy: 0.8827 - val_loss: 0.4184 - val_accuracy: 0.8963\n",
      "Epoch 34/100\n",
      "200/200 [==============================] - 1s 4ms/step - loss: 0.4551 - accuracy: 0.8838 - val_loss: 0.4130 - val_accuracy: 0.8976\n",
      "Epoch 35/100\n",
      "200/200 [==============================] - 1s 4ms/step - loss: 0.4495 - accuracy: 0.8847 - val_loss: 0.4080 - val_accuracy: 0.8984\n",
      "Epoch 36/100\n",
      "200/200 [==============================] - 1s 4ms/step - loss: 0.4441 - accuracy: 0.8857 - val_loss: 0.4032 - val_accuracy: 0.8987\n",
      "Epoch 37/100\n",
      "200/200 [==============================] - 1s 4ms/step - loss: 0.4391 - accuracy: 0.8863 - val_loss: 0.3986 - val_accuracy: 0.8992\n",
      "Epoch 38/100\n",
      "200/200 [==============================] - 1s 4ms/step - loss: 0.4343 - accuracy: 0.8872 - val_loss: 0.3944 - val_accuracy: 0.9003\n",
      "Epoch 39/100\n",
      "200/200 [==============================] - 1s 5ms/step - loss: 0.4298 - accuracy: 0.8879 - val_loss: 0.3903 - val_accuracy: 0.9002\n",
      "Epoch 40/100\n",
      "200/200 [==============================] - 1s 4ms/step - loss: 0.4254 - accuracy: 0.8890 - val_loss: 0.3865 - val_accuracy: 0.9010\n",
      "Epoch 41/100\n",
      "200/200 [==============================] - 1s 4ms/step - loss: 0.4213 - accuracy: 0.8896 - val_loss: 0.3829 - val_accuracy: 0.9021\n",
      "Epoch 42/100\n",
      "200/200 [==============================] - 1s 4ms/step - loss: 0.4174 - accuracy: 0.8902 - val_loss: 0.3794 - val_accuracy: 0.9012\n",
      "Epoch 43/100\n",
      "200/200 [==============================] - 1s 5ms/step - loss: 0.4136 - accuracy: 0.8909 - val_loss: 0.3759 - val_accuracy: 0.9027\n",
      "Epoch 44/100\n",
      "200/200 [==============================] - 1s 4ms/step - loss: 0.4100 - accuracy: 0.8915 - val_loss: 0.3728 - val_accuracy: 0.9030\n",
      "Epoch 45/100\n",
      "200/200 [==============================] - 1s 4ms/step - loss: 0.4066 - accuracy: 0.8921 - val_loss: 0.3697 - val_accuracy: 0.9038\n",
      "Epoch 46/100\n",
      "200/200 [==============================] - 1s 4ms/step - loss: 0.4033 - accuracy: 0.8928 - val_loss: 0.3669 - val_accuracy: 0.9032\n",
      "Epoch 47/100\n",
      "200/200 [==============================] - 1s 5ms/step - loss: 0.4001 - accuracy: 0.8932 - val_loss: 0.3641 - val_accuracy: 0.9038\n",
      "Epoch 48/100\n",
      "200/200 [==============================] - 1s 4ms/step - loss: 0.3971 - accuracy: 0.8936 - val_loss: 0.3614 - val_accuracy: 0.9040\n",
      "Epoch 49/100\n",
      "200/200 [==============================] - 1s 7ms/step - loss: 0.3941 - accuracy: 0.8942 - val_loss: 0.3588 - val_accuracy: 0.9047\n",
      "Epoch 50/100\n",
      "200/200 [==============================] - 1s 6ms/step - loss: 0.3913 - accuracy: 0.8946 - val_loss: 0.3563 - val_accuracy: 0.9049\n",
      "Epoch 51/100\n",
      "200/200 [==============================] - 1s 6ms/step - loss: 0.3886 - accuracy: 0.8952 - val_loss: 0.3539 - val_accuracy: 0.9051\n",
      "Epoch 52/100\n",
      "200/200 [==============================] - 1s 6ms/step - loss: 0.3860 - accuracy: 0.8956 - val_loss: 0.3517 - val_accuracy: 0.9060\n",
      "Epoch 53/100\n",
      "200/200 [==============================] - 1s 6ms/step - loss: 0.3835 - accuracy: 0.8960 - val_loss: 0.3494 - val_accuracy: 0.9061\n",
      "Epoch 54/100\n",
      "200/200 [==============================] - 1s 7ms/step - loss: 0.3811 - accuracy: 0.8966 - val_loss: 0.3473 - val_accuracy: 0.9060\n",
      "Epoch 55/100\n",
      "200/200 [==============================] - 1s 6ms/step - loss: 0.3787 - accuracy: 0.8966 - val_loss: 0.3453 - val_accuracy: 0.9065\n",
      "Epoch 56/100\n",
      "200/200 [==============================] - 1s 5ms/step - loss: 0.3764 - accuracy: 0.8970 - val_loss: 0.3432 - val_accuracy: 0.9070\n",
      "Epoch 57/100\n",
      "200/200 [==============================] - 1s 4ms/step - loss: 0.3742 - accuracy: 0.8976 - val_loss: 0.3414 - val_accuracy: 0.9077\n",
      "Epoch 58/100\n",
      "200/200 [==============================] - 1s 6ms/step - loss: 0.3721 - accuracy: 0.8979 - val_loss: 0.3395 - val_accuracy: 0.9077\n",
      "Epoch 59/100\n",
      "200/200 [==============================] - 1s 7ms/step - loss: 0.3700 - accuracy: 0.8988 - val_loss: 0.3378 - val_accuracy: 0.9081\n",
      "Epoch 60/100\n",
      "200/200 [==============================] - 1s 6ms/step - loss: 0.3680 - accuracy: 0.8992 - val_loss: 0.3361 - val_accuracy: 0.9079\n",
      "Epoch 61/100\n",
      "200/200 [==============================] - 1s 4ms/step - loss: 0.3661 - accuracy: 0.8993 - val_loss: 0.3343 - val_accuracy: 0.9083\n",
      "Epoch 62/100\n",
      "200/200 [==============================] - 1s 4ms/step - loss: 0.3642 - accuracy: 0.8996 - val_loss: 0.3326 - val_accuracy: 0.9086\n",
      "Epoch 63/100\n",
      "200/200 [==============================] - 1s 4ms/step - loss: 0.3623 - accuracy: 0.9000 - val_loss: 0.3311 - val_accuracy: 0.9088\n",
      "Epoch 64/100\n",
      "200/200 [==============================] - 1s 5ms/step - loss: 0.3605 - accuracy: 0.9006 - val_loss: 0.3296 - val_accuracy: 0.9091\n",
      "Epoch 65/100\n",
      "200/200 [==============================] - 1s 4ms/step - loss: 0.3588 - accuracy: 0.9009 - val_loss: 0.3280 - val_accuracy: 0.9088\n",
      "Epoch 66/100\n",
      "200/200 [==============================] - 1s 5ms/step - loss: 0.3571 - accuracy: 0.9013 - val_loss: 0.3265 - val_accuracy: 0.9093\n",
      "Epoch 67/100\n",
      "200/200 [==============================] - 1s 4ms/step - loss: 0.3554 - accuracy: 0.9016 - val_loss: 0.3252 - val_accuracy: 0.9098\n",
      "Epoch 68/100\n",
      "200/200 [==============================] - 1s 5ms/step - loss: 0.3538 - accuracy: 0.9020 - val_loss: 0.3238 - val_accuracy: 0.9104\n",
      "Epoch 69/100\n",
      "200/200 [==============================] - 1s 7ms/step - loss: 0.3523 - accuracy: 0.9023 - val_loss: 0.3224 - val_accuracy: 0.9103\n",
      "Epoch 70/100\n",
      "200/200 [==============================] - 1s 5ms/step - loss: 0.3507 - accuracy: 0.9027 - val_loss: 0.3211 - val_accuracy: 0.9103\n",
      "Epoch 71/100\n",
      "200/200 [==============================] - 1s 5ms/step - loss: 0.3492 - accuracy: 0.9029 - val_loss: 0.3199 - val_accuracy: 0.9106\n",
      "Epoch 72/100\n",
      "200/200 [==============================] - 1s 5ms/step - loss: 0.3477 - accuracy: 0.9030 - val_loss: 0.3186 - val_accuracy: 0.9112\n",
      "Epoch 73/100\n",
      "200/200 [==============================] - 1s 4ms/step - loss: 0.3463 - accuracy: 0.9032 - val_loss: 0.3174 - val_accuracy: 0.9112\n",
      "Epoch 74/100\n",
      "200/200 [==============================] - 1s 4ms/step - loss: 0.3449 - accuracy: 0.9039 - val_loss: 0.3162 - val_accuracy: 0.9113\n",
      "Epoch 75/100\n",
      "200/200 [==============================] - 1s 6ms/step - loss: 0.3435 - accuracy: 0.9038 - val_loss: 0.3150 - val_accuracy: 0.9120\n",
      "Epoch 76/100\n",
      "200/200 [==============================] - 2s 8ms/step - loss: 0.3422 - accuracy: 0.9043 - val_loss: 0.3138 - val_accuracy: 0.9122\n",
      "Epoch 77/100\n",
      "200/200 [==============================] - 1s 6ms/step - loss: 0.3409 - accuracy: 0.9045 - val_loss: 0.3127 - val_accuracy: 0.9121\n",
      "Epoch 78/100\n",
      "200/200 [==============================] - 1s 4ms/step - loss: 0.3396 - accuracy: 0.9047 - val_loss: 0.3116 - val_accuracy: 0.9123\n",
      "Epoch 79/100\n",
      "200/200 [==============================] - 1s 4ms/step - loss: 0.3384 - accuracy: 0.9051 - val_loss: 0.3105 - val_accuracy: 0.9125\n",
      "Epoch 80/100\n",
      "200/200 [==============================] - 2s 8ms/step - loss: 0.3371 - accuracy: 0.9053 - val_loss: 0.3096 - val_accuracy: 0.9131\n",
      "Epoch 81/100\n",
      "200/200 [==============================] - 1s 7ms/step - loss: 0.3359 - accuracy: 0.9058 - val_loss: 0.3084 - val_accuracy: 0.9127\n",
      "Epoch 82/100\n",
      "200/200 [==============================] - 2s 8ms/step - loss: 0.3347 - accuracy: 0.9062 - val_loss: 0.3074 - val_accuracy: 0.9131\n",
      "Epoch 83/100\n",
      "200/200 [==============================] - 2s 9ms/step - loss: 0.3335 - accuracy: 0.9064 - val_loss: 0.3065 - val_accuracy: 0.9131\n",
      "Epoch 84/100\n",
      "200/200 [==============================] - 1s 6ms/step - loss: 0.3324 - accuracy: 0.9062 - val_loss: 0.3055 - val_accuracy: 0.9137\n",
      "Epoch 85/100\n",
      "200/200 [==============================] - 1s 5ms/step - loss: 0.3313 - accuracy: 0.9070 - val_loss: 0.3045 - val_accuracy: 0.9138\n",
      "Epoch 86/100\n",
      "200/200 [==============================] - 2s 9ms/step - loss: 0.3302 - accuracy: 0.9067 - val_loss: 0.3036 - val_accuracy: 0.9143\n",
      "Epoch 87/100\n",
      "200/200 [==============================] - 2s 8ms/step - loss: 0.3291 - accuracy: 0.9072 - val_loss: 0.3028 - val_accuracy: 0.9143\n",
      "Epoch 88/100\n",
      "200/200 [==============================] - 1s 5ms/step - loss: 0.3280 - accuracy: 0.9077 - val_loss: 0.3019 - val_accuracy: 0.9149\n",
      "Epoch 89/100\n",
      "200/200 [==============================] - 1s 6ms/step - loss: 0.3270 - accuracy: 0.9078 - val_loss: 0.3010 - val_accuracy: 0.9146\n",
      "Epoch 90/100\n",
      "200/200 [==============================] - 1s 6ms/step - loss: 0.3260 - accuracy: 0.9080 - val_loss: 0.3001 - val_accuracy: 0.9153\n",
      "Epoch 91/100\n",
      "200/200 [==============================] - 1s 5ms/step - loss: 0.3250 - accuracy: 0.9083 - val_loss: 0.2992 - val_accuracy: 0.9153\n",
      "Epoch 92/100\n",
      "200/200 [==============================] - 1s 5ms/step - loss: 0.3240 - accuracy: 0.9086 - val_loss: 0.2983 - val_accuracy: 0.9153\n",
      "Epoch 93/100\n",
      "200/200 [==============================] - 1s 5ms/step - loss: 0.3230 - accuracy: 0.9089 - val_loss: 0.2975 - val_accuracy: 0.9156\n",
      "Epoch 94/100\n",
      "200/200 [==============================] - 2s 8ms/step - loss: 0.3220 - accuracy: 0.9092 - val_loss: 0.2967 - val_accuracy: 0.9159\n",
      "Epoch 95/100\n",
      "200/200 [==============================] - 2s 8ms/step - loss: 0.3211 - accuracy: 0.9093 - val_loss: 0.2959 - val_accuracy: 0.9160\n",
      "Epoch 96/100\n",
      "200/200 [==============================] - 2s 8ms/step - loss: 0.3201 - accuracy: 0.9096 - val_loss: 0.2951 - val_accuracy: 0.9159\n",
      "Epoch 97/100\n",
      "200/200 [==============================] - 2s 10ms/step - loss: 0.3192 - accuracy: 0.9097 - val_loss: 0.2944 - val_accuracy: 0.9167\n",
      "Epoch 98/100\n",
      "200/200 [==============================] - 2s 9ms/step - loss: 0.3183 - accuracy: 0.9097 - val_loss: 0.2936 - val_accuracy: 0.9164\n",
      "Epoch 99/100\n",
      "200/200 [==============================] - 1s 6ms/step - loss: 0.3174 - accuracy: 0.9102 - val_loss: 0.2928 - val_accuracy: 0.9171\n",
      "Epoch 100/100\n",
      "200/200 [==============================] - 1s 5ms/step - loss: 0.3165 - accuracy: 0.9103 - val_loss: 0.2921 - val_accuracy: 0.9172\n"
     ]
    }
   ],
   "source": [
    "history = model.fit(x_train, y_train_one_hot, batch_size=250, epochs=MAX_EPOCHS, validation_data=(x_valid, y_valid_one_hot))"
   ]
  },
  {
   "cell_type": "code",
   "execution_count": 12,
   "id": "8990d96f",
   "metadata": {},
   "outputs": [
    {
     "data": {
      "image/png": "[encoded data removed]",
      "text/plain": [
       "<Figure size 400x400 with 1 Axes>"
      ]
     },
     "metadata": {},
     "output_type": "display_data"
    }
   ],
   "source": [
    "plt.figure(figsize=(4,4))\n",
    "plt.plot(np.arange(1, MAX_EPOCHS+1), history.history['loss'], label='train')\n",
    "plt.plot(np.arange(1, MAX_EPOCHS+1), history.history['val_loss'], label='validation')\n",
    "plt.legend()\n",
    "plt.xlabel('Epochs')\n",
    "plt.ylabel('loss')\n",
    "plt.show()"
   ]
  },
  {
   "cell_type": "code",
   "execution_count": 13,
   "id": "11b3a32b",
   "metadata": {},
   "outputs": [
    {
     "data": {
      "image/png": "[encoded data removed]",
      "text/plain": [
       "<Figure size 400x400 with 1 Axes>"
      ]
     },
     "metadata": {},
     "output_type": "display_data"
    }
   ],
   "source": [
    "plt.figure(figsize=(4,4))\n",
    "plt.plot(np.arange(1, MAX_EPOCHS+1), history.history['accuracy'], label='train')\n",
    "plt.plot(np.arange(1, MAX_EPOCHS+1), history.history['val_accuracy'], label='validation')\n",
    "plt.legend()\n",
    "plt.xlabel('Epochs')\n",
    "plt.ylabel('accuracy')\n",
    "plt.show()"
   ]
  },
  {
   "cell_type": "code",
   "execution_count": 14,
   "id": "413e5196",
   "metadata": {},
   "outputs": [
    {
     "name": "stdout",
     "output_type": "stream",
     "text": [
      "313/313 [==============================] - 1s 3ms/step\n",
      "Test Accuracy: 91.62 %\n"
     ]
    }
   ],
   "source": [
    "pred = model.predict(x_test)\n",
    "pred_label = np.argmax(pred, axis = 1)\n",
    "test_acc = np.sum(pred_label==y_test)/y_test.shape[0]\n",
    "print('Test Accuracy:', test_acc*100, '%')"
   ]
  },
  {
   "attachments": {},
   "cell_type": "markdown",
   "id": "c93305a4",
   "metadata": {},
   "source": [
    "## Sparse categorical cross entropy loss\n",
    "\n",
    "one-hot encoding이 되지 않은 원래의 정수형 label을 그대로 쓰고 싶다면 sparse categorical cross entropy loss를 이용하면 됩니다. 다만 이 경우에 label(y)이 one-hot encoding된 벡터인 경우 에러메세지가 출력됩니다."
   ]
  },
  {
   "cell_type": "code",
   "execution_count": 15,
   "id": "66dbb9cf",
   "metadata": {},
   "outputs": [],
   "source": [
    "input_tensor0 = Input(28*28)\n",
    "x0 = Dense(100, activation='sigmoid', kernel_initializer='glorot_normal')(input_tensor0)\n",
    "x0 = Dense(10, activation='softmax')(x0)\n",
    "\n",
    "model0 = Model(inputs=input_tensor0, outputs=x0)\n",
    "optim = tf.keras.optimizers.SGD(learning_rate=0.01)\n",
    "model0.compile(loss=tf.keras.losses.SparseCategoricalCrossentropy(), optimizer=optim, metrics=['accuracy'])"
   ]
  },
  {
   "cell_type": "code",
   "execution_count": 16,
   "id": "4f23d75d",
   "metadata": {},
   "outputs": [
    {
     "name": "stdout",
     "output_type": "stream",
     "text": [
      "Epoch 1/100\n"
     ]
    },
    {
     "ename": "ValueError",
     "evalue": "in user code:\n\n    File \"c:\\Users\\user\\anaconda3\\lib\\site-packages\\keras\\engine\\training.py\", line 1249, in train_function  *\n        return step_function(self, iterator)\n    File \"c:\\Users\\user\\anaconda3\\lib\\site-packages\\keras\\engine\\training.py\", line 1233, in step_function  **\n        outputs = model.distribute_strategy.run(run_step, args=(data,))\n    File \"c:\\Users\\user\\anaconda3\\lib\\site-packages\\keras\\engine\\training.py\", line 1222, in run_step  **\n        outputs = model.train_step(data)\n    File \"c:\\Users\\user\\anaconda3\\lib\\site-packages\\keras\\engine\\training.py\", line 1024, in train_step\n        loss = self.compute_loss(x, y, y_pred, sample_weight)\n    File \"c:\\Users\\user\\anaconda3\\lib\\site-packages\\keras\\engine\\training.py\", line 1082, in compute_loss\n        return self.compiled_loss(\n    File \"c:\\Users\\user\\anaconda3\\lib\\site-packages\\keras\\engine\\compile_utils.py\", line 265, in __call__\n        loss_value = loss_obj(y_t, y_p, sample_weight=sw)\n    File \"c:\\Users\\user\\anaconda3\\lib\\site-packages\\keras\\losses.py\", line 152, in __call__\n        losses = call_fn(y_true, y_pred)\n    File \"c:\\Users\\user\\anaconda3\\lib\\site-packages\\keras\\losses.py\", line 284, in call  **\n        return ag_fn(y_true, y_pred, **self._fn_kwargs)\n    File \"c:\\Users\\user\\anaconda3\\lib\\site-packages\\keras\\losses.py\", line 2098, in sparse_categorical_crossentropy\n        return backend.sparse_categorical_crossentropy(\n    File \"c:\\Users\\user\\anaconda3\\lib\\site-packages\\keras\\backend.py\", line 5633, in sparse_categorical_crossentropy\n        res = tf.nn.sparse_softmax_cross_entropy_with_logits(\n\n    ValueError: `labels.shape` must equal `logits.shape` except for the last dimension. Received: labels.shape=(2500,) and logits.shape=(250, 10)\n",
     "output_type": "error",
     "traceback": [
      "\u001b[1;31m---------------------------------------------------------------------------\u001b[0m",
      "\u001b[1;31mValueError\u001b[0m                                Traceback (most recent call last)",
      "\u001b[1;32m~\\AppData\\Local\\Temp\\ipykernel_3812\\1539334602.py\u001b[0m in \u001b[0;36m<module>\u001b[1;34m\u001b[0m\n\u001b[1;32m----> 1\u001b[1;33m \u001b[0mhistory0\u001b[0m \u001b[1;33m=\u001b[0m \u001b[0mmodel0\u001b[0m\u001b[1;33m.\u001b[0m\u001b[0mfit\u001b[0m\u001b[1;33m(\u001b[0m\u001b[0mx_train\u001b[0m\u001b[1;33m,\u001b[0m \u001b[0my_train_one_hot\u001b[0m\u001b[1;33m,\u001b[0m \u001b[0mbatch_size\u001b[0m\u001b[1;33m=\u001b[0m\u001b[1;36m250\u001b[0m\u001b[1;33m,\u001b[0m \u001b[0mepochs\u001b[0m\u001b[1;33m=\u001b[0m\u001b[0mMAX_EPOCHS\u001b[0m\u001b[1;33m,\u001b[0m \u001b[0mvalidation_data\u001b[0m\u001b[1;33m=\u001b[0m\u001b[1;33m(\u001b[0m\u001b[0mx_valid\u001b[0m\u001b[1;33m,\u001b[0m \u001b[0my_valid_one_hot\u001b[0m\u001b[1;33m)\u001b[0m\u001b[1;33m)\u001b[0m\u001b[1;33m\u001b[0m\u001b[1;33m\u001b[0m\u001b[0m\n\u001b[0m",
      "\u001b[1;32mc:\\Users\\user\\anaconda3\\lib\\site-packages\\keras\\utils\\traceback_utils.py\u001b[0m in \u001b[0;36merror_handler\u001b[1;34m(*args, **kwargs)\u001b[0m\n\u001b[0;32m     68\u001b[0m             \u001b[1;31m# To get the full stack trace, call:\u001b[0m\u001b[1;33m\u001b[0m\u001b[1;33m\u001b[0m\u001b[0m\n\u001b[0;32m     69\u001b[0m             \u001b[1;31m# `tf.debugging.disable_traceback_filtering()`\u001b[0m\u001b[1;33m\u001b[0m\u001b[1;33m\u001b[0m\u001b[0m\n\u001b[1;32m---> 70\u001b[1;33m             \u001b[1;32mraise\u001b[0m \u001b[0me\u001b[0m\u001b[1;33m.\u001b[0m\u001b[0mwith_traceback\u001b[0m\u001b[1;33m(\u001b[0m\u001b[0mfiltered_tb\u001b[0m\u001b[1;33m)\u001b[0m \u001b[1;32mfrom\u001b[0m \u001b[1;32mNone\u001b[0m\u001b[1;33m\u001b[0m\u001b[1;33m\u001b[0m\u001b[0m\n\u001b[0m\u001b[0;32m     71\u001b[0m         \u001b[1;32mfinally\u001b[0m\u001b[1;33m:\u001b[0m\u001b[1;33m\u001b[0m\u001b[1;33m\u001b[0m\u001b[0m\n\u001b[0;32m     72\u001b[0m             \u001b[1;32mdel\u001b[0m \u001b[0mfiltered_tb\u001b[0m\u001b[1;33m\u001b[0m\u001b[1;33m\u001b[0m\u001b[0m\n",
      "\u001b[1;32mc:\\Users\\user\\anaconda3\\lib\\site-packages\\keras\\engine\\training.py\u001b[0m in \u001b[0;36mtf__train_function\u001b[1;34m(iterator)\u001b[0m\n\u001b[0;32m     13\u001b[0m                 \u001b[1;32mtry\u001b[0m\u001b[1;33m:\u001b[0m\u001b[1;33m\u001b[0m\u001b[1;33m\u001b[0m\u001b[0m\n\u001b[0;32m     14\u001b[0m                     \u001b[0mdo_return\u001b[0m \u001b[1;33m=\u001b[0m \u001b[1;32mTrue\u001b[0m\u001b[1;33m\u001b[0m\u001b[1;33m\u001b[0m\u001b[0m\n\u001b[1;32m---> 15\u001b[1;33m                     \u001b[0mretval_\u001b[0m \u001b[1;33m=\u001b[0m \u001b[0mag__\u001b[0m\u001b[1;33m.\u001b[0m\u001b[0mconverted_call\u001b[0m\u001b[1;33m(\u001b[0m\u001b[0mag__\u001b[0m\u001b[1;33m.\u001b[0m\u001b[0mld\u001b[0m\u001b[1;33m(\u001b[0m\u001b[0mstep_function\u001b[0m\u001b[1;33m)\u001b[0m\u001b[1;33m,\u001b[0m \u001b[1;33m(\u001b[0m\u001b[0mag__\u001b[0m\u001b[1;33m.\u001b[0m\u001b[0mld\u001b[0m\u001b[1;33m(\u001b[0m\u001b[0mself\u001b[0m\u001b[1;33m)\u001b[0m\u001b[1;33m,\u001b[0m \u001b[0mag__\u001b[0m\u001b[1;33m.\u001b[0m\u001b[0mld\u001b[0m\u001b[1;33m(\u001b[0m\u001b[0miterator\u001b[0m\u001b[1;33m)\u001b[0m\u001b[1;33m)\u001b[0m\u001b[1;33m,\u001b[0m \u001b[1;32mNone\u001b[0m\u001b[1;33m,\u001b[0m \u001b[0mfscope\u001b[0m\u001b[1;33m)\u001b[0m\u001b[1;33m\u001b[0m\u001b[1;33m\u001b[0m\u001b[0m\n\u001b[0m\u001b[0;32m     16\u001b[0m                 \u001b[1;32mexcept\u001b[0m\u001b[1;33m:\u001b[0m\u001b[1;33m\u001b[0m\u001b[1;33m\u001b[0m\u001b[0m\n\u001b[0;32m     17\u001b[0m                     \u001b[0mdo_return\u001b[0m \u001b[1;33m=\u001b[0m \u001b[1;32mFalse\u001b[0m\u001b[1;33m\u001b[0m\u001b[1;33m\u001b[0m\u001b[0m\n",
      "\u001b[1;31mValueError\u001b[0m: in user code:\n\n    File \"c:\\Users\\user\\anaconda3\\lib\\site-packages\\keras\\engine\\training.py\", line 1249, in train_function  *\n        return step_function(self, iterator)\n    File \"c:\\Users\\user\\anaconda3\\lib\\site-packages\\keras\\engine\\training.py\", line 1233, in step_function  **\n        outputs = model.distribute_strategy.run(run_step, args=(data,))\n    File \"c:\\Users\\user\\anaconda3\\lib\\site-packages\\keras\\engine\\training.py\", line 1222, in run_step  **\n        outputs = model.train_step(data)\n    File \"c:\\Users\\user\\anaconda3\\lib\\site-packages\\keras\\engine\\training.py\", line 1024, in train_step\n        loss = self.compute_loss(x, y, y_pred, sample_weight)\n    File \"c:\\Users\\user\\anaconda3\\lib\\site-packages\\keras\\engine\\training.py\", line 1082, in compute_loss\n        return self.compiled_loss(\n    File \"c:\\Users\\user\\anaconda3\\lib\\site-packages\\keras\\engine\\compile_utils.py\", line 265, in __call__\n        loss_value = loss_obj(y_t, y_p, sample_weight=sw)\n    File \"c:\\Users\\user\\anaconda3\\lib\\site-packages\\keras\\losses.py\", line 152, in __call__\n        losses = call_fn(y_true, y_pred)\n    File \"c:\\Users\\user\\anaconda3\\lib\\site-packages\\keras\\losses.py\", line 284, in call  **\n        return ag_fn(y_true, y_pred, **self._fn_kwargs)\n    File \"c:\\Users\\user\\anaconda3\\lib\\site-packages\\keras\\losses.py\", line 2098, in sparse_categorical_crossentropy\n        return backend.sparse_categorical_crossentropy(\n    File \"c:\\Users\\user\\anaconda3\\lib\\site-packages\\keras\\backend.py\", line 5633, in sparse_categorical_crossentropy\n        res = tf.nn.sparse_softmax_cross_entropy_with_logits(\n\n    ValueError: `labels.shape` must equal `logits.shape` except for the last dimension. Received: labels.shape=(2500,) and logits.shape=(250, 10)\n"
     ]
    }
   ],
   "source": [
    "history0 = model0.fit(x_train, y_train_one_hot, batch_size=250, epochs=MAX_EPOCHS, validation_data=(x_valid, y_valid_one_hot))"
   ]
  },
  {
   "cell_type": "code",
   "execution_count": 17,
   "id": "f05be18a",
   "metadata": {},
   "outputs": [],
   "source": [
    "input_tensor2 = Input(28*28)\n",
    "x2 = Dense(100, activation='sigmoid', kernel_initializer='glorot_normal')(input_tensor2)\n",
    "x2 = Dense(10, activation='softmax')(x2)\n",
    "\n",
    "model2 = Model(inputs=input_tensor2, outputs=x2)\n",
    "optim = tf.keras.optimizers.SGD(learning_rate=0.01)\n",
    "model2.compile(loss=tf.keras.losses.SparseCategoricalCrossentropy(), optimizer=optim, metrics=['accuracy'])"
   ]
  },
  {
   "cell_type": "code",
   "execution_count": 18,
   "id": "e356e7f7",
   "metadata": {},
   "outputs": [
    {
     "name": "stdout",
     "output_type": "stream",
     "text": [
      "Epoch 1/100\n",
      "200/200 [==============================] - 2s 7ms/step - loss: 2.2116 - accuracy: 0.3262 - val_loss: 2.0615 - val_accuracy: 0.5556\n",
      "Epoch 2/100\n",
      "200/200 [==============================] - 1s 6ms/step - loss: 1.9545 - accuracy: 0.6163 - val_loss: 1.8376 - val_accuracy: 0.6984\n",
      "Epoch 3/100\n",
      "200/200 [==============================] - 1s 5ms/step - loss: 1.7456 - accuracy: 0.7011 - val_loss: 1.6325 - val_accuracy: 0.7466\n",
      "Epoch 4/100\n",
      "200/200 [==============================] - 1s 4ms/step - loss: 1.5568 - accuracy: 0.7387 - val_loss: 1.4492 - val_accuracy: 0.7793\n",
      "Epoch 5/100\n",
      "200/200 [==============================] - 1s 5ms/step - loss: 1.3916 - accuracy: 0.7647 - val_loss: 1.2918 - val_accuracy: 0.8057\n",
      "Epoch 6/100\n",
      "200/200 [==============================] - 1s 5ms/step - loss: 1.2514 - accuracy: 0.7866 - val_loss: 1.1597 - val_accuracy: 0.8177\n",
      "Epoch 7/100\n",
      "200/200 [==============================] - 1s 6ms/step - loss: 1.1348 - accuracy: 0.7985 - val_loss: 1.0500 - val_accuracy: 0.8340\n",
      "Epoch 8/100\n",
      "200/200 [==============================] - 1s 7ms/step - loss: 1.0386 - accuracy: 0.8100 - val_loss: 0.9605 - val_accuracy: 0.8396\n",
      "Epoch 9/100\n",
      "200/200 [==============================] - 1s 5ms/step - loss: 0.9593 - accuracy: 0.8195 - val_loss: 0.8861 - val_accuracy: 0.8459\n",
      "Epoch 10/100\n",
      "200/200 [==============================] - 1s 5ms/step - loss: 0.8933 - accuracy: 0.8265 - val_loss: 0.8247 - val_accuracy: 0.8515\n",
      "Epoch 11/100\n",
      "200/200 [==============================] - 1s 5ms/step - loss: 0.8383 - accuracy: 0.8333 - val_loss: 0.7726 - val_accuracy: 0.8574\n",
      "Epoch 12/100\n",
      "200/200 [==============================] - 1s 6ms/step - loss: 0.7916 - accuracy: 0.8389 - val_loss: 0.7289 - val_accuracy: 0.8615\n",
      "Epoch 13/100\n",
      "200/200 [==============================] - 1s 4ms/step - loss: 0.7518 - accuracy: 0.8426 - val_loss: 0.6911 - val_accuracy: 0.8659\n",
      "Epoch 14/100\n",
      "200/200 [==============================] - 1s 5ms/step - loss: 0.7174 - accuracy: 0.8463 - val_loss: 0.6587 - val_accuracy: 0.8685\n",
      "Epoch 15/100\n",
      "200/200 [==============================] - 1s 5ms/step - loss: 0.6875 - accuracy: 0.8499 - val_loss: 0.6305 - val_accuracy: 0.8717\n",
      "Epoch 16/100\n",
      "200/200 [==============================] - 1s 4ms/step - loss: 0.6613 - accuracy: 0.8533 - val_loss: 0.6057 - val_accuracy: 0.8760\n",
      "Epoch 17/100\n",
      "200/200 [==============================] - 1s 4ms/step - loss: 0.6381 - accuracy: 0.8561 - val_loss: 0.5839 - val_accuracy: 0.8775\n",
      "Epoch 18/100\n",
      "200/200 [==============================] - 1s 5ms/step - loss: 0.6175 - accuracy: 0.8590 - val_loss: 0.5643 - val_accuracy: 0.8802\n",
      "Epoch 19/100\n",
      "200/200 [==============================] - 1s 5ms/step - loss: 0.5990 - accuracy: 0.8613 - val_loss: 0.5469 - val_accuracy: 0.8823\n",
      "Epoch 20/100\n",
      "200/200 [==============================] - 1s 4ms/step - loss: 0.5823 - accuracy: 0.8642 - val_loss: 0.5313 - val_accuracy: 0.8835\n",
      "Epoch 21/100\n",
      "200/200 [==============================] - 1s 6ms/step - loss: 0.5672 - accuracy: 0.8667 - val_loss: 0.5173 - val_accuracy: 0.8849\n",
      "Epoch 22/100\n",
      "200/200 [==============================] - 1s 5ms/step - loss: 0.5535 - accuracy: 0.8685 - val_loss: 0.5042 - val_accuracy: 0.8868\n",
      "Epoch 23/100\n",
      "200/200 [==============================] - 1s 4ms/step - loss: 0.5409 - accuracy: 0.8705 - val_loss: 0.4926 - val_accuracy: 0.8881\n",
      "Epoch 24/100\n",
      "200/200 [==============================] - 1s 5ms/step - loss: 0.5295 - accuracy: 0.8721 - val_loss: 0.4818 - val_accuracy: 0.8888\n",
      "Epoch 25/100\n",
      "200/200 [==============================] - 1s 6ms/step - loss: 0.5189 - accuracy: 0.8733 - val_loss: 0.4720 - val_accuracy: 0.8902\n",
      "Epoch 26/100\n",
      "200/200 [==============================] - 1s 5ms/step - loss: 0.5091 - accuracy: 0.8747 - val_loss: 0.4629 - val_accuracy: 0.8908\n",
      "Epoch 27/100\n",
      "200/200 [==============================] - 1s 4ms/step - loss: 0.5001 - accuracy: 0.8761 - val_loss: 0.4547 - val_accuracy: 0.8918\n",
      "Epoch 28/100\n",
      "200/200 [==============================] - 1s 4ms/step - loss: 0.4917 - accuracy: 0.8777 - val_loss: 0.4468 - val_accuracy: 0.8929\n",
      "Epoch 29/100\n",
      "200/200 [==============================] - 1s 4ms/step - loss: 0.4838 - accuracy: 0.8789 - val_loss: 0.4395 - val_accuracy: 0.8935\n",
      "Epoch 30/100\n",
      "200/200 [==============================] - 1s 4ms/step - loss: 0.4765 - accuracy: 0.8796 - val_loss: 0.4327 - val_accuracy: 0.8943\n",
      "Epoch 31/100\n",
      "200/200 [==============================] - 1s 4ms/step - loss: 0.4697 - accuracy: 0.8807 - val_loss: 0.4265 - val_accuracy: 0.8954\n",
      "Epoch 32/100\n",
      "200/200 [==============================] - 1s 6ms/step - loss: 0.4632 - accuracy: 0.8822 - val_loss: 0.4208 - val_accuracy: 0.8953\n",
      "Epoch 33/100\n",
      "200/200 [==============================] - 1s 7ms/step - loss: 0.4572 - accuracy: 0.8830 - val_loss: 0.4151 - val_accuracy: 0.8963\n",
      "Epoch 34/100\n",
      "200/200 [==============================] - 1s 5ms/step - loss: 0.4515 - accuracy: 0.8844 - val_loss: 0.4099 - val_accuracy: 0.8971\n",
      "Epoch 35/100\n",
      "200/200 [==============================] - 1s 5ms/step - loss: 0.4461 - accuracy: 0.8852 - val_loss: 0.4049 - val_accuracy: 0.8973\n",
      "Epoch 36/100\n",
      "200/200 [==============================] - 1s 5ms/step - loss: 0.4411 - accuracy: 0.8858 - val_loss: 0.4004 - val_accuracy: 0.8985\n",
      "Epoch 37/100\n",
      "200/200 [==============================] - 1s 6ms/step - loss: 0.4362 - accuracy: 0.8867 - val_loss: 0.3960 - val_accuracy: 0.8993\n",
      "Epoch 38/100\n",
      "200/200 [==============================] - 1s 5ms/step - loss: 0.4317 - accuracy: 0.8873 - val_loss: 0.3918 - val_accuracy: 0.8990\n",
      "Epoch 39/100\n",
      "200/200 [==============================] - 1s 4ms/step - loss: 0.4273 - accuracy: 0.8880 - val_loss: 0.3879 - val_accuracy: 0.8994\n",
      "Epoch 40/100\n",
      "200/200 [==============================] - 1s 4ms/step - loss: 0.4232 - accuracy: 0.8888 - val_loss: 0.3841 - val_accuracy: 0.9006\n",
      "Epoch 41/100\n",
      "200/200 [==============================] - 1s 4ms/step - loss: 0.4193 - accuracy: 0.8897 - val_loss: 0.3805 - val_accuracy: 0.9006\n",
      "Epoch 42/100\n",
      "200/200 [==============================] - 1s 4ms/step - loss: 0.4155 - accuracy: 0.8901 - val_loss: 0.3773 - val_accuracy: 0.9017\n",
      "Epoch 43/100\n",
      "200/200 [==============================] - 1s 4ms/step - loss: 0.4119 - accuracy: 0.8908 - val_loss: 0.3740 - val_accuracy: 0.9025\n",
      "Epoch 44/100\n",
      "200/200 [==============================] - 1s 4ms/step - loss: 0.4084 - accuracy: 0.8910 - val_loss: 0.3709 - val_accuracy: 0.9030\n",
      "Epoch 45/100\n",
      "200/200 [==============================] - 1s 4ms/step - loss: 0.4052 - accuracy: 0.8921 - val_loss: 0.3680 - val_accuracy: 0.9035\n",
      "Epoch 46/100\n",
      "200/200 [==============================] - 1s 4ms/step - loss: 0.4020 - accuracy: 0.8922 - val_loss: 0.3652 - val_accuracy: 0.9039\n",
      "Epoch 47/100\n",
      "200/200 [==============================] - 1s 4ms/step - loss: 0.3990 - accuracy: 0.8927 - val_loss: 0.3626 - val_accuracy: 0.9044\n",
      "Epoch 48/100\n",
      "200/200 [==============================] - 1s 4ms/step - loss: 0.3960 - accuracy: 0.8931 - val_loss: 0.3600 - val_accuracy: 0.9046\n",
      "Epoch 49/100\n",
      "200/200 [==============================] - 1s 4ms/step - loss: 0.3932 - accuracy: 0.8936 - val_loss: 0.3574 - val_accuracy: 0.9055\n",
      "Epoch 50/100\n",
      "200/200 [==============================] - 1s 4ms/step - loss: 0.3905 - accuracy: 0.8941 - val_loss: 0.3550 - val_accuracy: 0.9055\n",
      "Epoch 51/100\n",
      "200/200 [==============================] - 1s 4ms/step - loss: 0.3879 - accuracy: 0.8947 - val_loss: 0.3527 - val_accuracy: 0.9053\n",
      "Epoch 52/100\n",
      "200/200 [==============================] - 1s 4ms/step - loss: 0.3854 - accuracy: 0.8947 - val_loss: 0.3504 - val_accuracy: 0.9055\n",
      "Epoch 53/100\n",
      "200/200 [==============================] - 1s 4ms/step - loss: 0.3830 - accuracy: 0.8956 - val_loss: 0.3483 - val_accuracy: 0.9057\n",
      "Epoch 54/100\n",
      "200/200 [==============================] - 1s 4ms/step - loss: 0.3806 - accuracy: 0.8959 - val_loss: 0.3462 - val_accuracy: 0.9066\n",
      "Epoch 55/100\n",
      "200/200 [==============================] - 1s 4ms/step - loss: 0.3783 - accuracy: 0.8964 - val_loss: 0.3442 - val_accuracy: 0.9074\n",
      "Epoch 56/100\n",
      "200/200 [==============================] - 1s 5ms/step - loss: 0.3761 - accuracy: 0.8966 - val_loss: 0.3423 - val_accuracy: 0.9070\n",
      "Epoch 57/100\n",
      "200/200 [==============================] - 2s 8ms/step - loss: 0.3740 - accuracy: 0.8968 - val_loss: 0.3405 - val_accuracy: 0.9076\n",
      "Epoch 58/100\n",
      "200/200 [==============================] - 1s 7ms/step - loss: 0.3719 - accuracy: 0.8973 - val_loss: 0.3386 - val_accuracy: 0.9079\n",
      "Epoch 59/100\n",
      "200/200 [==============================] - 1s 5ms/step - loss: 0.3699 - accuracy: 0.8976 - val_loss: 0.3368 - val_accuracy: 0.9084\n",
      "Epoch 60/100\n",
      "200/200 [==============================] - 1s 3ms/step - loss: 0.3680 - accuracy: 0.8981 - val_loss: 0.3351 - val_accuracy: 0.9086\n",
      "Epoch 61/100\n",
      "200/200 [==============================] - 1s 4ms/step - loss: 0.3661 - accuracy: 0.8985 - val_loss: 0.3336 - val_accuracy: 0.9085\n",
      "Epoch 62/100\n",
      "200/200 [==============================] - 1s 7ms/step - loss: 0.3642 - accuracy: 0.8988 - val_loss: 0.3319 - val_accuracy: 0.9094\n",
      "Epoch 63/100\n",
      "200/200 [==============================] - 1s 6ms/step - loss: 0.3625 - accuracy: 0.8989 - val_loss: 0.3303 - val_accuracy: 0.9095\n",
      "Epoch 64/100\n",
      "200/200 [==============================] - 1s 7ms/step - loss: 0.3607 - accuracy: 0.8994 - val_loss: 0.3288 - val_accuracy: 0.9101\n",
      "Epoch 65/100\n",
      "200/200 [==============================] - 1s 5ms/step - loss: 0.3590 - accuracy: 0.8996 - val_loss: 0.3274 - val_accuracy: 0.9100\n",
      "Epoch 66/100\n",
      "200/200 [==============================] - 1s 4ms/step - loss: 0.3574 - accuracy: 0.9000 - val_loss: 0.3260 - val_accuracy: 0.9105\n",
      "Epoch 67/100\n",
      "200/200 [==============================] - 1s 4ms/step - loss: 0.3557 - accuracy: 0.9001 - val_loss: 0.3246 - val_accuracy: 0.9108\n",
      "Epoch 68/100\n",
      "200/200 [==============================] - 1s 4ms/step - loss: 0.3542 - accuracy: 0.9005 - val_loss: 0.3232 - val_accuracy: 0.9108\n",
      "Epoch 69/100\n",
      "200/200 [==============================] - 1s 4ms/step - loss: 0.3526 - accuracy: 0.9009 - val_loss: 0.3218 - val_accuracy: 0.9115\n",
      "Epoch 70/100\n",
      "200/200 [==============================] - 1s 4ms/step - loss: 0.3511 - accuracy: 0.9013 - val_loss: 0.3205 - val_accuracy: 0.9116\n",
      "Epoch 71/100\n",
      "200/200 [==============================] - 1s 5ms/step - loss: 0.3497 - accuracy: 0.9016 - val_loss: 0.3193 - val_accuracy: 0.9119\n",
      "Epoch 72/100\n",
      "200/200 [==============================] - 1s 5ms/step - loss: 0.3482 - accuracy: 0.9019 - val_loss: 0.3180 - val_accuracy: 0.9123\n",
      "Epoch 73/100\n",
      "200/200 [==============================] - 1s 5ms/step - loss: 0.3468 - accuracy: 0.9021 - val_loss: 0.3168 - val_accuracy: 0.9127\n",
      "Epoch 74/100\n",
      "200/200 [==============================] - 1s 5ms/step - loss: 0.3455 - accuracy: 0.9024 - val_loss: 0.3158 - val_accuracy: 0.9130\n",
      "Epoch 75/100\n",
      "200/200 [==============================] - 1s 3ms/step - loss: 0.3441 - accuracy: 0.9026 - val_loss: 0.3146 - val_accuracy: 0.9133\n",
      "Epoch 76/100\n",
      "200/200 [==============================] - 1s 3ms/step - loss: 0.3428 - accuracy: 0.9030 - val_loss: 0.3134 - val_accuracy: 0.9134\n",
      "Epoch 77/100\n",
      "200/200 [==============================] - 1s 4ms/step - loss: 0.3415 - accuracy: 0.9036 - val_loss: 0.3123 - val_accuracy: 0.9136\n",
      "Epoch 78/100\n",
      "200/200 [==============================] - 1s 4ms/step - loss: 0.3402 - accuracy: 0.9038 - val_loss: 0.3112 - val_accuracy: 0.9143\n",
      "Epoch 79/100\n",
      "200/200 [==============================] - 1s 5ms/step - loss: 0.3390 - accuracy: 0.9042 - val_loss: 0.3102 - val_accuracy: 0.9135\n",
      "Epoch 80/100\n",
      "200/200 [==============================] - 1s 6ms/step - loss: 0.3378 - accuracy: 0.9043 - val_loss: 0.3092 - val_accuracy: 0.9141\n",
      "Epoch 81/100\n",
      "200/200 [==============================] - 1s 5ms/step - loss: 0.3366 - accuracy: 0.9046 - val_loss: 0.3081 - val_accuracy: 0.9138\n",
      "Epoch 82/100\n",
      "200/200 [==============================] - 1s 5ms/step - loss: 0.3354 - accuracy: 0.9048 - val_loss: 0.3071 - val_accuracy: 0.9138\n",
      "Epoch 83/100\n",
      "200/200 [==============================] - 1s 4ms/step - loss: 0.3343 - accuracy: 0.9053 - val_loss: 0.3061 - val_accuracy: 0.9145\n",
      "Epoch 84/100\n",
      "200/200 [==============================] - 1s 4ms/step - loss: 0.3332 - accuracy: 0.9055 - val_loss: 0.3052 - val_accuracy: 0.9149\n",
      "Epoch 85/100\n",
      "200/200 [==============================] - 1s 4ms/step - loss: 0.3320 - accuracy: 0.9060 - val_loss: 0.3043 - val_accuracy: 0.9147\n",
      "Epoch 86/100\n",
      "200/200 [==============================] - 2s 8ms/step - loss: 0.3310 - accuracy: 0.9061 - val_loss: 0.3033 - val_accuracy: 0.9152\n",
      "Epoch 87/100\n",
      "200/200 [==============================] - 1s 6ms/step - loss: 0.3299 - accuracy: 0.9067 - val_loss: 0.3024 - val_accuracy: 0.9158\n",
      "Epoch 88/100\n",
      "200/200 [==============================] - 1s 6ms/step - loss: 0.3289 - accuracy: 0.9069 - val_loss: 0.3015 - val_accuracy: 0.9162\n",
      "Epoch 89/100\n",
      "200/200 [==============================] - 1s 6ms/step - loss: 0.3278 - accuracy: 0.9070 - val_loss: 0.3006 - val_accuracy: 0.9161\n",
      "Epoch 90/100\n",
      "200/200 [==============================] - 1s 6ms/step - loss: 0.3268 - accuracy: 0.9071 - val_loss: 0.2998 - val_accuracy: 0.9160\n",
      "Epoch 91/100\n",
      "200/200 [==============================] - 2s 8ms/step - loss: 0.3258 - accuracy: 0.9074 - val_loss: 0.2989 - val_accuracy: 0.9162\n",
      "Epoch 92/100\n",
      "200/200 [==============================] - 2s 8ms/step - loss: 0.3248 - accuracy: 0.9078 - val_loss: 0.2981 - val_accuracy: 0.9169\n",
      "Epoch 93/100\n",
      "200/200 [==============================] - 1s 7ms/step - loss: 0.3238 - accuracy: 0.9080 - val_loss: 0.2973 - val_accuracy: 0.9169\n",
      "Epoch 94/100\n",
      "200/200 [==============================] - 1s 5ms/step - loss: 0.3229 - accuracy: 0.9083 - val_loss: 0.2964 - val_accuracy: 0.9170\n",
      "Epoch 95/100\n",
      "200/200 [==============================] - 1s 4ms/step - loss: 0.3219 - accuracy: 0.9086 - val_loss: 0.2957 - val_accuracy: 0.9170\n",
      "Epoch 96/100\n",
      "200/200 [==============================] - 1s 6ms/step - loss: 0.3210 - accuracy: 0.9087 - val_loss: 0.2949 - val_accuracy: 0.9170\n",
      "Epoch 97/100\n",
      "200/200 [==============================] - 1s 5ms/step - loss: 0.3201 - accuracy: 0.9086 - val_loss: 0.2941 - val_accuracy: 0.9175\n",
      "Epoch 98/100\n",
      "200/200 [==============================] - 1s 5ms/step - loss: 0.3192 - accuracy: 0.9091 - val_loss: 0.2933 - val_accuracy: 0.9179\n",
      "Epoch 99/100\n",
      "200/200 [==============================] - 1s 5ms/step - loss: 0.3183 - accuracy: 0.9092 - val_loss: 0.2927 - val_accuracy: 0.9183\n",
      "Epoch 100/100\n",
      "200/200 [==============================] - 1s 7ms/step - loss: 0.3174 - accuracy: 0.9094 - val_loss: 0.2919 - val_accuracy: 0.9182\n"
     ]
    }
   ],
   "source": [
    "history2 = model2.fit(x_train, y_train, batch_size=250, epochs=MAX_EPOCHS, validation_data=(x_valid, y_valid))"
   ]
  },
  {
   "cell_type": "code",
   "execution_count": 19,
   "id": "d46911de",
   "metadata": {},
   "outputs": [
    {
     "data": {
      "image/png": "[encoded data removed]",
      "text/plain": [
       "<Figure size 400x400 with 1 Axes>"
      ]
     },
     "metadata": {},
     "output_type": "display_data"
    }
   ],
   "source": [
    "plt.figure(figsize=(4,4))\n",
    "plt.plot(np.arange(1, MAX_EPOCHS+1), history2.history['loss'], label='train')\n",
    "plt.plot(np.arange(1, MAX_EPOCHS+1), history2.history['val_loss'], label='validation')\n",
    "plt.legend()\n",
    "plt.xlabel('Epochs')\n",
    "plt.ylabel('loss')\n",
    "plt.show()"
   ]
  },
  {
   "cell_type": "code",
   "execution_count": 20,
   "id": "f3c66215",
   "metadata": {},
   "outputs": [
    {
     "data": {
      "image/png": "[encoded data removed]",
      "text/plain": [
       "<Figure size 400x400 with 1 Axes>"
      ]
     },
     "metadata": {},
     "output_type": "display_data"
    }
   ],
   "source": [
    "plt.figure(figsize=(4,4))\n",
    "plt.plot(np.arange(1, MAX_EPOCHS+1), history2.history['accuracy'], label='train')\n",
    "plt.plot(np.arange(1, MAX_EPOCHS+1), history2.history['val_accuracy'], label='validation')\n",
    "plt.legend()\n",
    "plt.xlabel('Epochs')\n",
    "plt.ylabel('accuracy')\n",
    "plt.show()"
   ]
  },
  {
   "cell_type": "code",
   "execution_count": 21,
   "id": "5a047066",
   "metadata": {},
   "outputs": [
    {
     "name": "stdout",
     "output_type": "stream",
     "text": [
      "313/313 [==============================] - 1s 3ms/step\n",
      "Test Accuracy: 91.45 %\n"
     ]
    }
   ],
   "source": [
    "pred2 = model2.predict(x_test)\n",
    "pred_label2 = np.argmax(pred2, axis = 1)\n",
    "test_acc2 = np.sum(pred_label2==y_test)/y_test.shape[0]\n",
    "print('Test Accuracy:', test_acc2*100, '%')"
   ]
  }
 ],
 "metadata": {
  "kernelspec": {
   "display_name": "test",
   "language": "python",
   "name": "test"
  },
  "language_info": {
   "codemirror_mode": {
    "name": "ipython",
    "version": 3
   },
   "file_extension": ".py",
   "mimetype": "text/x-python",
   "name": "python",
   "nbconvert_exporter": "python",
   "pygments_lexer": "ipython3",
   "version": "3.9.13"
  }
 },
 "nbformat": 4,
 "nbformat_minor": 5
}
