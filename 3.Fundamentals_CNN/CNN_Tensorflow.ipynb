{
  "cells": [
    {
      "attachments": {},
      "cell_type": "markdown",
      "metadata": {
        "id": "aENjWha3KApZ"
      },
      "source": [
        "CNN with MNIST data(Tensorflow)\n",
        "==========="
      ]
    },
    {
      "attachments": {},
      "cell_type": "markdown",
      "metadata": {},
      "source": [
        "Import pakages\n",
        "-----"
      ]
    },
    {
      "cell_type": "code",
      "execution_count": 1,
      "metadata": {
        "id": "c8EdXUqvIEVe"
      },
      "outputs": [
        {
          "name": "stderr",
          "output_type": "stream",
          "text": [
            "c:\\Users\\user\\.conda\\envs\\test\\lib\\site-packages\\numpy\\_distributor_init.py:30: UserWarning: loaded more than 1 DLL from .libs:\n",
            "c:\\Users\\user\\.conda\\envs\\test\\lib\\site-packages\\numpy\\.libs\\libopenblas.EL2C6PLE4ZYW3ECEVIV3OXXGRN2NRFM2.gfortran-win_amd64.dll\n",
            "c:\\Users\\user\\.conda\\envs\\test\\lib\\site-packages\\numpy\\.libs\\libopenblas.PYQHXLVVQ7VESDPUVUADXEVJOBGHJPAY.gfortran-win_amd64.dll\n",
            "  warnings.warn(\"loaded more than 1 DLL from .libs:\"\n"
          ]
        }
      ],
      "source": [
        "import numpy as np\n",
        "import matplotlib.pyplot as plt\n",
        "from sklearn.datasets import fetch_openml\n",
        "\n",
        "import tensorflow as tf\n"
      ]
    },
    {
      "attachments": {},
      "cell_type": "markdown",
      "metadata": {},
      "source": [
        "Download datas\n",
        "-----"
      ]
    },
    {
      "cell_type": "code",
      "execution_count": 2,
      "metadata": {
        "id": "d6kxGFAqIETZ"
      },
      "outputs": [],
      "source": [
        "mnist = fetch_openml('mnist_784', version=1, cache=True, as_frame=False)"
      ]
    },
    {
      "cell_type": "code",
      "execution_count": 3,
      "metadata": {
        "colab": {
          "base_uri": "https://localhost:8080/"
        },
        "id": "_jd13ayRIxKw",
        "outputId": "7c6cf5a3-c28c-4d31-cdb6-8beac2315e85"
      },
      "outputs": [
        {
          "name": "stdout",
          "output_type": "stream",
          "text": [
            "[  0.   0.   0.   0.   0.   0.   0.   0.   0.   0.   0.   0.   0.   0.\n",
            "   0.   0.   0.   0.   0.   0.   0.   0.   0.   0.   0.   0.   0.   0.\n",
            "   0.   0.   0.   0.   0.   0.   0.   0.   0.   0.   0.   0.   0.   0.\n",
            "   0.   0.   0.   0.   0.   0.   0.   0.   0.   0.   0.   0.   0.   0.\n",
            "   0.   0.   0.   0.   0.   0.   0.   0.   0.   0.   0.   0.   0.   0.\n",
            "   0.   0.   0.   0.   0.   0.   0.   0.   0.   0.   0.   0.   0.   0.\n",
            "   0.   0.   0.   0.   0.   0.   0.   0.   0.   0.   0.   0.   0.   0.\n",
            "   0.   0.   0.   0.   0.   0.   0.   0.   0.   0.   0.   0.   0.   0.\n",
            "   0.   0.   0.   0.   0.   0.   0.   0.   0.   0.   0.   0.   0.   0.\n",
            "   0.   0.   0.   0.   0.   0.   0.   0.   0.   0.   0.   0.   0.   0.\n",
            "   0.   0.   0.   0.   0.   0.   0.   0.   0.   0.   0.   0.   3.  18.\n",
            "  18.  18. 126. 136. 175.  26. 166. 255. 247. 127.   0.   0.   0.   0.\n",
            "   0.   0.   0.   0.   0.   0.   0.   0.  30.  36.  94. 154. 170. 253.\n",
            " 253. 253. 253. 253. 225. 172. 253. 242. 195.  64.   0.   0.   0.   0.\n",
            "   0.   0.   0.   0.   0.   0.   0.  49. 238. 253. 253. 253. 253. 253.\n",
            " 253. 253. 253. 251.  93.  82.  82.  56.  39.   0.   0.   0.   0.   0.\n",
            "   0.   0.   0.   0.   0.   0.   0.  18. 219. 253. 253. 253. 253. 253.\n",
            " 198. 182. 247. 241.   0.   0.   0.   0.   0.   0.   0.   0.   0.   0.\n",
            "   0.   0.   0.   0.   0.   0.   0.   0.  80. 156. 107. 253. 253. 205.\n",
            "  11.   0.  43. 154.   0.   0.   0.   0.   0.   0.   0.   0.   0.   0.\n",
            "   0.   0.   0.   0.   0.   0.   0.   0.   0.  14.   1. 154. 253.  90.\n",
            "   0.   0.   0.   0.   0.   0.   0.   0.   0.   0.   0.   0.   0.   0.\n",
            "   0.   0.   0.   0.   0.   0.   0.   0.   0.   0.   0. 139. 253. 190.\n",
            "   2.   0.   0.   0.   0.   0.   0.   0.   0.   0.   0.   0.   0.   0.\n",
            "   0.   0.   0.   0.   0.   0.   0.   0.   0.   0.   0.  11. 190. 253.\n",
            "  70.   0.   0.   0.   0.   0.   0.   0.   0.   0.   0.   0.   0.   0.\n",
            "   0.   0.   0.   0.   0.   0.   0.   0.   0.   0.   0.   0.  35. 241.\n",
            " 225. 160. 108.   1.   0.   0.   0.   0.   0.   0.   0.   0.   0.   0.\n",
            "   0.   0.   0.   0.   0.   0.   0.   0.   0.   0.   0.   0.   0.  81.\n",
            " 240. 253. 253. 119.  25.   0.   0.   0.   0.   0.   0.   0.   0.   0.\n",
            "   0.   0.   0.   0.   0.   0.   0.   0.   0.   0.   0.   0.   0.   0.\n",
            "  45. 186. 253. 253. 150.  27.   0.   0.   0.   0.   0.   0.   0.   0.\n",
            "   0.   0.   0.   0.   0.   0.   0.   0.   0.   0.   0.   0.   0.   0.\n",
            "   0.  16.  93. 252. 253. 187.   0.   0.   0.   0.   0.   0.   0.   0.\n",
            "   0.   0.   0.   0.   0.   0.   0.   0.   0.   0.   0.   0.   0.   0.\n",
            "   0.   0.   0. 249. 253. 249.  64.   0.   0.   0.   0.   0.   0.   0.\n",
            "   0.   0.   0.   0.   0.   0.   0.   0.   0.   0.   0.   0.   0.   0.\n",
            "  46. 130. 183. 253. 253. 207.   2.   0.   0.   0.   0.   0.   0.   0.\n",
            "   0.   0.   0.   0.   0.   0.   0.   0.   0.   0.   0.   0.  39. 148.\n",
            " 229. 253. 253. 253. 250. 182.   0.   0.   0.   0.   0.   0.   0.   0.\n",
            "   0.   0.   0.   0.   0.   0.   0.   0.   0.   0.  24. 114. 221. 253.\n",
            " 253. 253. 253. 201.  78.   0.   0.   0.   0.   0.   0.   0.   0.   0.\n",
            "   0.   0.   0.   0.   0.   0.   0.   0.  23.  66. 213. 253. 253. 253.\n",
            " 253. 198.  81.   2.   0.   0.   0.   0.   0.   0.   0.   0.   0.   0.\n",
            "   0.   0.   0.   0.   0.   0.  18. 171. 219. 253. 253. 253. 253. 195.\n",
            "  80.   9.   0.   0.   0.   0.   0.   0.   0.   0.   0.   0.   0.   0.\n",
            "   0.   0.   0.   0.  55. 172. 226. 253. 253. 253. 253. 244. 133.  11.\n",
            "   0.   0.   0.   0.   0.   0.   0.   0.   0.   0.   0.   0.   0.   0.\n",
            "   0.   0.   0.   0. 136. 253. 253. 253. 212. 135. 132.  16.   0.   0.\n",
            "   0.   0.   0.   0.   0.   0.   0.   0.   0.   0.   0.   0.   0.   0.\n",
            "   0.   0.   0.   0.   0.   0.   0.   0.   0.   0.   0.   0.   0.   0.\n",
            "   0.   0.   0.   0.   0.   0.   0.   0.   0.   0.   0.   0.   0.   0.\n",
            "   0.   0.   0.   0.   0.   0.   0.   0.   0.   0.   0.   0.   0.   0.\n",
            "   0.   0.   0.   0.   0.   0.   0.   0.   0.   0.   0.   0.   0.   0.\n",
            "   0.   0.   0.   0.   0.   0.   0.   0.   0.   0.   0.   0.   0.   0.\n",
            "   0.   0.   0.   0.   0.   0.   0.   0.   0.   0.   0.   0.   0.   0.]\n",
            "<class 'numpy.ndarray'>\n"
          ]
        }
      ],
      "source": [
        "print(mnist.data[0])\n",
        "print(type(mnist.data[0]))"
      ]
    },
    {
      "cell_type": "code",
      "execution_count": 4,
      "metadata": {
        "colab": {
          "base_uri": "https://localhost:8080/"
        },
        "id": "9sJgCBSZI0bd",
        "outputId": "7eb94a7d-b5fc-4f32-8874-6ca22f75d7d4"
      },
      "outputs": [
        {
          "name": "stdout",
          "output_type": "stream",
          "text": [
            "5\n",
            "<class 'str'>\n"
          ]
        }
      ],
      "source": [
        "print(mnist.target[0])\n",
        "print(type(mnist.target[0]))"
      ]
    },
    {
      "attachments": {},
      "cell_type": "markdown",
      "metadata": {},
      "source": [
        "Preprocess datas\n",
        "----"
      ]
    },
    {
      "cell_type": "code",
      "execution_count": 5,
      "metadata": {
        "id": "N82C-hZPI3D5"
      },
      "outputs": [],
      "source": [
        "mnist.target = mnist.target.astype(np.int8) # Target이 지금 'str'형으로 되어 있는데 이를 'int'형으로 바꿈\n"
      ]
    },
    {
      "cell_type": "code",
      "execution_count": 6,
      "metadata": {
        "id": "Qx9eW1foJ35J"
      },
      "outputs": [],
      "source": [
        "X = mnist.data / 255  # 0-255값을 [0,1] 구간으로 정규화\n",
        "target = mnist.target\n",
        "y= np.zeros((len(target), 10))"
      ]
    },
    {
      "cell_type": "code",
      "execution_count": 7,
      "metadata": {},
      "outputs": [],
      "source": [
        "id = np.eye(10)\n",
        "\n",
        "for i in range(len(target)):\n",
        "    y[i]= id[target[i]]"
      ]
    },
    {
      "attachments": {},
      "cell_type": "markdown",
      "metadata": {},
      "source": [
        "If we use a CNN model with Tensorflow, we need to change the shape of dataset as\n",
        "$\\left( N, H, W, C \\right)$.\n",
        "\n",
        "$N$ means the number of data.\n",
        "\n",
        "$C$ means the number of channel.\n",
        "\n",
        "$H$, $W$ mean the size of data."
      ]
    },
    {
      "cell_type": "code",
      "execution_count": 8,
      "metadata": {},
      "outputs": [],
      "source": [
        "X = np.reshape(X,(-1,28,28,1))"
      ]
    },
    {
      "cell_type": "code",
      "execution_count": 9,
      "metadata": {
        "colab": {
          "base_uri": "https://localhost:8080/",
          "height": 283
        },
        "id": "YFb79ONkJ7wb",
        "outputId": "81a3d121-33aa-4c74-89df-d03b61991ecf"
      },
      "outputs": [
        {
          "name": "stdout",
          "output_type": "stream",
          "text": [
            "이 이미지 데이터의 레이블은 9이다\n"
          ]
        },
        {
          "data": {
            "image/png": "[encoded data removed]",
            "text/plain": [
              "<Figure size 432x288 with 1 Axes>"
            ]
          },
          "metadata": {
            "needs_background": "light"
          },
          "output_type": "display_data"
        }
      ],
      "source": [
        "plt.imshow(X[4].reshape(28,28), cmap='gray')\n",
        "ans = np.argmax(y[4])\n",
        "print(\"이 이미지 데이터의 레이블은 {:.0f}이다\".format(ans))"
      ]
    },
    {
      "cell_type": "code",
      "execution_count": 10,
      "metadata": {
        "id": "RXZfZfk_KuIM"
      },
      "outputs": [],
      "source": [
        "X_train = X[0:60000]\n",
        "X_test = X[60000:]\n",
        "y_train = y[0:60000]\n",
        "y_test = y[60000:]\n"
      ]
    },
    {
      "attachments": {},
      "cell_type": "markdown",
      "metadata": {},
      "source": [
        "Construct model\n",
        "------\n",
        "\n"
      ]
    },
    {
      "attachments": {},
      "cell_type": "markdown",
      "metadata": {},
      "source": [
        "Pythorch provides a convolutional neural network layer through the command \"tf.keras.layers.Conv2D\".\n",
        "\n",
        "Also, we need a (max/average) pooling layer during CNN model.\n",
        "\n",
        "Pythorch provides a pooling layer through the command \"tf.keras.layers.MaxPool2D\", \"tf.keras.layers.AveragePool2D\"."
      ]
    },
    {
      "attachments": {},
      "cell_type": "markdown",
      "metadata": {},
      "source": [
        "tf.keras.layers.Conv2D\n",
        "------\n",
        "tf.keras.layers.Conv2D has 2 essential inputs (filters / kernel_size)\n",
        "\n",
        "filters : the number of channels of output data\n",
        "\n",
        "kernel_size : the size of kernel\n",
        "\n",
        "Note. For the 1st convolution layer, we need to set input_shape"
      ]
    },
    {
      "attachments": {},
      "cell_type": "markdown",
      "metadata": {},
      "source": [
        "tf.keras.layers.Conv2D has other inessential inputs(strides / padding / dilation_rate / activation / use_bias etc.)\n",
        "\n",
        "strides : the stride of the convolution - default = (1, 1)\n",
        "\n",
        "padding : how method of padding('valid', 'same') - default = 'valid'\n",
        "\n",
        "dilation : the dilation rate to use for dilated convolution - default = (1, 1)\n",
        "\n",
        "activation : activation function to use - default = None\n",
        "\n",
        "use_bias : whether adding a learnable bias to the output - default = True"
      ]
    },
    {
      "cell_type": "code",
      "execution_count": 11,
      "metadata": {
        "colab": {
          "base_uri": "https://localhost:8080/"
        },
        "id": "JxB0RIFZKvrP",
        "outputId": "935c198b-65d2-46f0-bea7-a4f6551041ba"
      },
      "outputs": [
        {
          "name": "stdout",
          "output_type": "stream",
          "text": [
            "Model: \"sequential\"\n",
            "_________________________________________________________________\n",
            " Layer (type)                Output Shape              Param #   \n",
            "=================================================================\n",
            " conv2d (Conv2D)             (None, 26, 26, 16)        160       \n",
            "                                                                 \n",
            " max_pooling2d (MaxPooling2D  (None, 13, 13, 16)       0         \n",
            " )                                                               \n",
            "                                                                 \n",
            " conv2d_1 (Conv2D)           (None, 9, 9, 32)          12832     \n",
            "                                                                 \n",
            " max_pooling2d_1 (MaxPooling  (None, 3, 3, 32)         0         \n",
            " 2D)                                                             \n",
            "                                                                 \n",
            " flatten (Flatten)           (None, 288)               0         \n",
            "                                                                 \n",
            " dense (Dense)               (None, 64)                18496     \n",
            "                                                                 \n",
            " re_lu (ReLU)                (None, 64)                0         \n",
            "                                                                 \n",
            " dense_1 (Dense)             (None, 10)                650       \n",
            "                                                                 \n",
            "=================================================================\n",
            "Total params: 32,138\n",
            "Trainable params: 32,138\n",
            "Non-trainable params: 0\n",
            "_________________________________________________________________\n",
            "None\n"
          ]
        }
      ],
      "source": [
        "model = tf.keras.Sequential()\n",
        "model.add(tf.keras.layers.Conv2D(16, kernel_size=3, padding='valid', input_shape = (28,28,1), activation = 'relu'))\n",
        "model.add(tf.keras.layers.MaxPool2D(2,2))\n",
        "model.add(tf.keras.layers.Conv2D(32, kernel_size=5, padding='valid', activation='relu'))\n",
        "model.add(tf.keras.layers.MaxPool2D(3,3))\n",
        "model.add(tf.keras.layers.Flatten())\n",
        "model.add(tf.keras.layers.Dense(64))\n",
        "model.add(tf.keras.layers.ReLU())\n",
        "model.add(tf.keras.layers.Dense(10,activation='softmax'))\n",
        "\n",
        "print(model.summary())\n",
        "\n",
        "model.compile(optimizer = 'Adam', loss = 'categorical_crossentropy')"
      ]
    },
    {
      "cell_type": "code",
      "execution_count": 12,
      "metadata": {
        "id": "sVFu4BykKytd"
      },
      "outputs": [
        {
          "name": "stdout",
          "output_type": "stream",
          "text": [
            "예측 결과 : 9\n",
            "이 이미지 데이터의 정답 레이블은 0입니다\n"
          ]
        },
        {
          "data": {
            "image/png": "[encoded data removed]",
            "text/plain": [
              "<Figure size 432x288 with 1 Axes>"
            ]
          },
          "metadata": {
            "needs_background": "light"
          },
          "output_type": "display_data"
        }
      ],
      "source": [
        "index = np.random.randint(10000)\n",
        "\n",
        "data = X_test[index]\n",
        "data = np.reshape(data,(-1,28,28,1))\n",
        "output = model(data)  # 데이터를 입력하고 출력을 계산\n",
        "pred = output.numpy()\n",
        "pred = np.reshape(pred,(10))\n",
        "\n",
        "print(\"예측 결과 : \"+str(np.argmax(pred)))\n",
        "\n",
        "plt.imshow(data.reshape(28, 28), cmap='gray')\n",
        "print(\"이 이미지 데이터의 정답 레이블은 {:.0f}입니다\".format(np.argmax(y_test[index])))"
      ]
    },
    {
      "attachments": {},
      "cell_type": "markdown",
      "metadata": {},
      "source": [
        "Before training\n",
        "-----\n",
        "We can test the model before training."
      ]
    },
    {
      "cell_type": "code",
      "execution_count": 13,
      "metadata": {
        "colab": {
          "base_uri": "https://localhost:8080/"
        },
        "id": "NBTyrwJUK9iv",
        "outputId": "b6f2596b-8c7a-4e0e-d4f5-e23f763d29ef"
      },
      "outputs": [
        {
          "name": "stdout",
          "output_type": "stream",
          "text": [
            "accuracy : 0.1295\n"
          ]
        }
      ],
      "source": [
        "correct = 0\n",
        "l = len(X_test)\n",
        "for i in range(l):\n",
        "    data = X_test[i]\n",
        "    data = np.reshape(data,(-1,28,28,1))\n",
        "    output = model(data)  # 데이터를 입력하고 출력을 계산\n",
        "    pred = output.numpy()\n",
        "    pred = np.reshape(pred,(10))\n",
        "    pred = np.argmax(pred)\n",
        "    if np.argmax(y_test[i]) == pred:\n",
        "        correct = correct + 1\n",
        "\n",
        "print(\"accuracy : \" + str(correct/l))"
      ]
    },
    {
      "attachments": {},
      "cell_type": "markdown",
      "metadata": {},
      "source": [
        "Training\n",
        "-----"
      ]
    },
    {
      "cell_type": "code",
      "execution_count": 14,
      "metadata": {
        "colab": {
          "base_uri": "https://localhost:8080/"
        },
        "id": "6BYZnrHiMknN",
        "outputId": "f25ab683-4f23-41e6-eb77-fcc2e58b5dd5"
      },
      "outputs": [
        {
          "name": "stdout",
          "output_type": "stream",
          "text": [
            "Epoch 1/5\n",
            "1875/1875 [==============================] - 30s 16ms/step - loss: 0.1649\n",
            "Epoch 2/5\n",
            "1875/1875 [==============================] - 28s 15ms/step - loss: 0.0552\n",
            "Epoch 3/5\n",
            "1875/1875 [==============================] - 26s 14ms/step - loss: 0.0392\n",
            "Epoch 4/5\n",
            "1875/1875 [==============================] - 32s 17ms/step - loss: 0.0303\n",
            "Epoch 5/5\n",
            "1875/1875 [==============================] - 32s 17ms/step - loss: 0.0241\n"
          ]
        },
        {
          "data": {
            "text/plain": [
              "<keras.callbacks.History at 0x125ed48ed90>"
            ]
          },
          "execution_count": 14,
          "metadata": {},
          "output_type": "execute_result"
        }
      ],
      "source": [
        "model.fit(X_train, y_train, epochs=5, shuffle=True)\n"
      ]
    },
    {
      "cell_type": "code",
      "execution_count": 15,
      "metadata": {},
      "outputs": [
        {
          "name": "stdout",
          "output_type": "stream",
          "text": [
            "accuracy : 0.9919\n"
          ]
        }
      ],
      "source": [
        "correct = 0\n",
        "l = len(X_test)\n",
        "\n",
        "for i in range(l):\n",
        "    data = X_test[i]\n",
        "    data = np.reshape(data,(-1,28,28,1))\n",
        "    output = model(data)  # 데이터를 입력하고 출력을 계산\n",
        "    pred = output.numpy()\n",
        "    pred = np.reshape(pred,(10))\n",
        "    pred = np.argmax(pred)\n",
        "    if np.argmax(y_test[i]) == pred:\n",
        "        correct = correct + 1\n",
        "\n",
        "print(\"accuracy : \" + str(correct/l))"
      ]
    },
    {
      "attachments": {},
      "cell_type": "markdown",
      "metadata": {},
      "source": [
        "Check the model with data in testset\n",
        "------"
      ]
    },
    {
      "cell_type": "code",
      "execution_count": 16,
      "metadata": {},
      "outputs": [
        {
          "name": "stdout",
          "output_type": "stream",
          "text": [
            "예측 결과 : 6\n",
            "이 이미지 데이터의 정답 레이블은 6입니다\n"
          ]
        },
        {
          "data": {
            "image/png": "[encoded data removed]",
            "text/plain": [
              "<Figure size 432x288 with 1 Axes>"
            ]
          },
          "metadata": {
            "needs_background": "light"
          },
          "output_type": "display_data"
        }
      ],
      "source": [
        "index = np.random.randint(10000)\n",
        "\n",
        "data = X_test[index]\n",
        "data = np.reshape(data,(-1,28,28,1))\n",
        "output = model.predict(data)  # 데이터를 입력하고 출력을 계산\n",
        "pred = np.reshape(output,(10))\n",
        "\n",
        "print(\"예측 결과 : \"+str(np.argmax(pred)))\n",
        "\n",
        "plt.imshow(data.reshape(28, 28), cmap='gray')\n",
        "print(\"이 이미지 데이터의 정답 레이블은 {:.0f}입니다\".format(np.argmax(y_test[index])))\n",
        "\n"
      ]
    },
    {
      "attachments": {},
      "cell_type": "markdown",
      "metadata": {},
      "source": [
        "Check the model with custom image data\n",
        "-----\n"
      ]
    },
    {
      "cell_type": "code",
      "execution_count": 17,
      "metadata": {},
      "outputs": [
        {
          "name": "stdout",
          "output_type": "stream",
          "text": [
            "[[0.         0.         0.         0.         0.         0.\n",
            "  0.         0.         0.         0.00392157 0.01176471 0.\n",
            "  0.01176471 0.         0.00784314 0.00392157 0.         0.01568627\n",
            "  0.         0.         0.00784314 0.         0.         0.\n",
            "  0.         0.         0.         0.        ]\n",
            " [0.         0.         0.         0.         0.         0.\n",
            "  0.         0.         0.00784314 0.         0.         0.\n",
            "  0.         0.01960784 0.         0.         0.         0.\n",
            "  0.01960784 0.         0.         0.00784314 0.         0.00784314\n",
            "  0.         0.         0.         0.        ]\n",
            " [0.         0.         0.         0.         0.         0.\n",
            "  0.         0.         0.00392157 0.         0.         0.\n",
            "  0.         0.         0.01176471 0.         0.         0.00392157\n",
            "  0.         0.         0.01568627 0.         0.         0.\n",
            "  0.         0.         0.         0.        ]\n",
            " [0.         0.         0.         0.         0.         0.\n",
            "  0.         0.         0.         0.01960784 0.00784314 0.\n",
            "  0.02745098 0.         0.         0.         0.00392157 0.\n",
            "  0.00784314 0.         0.00392157 0.00392157 0.00392157 0.00392157\n",
            "  0.         0.         0.         0.        ]\n",
            " [0.         0.         0.         0.         0.         0.\n",
            "  0.         0.         0.         0.2745098  0.74509804 0.36862745\n",
            "  0.         0.00784314 0.00392157 0.00392157 0.         0.\n",
            "  0.         0.28627451 0.74901961 0.37647059 0.         0.\n",
            "  0.         0.         0.         0.        ]\n",
            " [0.         0.         0.         0.         0.         0.\n",
            "  0.         0.         0.00392157 0.90980392 1.         0.97647059\n",
            "  0.01176471 0.         0.         0.00784314 0.00392157 0.\n",
            "  0.01960784 0.90196078 0.99215686 0.95686275 0.03137255 0.00392157\n",
            "  0.         0.         0.         0.        ]\n",
            " [0.         0.         0.         0.         0.         0.\n",
            "  0.         0.         0.         1.         1.         0.99215686\n",
            "  0.         0.         0.00784314 0.         0.         0.\n",
            "  0.         1.         1.         0.99215686 0.         0.\n",
            "  0.         0.         0.         0.        ]\n",
            " [0.         0.         0.         0.         0.         0.\n",
            "  0.         0.         0.00392157 0.99607843 1.         1.\n",
            "  0.00392157 0.         0.         0.00784314 0.         0.01960784\n",
            "  0.         0.98823529 1.         0.99607843 0.00784314 0.00784314\n",
            "  0.         0.         0.         0.        ]\n",
            " [0.         0.         0.         0.         0.         0.\n",
            "  0.         0.         0.         1.         0.98431373 1.\n",
            "  0.         0.00784314 0.         0.00784314 0.         0.00784314\n",
            "  0.         1.         0.98039216 1.         0.00784314 0.\n",
            "  0.         0.         0.00392157 0.00784314]\n",
            " [0.         0.         0.         0.         0.         0.\n",
            "  0.         0.         0.         0.98823529 1.         0.98431373\n",
            "  0.         0.01176471 0.         0.         0.         0.00784314\n",
            "  0.         0.99215686 1.         0.99607843 0.         0.\n",
            "  0.00392157 0.01176471 0.00392157 0.        ]\n",
            " [0.         0.         0.         0.         0.         0.\n",
            "  0.         0.         0.01568627 0.99607843 1.         1.\n",
            "  0.         0.         0.         0.00784314 0.00392157 0.\n",
            "  0.         1.         1.         1.         0.         0.01960784\n",
            "  0.00392157 0.         0.         0.01176471]\n",
            " [0.         0.         0.         0.         0.         0.\n",
            "  0.         0.         0.         1.         0.99607843 1.\n",
            "  0.00784314 0.         0.00392157 0.         0.         0.00392157\n",
            "  0.01176471 1.         0.99215686 1.         0.         0.\n",
            "  0.00784314 0.00392157 0.01960784 0.        ]\n",
            " [0.         0.         0.         0.         0.         0.\n",
            "  0.         0.         0.00392157 1.         0.99215686 0.99607843\n",
            "  0.01176471 0.         0.         0.00392157 0.00392157 0.\n",
            "  0.39215686 1.         0.98431373 1.         0.00392157 0.00784314\n",
            "  0.         0.00392157 0.         0.00784314]\n",
            " [0.         0.         0.         0.         0.         0.\n",
            "  0.         0.         0.         0.92156863 1.         0.98823529\n",
            "  0.50588235 0.01176471 0.         0.01176471 0.         0.01960784\n",
            "  0.90980392 0.99215686 1.         0.98039216 0.87058824 1.\n",
            "  1.         0.86666667 0.36470588 0.        ]\n",
            " [0.         0.         0.         0.         0.         0.\n",
            "  0.         0.         0.00784314 0.56470588 0.98823529 1.\n",
            "  0.98823529 0.48627451 0.01568627 0.         0.01176471 0.\n",
            "  0.98823529 1.         1.         1.         1.         0.98823529\n",
            "  1.         1.         0.98039216 0.        ]\n",
            " [0.         0.         0.         0.         0.         0.\n",
            "  0.         0.         0.         0.02352941 0.72941176 0.98431373\n",
            "  1.         1.         0.57647059 0.09803922 0.         0.00392157\n",
            "  1.         0.99607843 1.         0.99607843 0.99215686 1.\n",
            "  0.99607843 1.         0.58431373 0.00784314]\n",
            " [0.         0.         0.         0.         0.         0.\n",
            "  0.         0.         0.         0.00392157 0.02352941 0.71764706\n",
            "  0.99215686 1.         0.99215686 1.         0.99607843 0.99215686\n",
            "  1.         1.         0.98823529 1.         0.         0.01176471\n",
            "  0.         0.         0.         0.        ]\n",
            " [0.         0.         0.         0.         0.         0.\n",
            "  0.         0.         0.         0.         0.         0.03529412\n",
            "  0.69803922 0.98039216 1.         0.99607843 1.         1.\n",
            "  0.98431373 0.99607843 1.         0.99607843 0.00784314 0.\n",
            "  0.         0.         0.         0.        ]\n",
            " [0.         0.         0.         0.         0.         0.\n",
            "  0.         0.         0.01176471 0.         0.00392157 0.00392157\n",
            "  0.         0.30980392 0.83529412 0.99215686 0.98431373 1.\n",
            "  0.99215686 0.99215686 1.         1.         0.         0.00784314\n",
            "  0.         0.         0.         0.        ]\n",
            " [0.         0.         0.         0.         0.         0.\n",
            "  0.         0.         0.         0.00784314 0.00784314 0.00784314\n",
            "  0.00392157 0.         0.         0.         0.01176471 0.00392157\n",
            "  0.00784314 1.         1.         0.99607843 0.         0.00784314\n",
            "  0.         0.         0.         0.        ]\n",
            " [0.         0.         0.         0.         0.         0.\n",
            "  0.         0.         0.         0.00392157 0.         0.\n",
            "  0.00392157 0.         0.00392157 0.01176471 0.         0.00392157\n",
            "  0.         1.         1.         1.         0.00392157 0.\n",
            "  0.         0.         0.         0.        ]\n",
            " [0.         0.         0.         0.         0.         0.\n",
            "  0.         0.         0.00392157 0.01176471 0.01568627 0.\n",
            "  0.         0.         0.         0.         0.02352941 0.\n",
            "  0.         1.         0.98823529 0.98431373 0.00392157 0.00392157\n",
            "  0.         0.         0.         0.        ]\n",
            " [0.         0.         0.         0.         0.         0.\n",
            "  0.         0.         0.         0.         0.         0.01960784\n",
            "  0.         0.         0.         0.01176471 0.         0.02352941\n",
            "  0.         0.99607843 1.         1.         0.         0.\n",
            "  0.         0.         0.         0.        ]\n",
            " [0.         0.         0.         0.         0.         0.\n",
            "  0.         0.         0.         0.01568627 0.01176471 0.\n",
            "  0.         0.00784314 0.         0.         0.00392157 0.\n",
            "  0.         0.96862745 0.99215686 1.         0.         0.\n",
            "  0.         0.         0.         0.        ]\n",
            " [0.         0.         0.         0.         0.         0.\n",
            "  0.         0.         0.         0.         0.         0.\n",
            "  0.         0.         0.         0.         0.         0.01960784\n",
            "  0.00392157 0.4627451  0.98823529 0.60392157 0.         0.\n",
            "  0.         0.         0.         0.        ]\n",
            " [0.         0.         0.         0.         0.         0.\n",
            "  0.         0.         0.         0.         0.         0.\n",
            "  0.         0.         0.         0.         0.         0.\n",
            "  0.         0.01176471 0.         0.         0.00784314 0.00784314\n",
            "  0.         0.         0.         0.        ]\n",
            " [0.         0.         0.         0.         0.         0.\n",
            "  0.         0.         0.         0.         0.         0.\n",
            "  0.         0.         0.         0.         0.00784314 0.00392157\n",
            "  0.         0.00392157 0.00784314 0.         0.         0.00784314\n",
            "  0.         0.         0.         0.        ]\n",
            " [0.         0.         0.         0.         0.         0.\n",
            "  0.         0.         0.         0.         0.         0.\n",
            "  0.         0.         0.         0.         0.         0.\n",
            "  0.         0.         0.         0.00784314 0.01568627 0.\n",
            "  0.         0.         0.         0.        ]]\n"
          ]
        }
      ],
      "source": [
        "from PIL import Image\n",
        "\n",
        "img = Image.open('4.jpg').convert(\"L\")\n",
        "img = np.array(img)\n",
        "img = img / 255.0\n",
        "img = 1 - img\n",
        "print(img)"
      ]
    },
    {
      "cell_type": "code",
      "execution_count": 18,
      "metadata": {},
      "outputs": [
        {
          "name": "stdout",
          "output_type": "stream",
          "text": [
            "예측 결과 : 4\n"
          ]
        },
        {
          "data": {
            "text/plain": [
              "<matplotlib.image.AxesImage at 0x125f9f04790>"
            ]
          },
          "execution_count": 18,
          "metadata": {},
          "output_type": "execute_result"
        },
        {
          "data": {
            "image/png": "[encoded data removed]",
            "text/plain": [
              "<Figure size 432x288 with 1 Axes>"
            ]
          },
          "metadata": {
            "needs_background": "light"
          },
          "output_type": "display_data"
        }
      ],
      "source": [
        "img = np.reshape(img,(-1,28,28,1))\n",
        "\n",
        "\n",
        "output = model(img)  # 데이터를 입력하고 출력을 계산\n",
        "\n",
        "pred = output.numpy()\n",
        "pred = np.reshape(pred,(10))\n",
        "\n",
        "print(\"예측 결과 : \"+str(np.argmax(pred)))\n",
        "\n",
        "plt.imshow(img.reshape(28, 28), cmap='gray')"
      ]
    },
    {
      "cell_type": "code",
      "execution_count": 19,
      "metadata": {},
      "outputs": [
        {
          "name": "stdout",
          "output_type": "stream",
          "text": [
            "<class 'numpy.ndarray'>\n",
            "[7 2 1 ... 4 5 6]\n"
          ]
        }
      ],
      "source": [
        "out = model.predict(X_test)\n",
        "print(type(out))\n",
        "print(np.argmax(out,axis=1))"
      ]
    },
    {
      "cell_type": "code",
      "execution_count": 20,
      "metadata": {},
      "outputs": [
        {
          "name": "stdout",
          "output_type": "stream",
          "text": [
            "0.9919\n"
          ]
        }
      ],
      "source": [
        "result = (np.argmax(out,axis=1) == np.argmax(y_test,axis=1))\n",
        "print(np.count_nonzero(result)/len(result))"
      ]
    }
  ],
  "metadata": {
    "colab": {
      "provenance": []
    },
    "kernelspec": {
      "display_name": "Python 3.8.10 ('test')",
      "language": "python",
      "name": "python3"
    },
    "language_info": {
      "codemirror_mode": {
        "name": "ipython",
        "version": 3
      },
      "file_extension": ".py",
      "mimetype": "text/x-python",
      "name": "python",
      "nbconvert_exporter": "python",
      "pygments_lexer": "ipython3",
      "version": "3.8.10"
    },
    "vscode": {
      "interpreter": {
        "hash": "b45ccf6fd3c8427b2d1b5e880d896f46770117107f616a4b6b7de4d4387dfaf4"
      }
    }
  },
  "nbformat": 4,
  "nbformat_minor": 0
}
