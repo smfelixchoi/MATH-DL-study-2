{
 "cells": [
  {
   "attachments": {},
   "cell_type": "markdown",
   "metadata": {},
   "source": [
    "# Stateful LSTM using PyTorch\n",
    "\n",
    "[References]\n",
    "- [PyTorch Discussion](https://discuss.pytorch.org/t/confusion-regarding-pytorch-lstms-compared-to-keras-stateful-lstm/44502)\n",
    "- [PyTorch LSTM](https://pytorch.org/docs/stable/generated/torch.nn.LSTM.html)"
   ]
  },
  {
   "cell_type": "code",
   "execution_count": 1,
   "metadata": {},
   "outputs": [],
   "source": [
    "import os\n",
    "import numpy as np \n",
    "import matplotlib.pyplot as plt"
   ]
  },
  {
   "cell_type": "markdown",
   "metadata": {},
   "source": [
    "## Load Data"
   ]
  },
  {
   "cell_type": "code",
   "execution_count": 2,
   "metadata": {},
   "outputs": [
    {
     "name": "stdout",
     "output_type": "stream",
     "text": [
      "num_train_samples: 252270\n",
      "num_val_samples: 84090\n",
      "num_test_samples: 84091\n",
      "Number of features: 13\n"
     ]
    }
   ],
   "source": [
    "fname = os.path.join(\"jena_climate_2009_2016.csv\")\n",
    "\n",
    "with open(fname) as f:\n",
    "    data = f.read()\n",
    "\n",
    "lines = data.split('\\n')\n",
    "header = lines[0].split(\",\")\n",
    "lines = lines[1:]\n",
    "\n",
    "\n",
    "temperature = np.zeros((len(lines),))\n",
    "raw_data = np.zeros((len(lines), len(header) - 2))\n",
    "\n",
    "for i, line in enumerate(lines):\n",
    "    values = [float(x) for x in line.split(\",\")[1:]]\n",
    "    temperature[i] = values[1]\n",
    "    raw_data[i, 0] = values[0]\n",
    "    raw_data[i, 1:]= values[2:]\n",
    "\n",
    "num_train_samples = int(0.6 * len(raw_data))\n",
    "num_val_samples = int(0.2 * len(raw_data))\n",
    "num_test_samples = len(raw_data) - num_train_samples - num_val_samples\n",
    "\n",
    "print('num_train_samples:', num_train_samples)\n",
    "print('num_val_samples:', num_val_samples)\n",
    "print('num_test_samples:', num_test_samples)\n",
    "\n",
    "mean = raw_data[:num_train_samples].mean(axis=0)\n",
    "std = raw_data[:num_train_samples].std(axis=0)\n",
    "\n",
    "raw_data -= mean\n",
    "raw_data /= std\n",
    "\n",
    "X, y = raw_data, temperature\n",
    "\n",
    "num_features = X.shape[1]\n",
    "print('Number of features:', num_features)"
   ]
  },
  {
   "attachments": {},
   "cell_type": "markdown",
   "metadata": {},
   "source": [
    "## What is stateful LSTM?"
   ]
  },
  {
   "cell_type": "code",
   "execution_count": 3,
   "metadata": {},
   "outputs": [],
   "source": [
    "import torch\n",
    "from torch import nn\n",
    "from torch import optim\n",
    "from torch.utils.data import Dataset, DataLoader\n",
    "\n",
    "from tqdm import tqdm"
   ]
  },
  {
   "cell_type": "code",
   "execution_count": 4,
   "metadata": {},
   "outputs": [
    {
     "name": "stdout",
     "output_type": "stream",
     "text": [
      "cpu\n",
      "Number of features: 13\n"
     ]
    }
   ],
   "source": [
    "device = torch.device('cuda' if torch.cuda.is_available() else 'cpu')\n",
    "print(device)\n",
    "\n",
    "num_features = X.shape[1]\n",
    "print('Number of features:', num_features)"
   ]
  },
  {
   "attachments": {},
   "cell_type": "markdown",
   "metadata": {},
   "source": [
    "## Data Loader for Stateful-LSTM"
   ]
  },
  {
   "cell_type": "code",
   "execution_count": 5,
   "metadata": {},
   "outputs": [],
   "source": [
    "class SequenceDataset(Dataset):\n",
    "    def __init__(self, X_array, y_array, sampling_rate, sequence_stride, sequence_length, delay):\n",
    "        super(Dataset, self).__init__()\n",
    "\n",
    "        self.sr = sampling_rate\n",
    "        self.seq_stride = sequence_stride\n",
    "        self.seq_len = sequence_length\n",
    "        self.delay = delay\n",
    "        self.X = torch.tensor(X_array).to(torch.float32)\n",
    "        self.y = torch.tensor(y_array).to(torch.float32)\n",
    "\n",
    "    def __len__(self):\n",
    "        return (self.X.size(0) - self.delay)//self.seq_stride\n",
    "\n",
    "    def __getitem__(self, i): \n",
    "        idx = np.arange(i*self.seq_stride, i*self.seq_stride + self.sr*self.seq_len, self.sr)\n",
    "        return self.X[idx], self.y[i*self.seq_stride + self.delay]"
   ]
  },
  {
   "cell_type": "code",
   "execution_count": 6,
   "metadata": {},
   "outputs": [],
   "source": [
    "int_sequence = np.arange(130)\n",
    "dummy_dataset = SequenceDataset(int_sequence, int_sequence,\n",
    "                                sampling_rate=2, sequence_stride=4, sequence_length=6, \n",
    "                                delay=20)\n",
    "dummy_loader = DataLoader(dummy_dataset, batch_size=3, shuffle=False)"
   ]
  },
  {
   "cell_type": "code",
   "execution_count": 7,
   "metadata": {},
   "outputs": [
    {
     "data": {
      "text/plain": [
       "27"
      ]
     },
     "execution_count": 7,
     "metadata": {},
     "output_type": "execute_result"
    }
   ],
   "source": [
    "len(dummy_dataset)"
   ]
  },
  {
   "cell_type": "code",
   "execution_count": 8,
   "metadata": {},
   "outputs": [
    {
     "name": "stdout",
     "output_type": "stream",
     "text": [
      "==========================\n",
      "[0, 2, 4, 6, 8, 10] 20\n",
      "[4, 6, 8, 10, 12, 14] 24\n",
      "[8, 10, 12, 14, 16, 18] 28\n",
      "==========================\n",
      "[12, 14, 16, 18, 20, 22] 32\n",
      "[16, 18, 20, 22, 24, 26] 36\n",
      "[20, 22, 24, 26, 28, 30] 40\n",
      "==========================\n",
      "[24, 26, 28, 30, 32, 34] 44\n",
      "[28, 30, 32, 34, 36, 38] 48\n",
      "[32, 34, 36, 38, 40, 42] 52\n",
      "==========================\n",
      "[36, 38, 40, 42, 44, 46] 56\n",
      "[40, 42, 44, 46, 48, 50] 60\n",
      "[44, 46, 48, 50, 52, 54] 64\n",
      "==========================\n",
      "[48, 50, 52, 54, 56, 58] 68\n",
      "[52, 54, 56, 58, 60, 62] 72\n",
      "[56, 58, 60, 62, 64, 66] 76\n",
      "==========================\n",
      "[60, 62, 64, 66, 68, 70] 80\n",
      "[64, 66, 68, 70, 72, 74] 84\n",
      "[68, 70, 72, 74, 76, 78] 88\n",
      "==========================\n",
      "[72, 74, 76, 78, 80, 82] 92\n",
      "[76, 78, 80, 82, 84, 86] 96\n",
      "[80, 82, 84, 86, 88, 90] 100\n",
      "==========================\n",
      "[84, 86, 88, 90, 92, 94] 104\n",
      "[88, 90, 92, 94, 96, 98] 108\n",
      "[92, 94, 96, 98, 100, 102] 112\n",
      "==========================\n",
      "[96, 98, 100, 102, 104, 106] 116\n",
      "[100, 102, 104, 106, 108, 110] 120\n",
      "[104, 106, 108, 110, 112, 114] 124\n"
     ]
    }
   ],
   "source": [
    "for inputs, targets in dummy_loader:\n",
    "    \n",
    "    '''\n",
    "    inputs shape : (batch_size, sequence_length)\n",
    "    targets shape : (batch_size, )\n",
    "    '''\n",
    "\n",
    "    print(\"==========================\")\n",
    "    \n",
    "    for i in range(inputs.shape[0]):\n",
    "        print([int(x) for x in inputs[i]], int(targets[i]))"
   ]
  },
  {
   "attachments": {},
   "cell_type": "markdown",
   "metadata": {},
   "source": [
    "**To use `stateful=True` mode in LSTM (RNN), you should follow the rules below:**\n",
    "\n",
    "- Do **NOT** shuffle the dataset\n",
    "- `sequence_stride` $\\times$ `batch_size` = `sequence_length` $\\times$ `sampling_rate`\n",
    "- Each batch need to have the same number of samples, i.e., the number of samples needs to divisible by `batch_size`."
   ]
  },
  {
   "cell_type": "code",
   "execution_count": 9,
   "metadata": {},
   "outputs": [
    {
     "name": "stdout",
     "output_type": "stream",
     "text": [
      "Delay:  858\n",
      "Batch Size:  720\n"
     ]
    }
   ],
   "source": [
    "# Observations will be sampled at one data point per hour\n",
    "sampling_rate=6\n",
    "\n",
    "# Observations will go back 5 days (120 hours)\n",
    "sequence_length = 120\n",
    "\n",
    "# The target for a sequence will be the temperature 24 hours after the end of the sequence.\n",
    "delay = sampling_rate * (sequence_length - 1) + sampling_rate*24 \n",
    "print('Delay: ', delay)\n",
    "\n",
    "\n",
    "sequence_stride=1\n",
    "batch_size = sampling_rate*sequence_length\n",
    "print('Batch Size: ', batch_size)"
   ]
  },
  {
   "cell_type": "code",
   "execution_count": 10,
   "metadata": {},
   "outputs": [
    {
     "name": "stdout",
     "output_type": "stream",
     "text": [
      "Reduce the number of train samples:  132\n",
      "Reduce the number of valid samples:  432\n",
      "Reduce the number of test  samples:  433\n"
     ]
    }
   ],
   "source": [
    "# Adjusting the number of train/validation/test samples\n",
    "\n",
    "print('Reduce the number of train samples: ', (num_train_samples-delay)%720)\n",
    "print('Reduce the number of valid samples: ', (num_val_samples-delay)%720)\n",
    "print('Reduce the number of test  samples: ', (num_test_samples-delay)%720)"
   ]
  },
  {
   "cell_type": "code",
   "execution_count": 11,
   "metadata": {},
   "outputs": [],
   "source": [
    "train_dataset = SequenceDataset(X[:num_train_samples-132], \n",
    "                                y[:num_train_samples-132], \n",
    "                                sampling_rate=sampling_rate, \n",
    "                                sequence_stride=1,\n",
    "                                sequence_length=sequence_length,\n",
    "                                delay = delay)\n",
    "\n",
    "valid_dataset = SequenceDataset(X[num_train_samples:num_train_samples+num_val_samples-432], \n",
    "                                y[num_train_samples:num_train_samples+num_val_samples-432], \n",
    "                                sampling_rate=sampling_rate, \n",
    "                                sequence_stride=1,\n",
    "                                sequence_length=sequence_length,\n",
    "                                delay = delay)\n",
    "\n",
    "test_dataset = SequenceDataset(X[num_train_samples+num_val_samples:num_train_samples+num_val_samples+num_test_samples-433],\n",
    "                               y[num_train_samples+num_val_samples:num_train_samples+num_val_samples+num_test_samples-433], \n",
    "                               sampling_rate=sampling_rate, \n",
    "                               sequence_stride=1,\n",
    "                               sequence_length=sequence_length,\n",
    "                               delay = delay)\n"
   ]
  },
  {
   "cell_type": "code",
   "execution_count": 12,
   "metadata": {},
   "outputs": [],
   "source": [
    "train_loader = DataLoader(train_dataset, batch_size=batch_size, shuffle=False)\n",
    "valid_loader = DataLoader(valid_dataset, batch_size=batch_size, shuffle=False)\n",
    "test_loader = DataLoader(test_dataset, batch_size=batch_size, shuffle=False)"
   ]
  },
  {
   "cell_type": "code",
   "execution_count": 13,
   "metadata": {},
   "outputs": [
    {
     "name": "stdout",
     "output_type": "stream",
     "text": [
      "samples shape: torch.Size([720, 120, 13])\n",
      "targets shape: torch.Size([720])\n"
     ]
    }
   ],
   "source": [
    "for samples, targets in test_loader:\n",
    "    print('samples shape:', samples.shape)\n",
    "    print('targets shape:', targets.shape)\n",
    "    break"
   ]
  },
  {
   "attachments": {},
   "cell_type": "markdown",
   "metadata": {},
   "source": [
    "## Stateful LSTM model\n",
    "\n",
    "- Using PyTorch, we store the hidden/cell state vectors from the previous batch. Then we use the vectors as the initial hidden/cell state vectors in the next batch.\n",
    "- `train` and `test` functions should be changed from those for the original LSTM models."
   ]
  },
  {
   "cell_type": "code",
   "execution_count": 14,
   "metadata": {},
   "outputs": [],
   "source": [
    "class stateful_LSTM_model(nn.Module):\n",
    "    def __init__(self, input_size, hidden_size):\n",
    "        super(stateful_LSTM_model, self).__init__()\n",
    "\n",
    "        self.hidden_size = hidden_size\n",
    "\n",
    "        self.lstm = nn.LSTM(\n",
    "            input_size  = input_size,\n",
    "            hidden_size = hidden_size,\n",
    "            num_layers  = 1,              # The number of stacked RNN layers\n",
    "            batch_first = True            # Default: False\n",
    "        )\n",
    "\n",
    "        self.linear = nn.Linear(\n",
    "            in_features = hidden_size, \n",
    "            out_features=1, \n",
    "            bias=True\n",
    "        )\n",
    "\n",
    "    def forward(self, x):\n",
    "        output, (h_n, c_n) = self.lstm(x)\n",
    "        \n",
    "        '''\n",
    "        output size : (batch_size, sequence_length, num_layers * hidden_size)\n",
    "        -> hidden state vectors (NOT CELL STATE VECTORS) for each time step, for each layer.\n",
    "\n",
    "        h_n : (num_layers, batch_size, hidden_size) \n",
    "        c_n : (num_layers, batch_size, hidden_size)\n",
    "        '''\n",
    "        \n",
    "        x = h_n.squeeze(0)\n",
    "        \n",
    "        '''\n",
    "        Reshape to (batch_size, hidden_size) : an appropriate shape for a linear layer input\n",
    "        '''\n",
    "        \n",
    "        x = self.linear(x)\n",
    "\n",
    "        return x, h_n, c_n"
   ]
  },
  {
   "cell_type": "code",
   "execution_count": 15,
   "metadata": {},
   "outputs": [],
   "source": [
    "hidden_size=16\n",
    "model = stateful_LSTM_model(input_size=num_features, hidden_size=hidden_size).to(device)\n",
    "criterion = nn.MSELoss()\n",
    "optimizer = optim.Adam(model.parameters(), lr=1e-3)\n",
    "EPOCHS = 15"
   ]
  },
  {
   "cell_type": "code",
   "execution_count": 16,
   "metadata": {},
   "outputs": [],
   "source": [
    "def train(model, trainloader, validloader, criterion, optimizer, epoch, device):\n",
    "    \n",
    "    losses = []\n",
    "    val_losses = []\n",
    "    model.to(device)\n",
    "    model.train()\n",
    "\n",
    "    for i in range(1, epoch+1):\n",
    "        count = 0\n",
    "        train_loss = 0\n",
    "        \n",
    "        for X, y in tqdm(trainloader):\n",
    "            X = X.to(device)\n",
    "            y = y.to(device)\n",
    "\n",
    "            output, h_n, c_n = model(X)\n",
    "            loss = criterion(output.squeeze(1), y)\n",
    "\n",
    "            optimizer.zero_grad()\n",
    "            loss.backward()\n",
    "            optimizer.step()\n",
    "\n",
    "            train_loss += loss.item()\n",
    "            count += 1\n",
    "\n",
    "        train_loss /= count\n",
    "        losses.append(train_loss)\n",
    "\n",
    "        count = 0\n",
    "        valid_loss = 0\n",
    "        with torch.no_grad():\n",
    "            for X, y in validloader:\n",
    "                X = X.to(device)\n",
    "                y = y.to(device)\n",
    "\n",
    "                output, h_n, c_n = model(X)\n",
    "                loss = criterion(output.view(-1), y)\n",
    "                valid_loss += loss.item()\n",
    "                count += 1\n",
    "            \n",
    "        valid_loss /= count\n",
    "        val_losses.append(valid_loss)\n",
    "\n",
    "        print('EPOCH %d Completed. \\n Training Loss: %.3f, Validation Loss: %.3f \\n' \n",
    "              %(i, train_loss, valid_loss))\n",
    "\n",
    "    return losses, val_losses"
   ]
  },
  {
   "cell_type": "code",
   "execution_count": 17,
   "metadata": {},
   "outputs": [],
   "source": [
    "def test(model, evalloader, criterion, device):\n",
    "    eval_loss = 0\n",
    "    count = 0\n",
    "    model.eval()\n",
    "    predictions = np.empty([0])\n",
    "\n",
    "    with torch.no_grad():\n",
    "        for X, y in evalloader:\n",
    "            X = X.to(device)\n",
    "            y = y.to(device)\n",
    "\n",
    "            output, h_n, c_n = model(X)\n",
    "            predictions = np.append(predictions, output.view(-1).numpy())\n",
    "\n",
    "            loss = criterion(output.view(-1), y)\n",
    "            eval_loss += loss.item()\n",
    "            count += 1\n",
    "        \n",
    "    eval_loss /= count\n",
    "    \n",
    "    return predictions, eval_loss"
   ]
  },
  {
   "cell_type": "code",
   "execution_count": 18,
   "metadata": {},
   "outputs": [
    {
     "name": "stderr",
     "output_type": "stream",
     "text": [
      "100%|██████████| 349/349 [01:03<00:00,  5.51it/s]\n"
     ]
    },
    {
     "name": "stdout",
     "output_type": "stream",
     "text": [
      "EPOCH 1 Completed. \n",
      " Training Loss: 108.381, Validation Loss: 47.076 \n",
      "\n"
     ]
    },
    {
     "name": "stderr",
     "output_type": "stream",
     "text": [
      "100%|██████████| 349/349 [01:02<00:00,  5.56it/s]\n"
     ]
    },
    {
     "name": "stdout",
     "output_type": "stream",
     "text": [
      "EPOCH 2 Completed. \n",
      " Training Loss: 48.888, Validation Loss: 27.626 \n",
      "\n"
     ]
    },
    {
     "name": "stderr",
     "output_type": "stream",
     "text": [
      "100%|██████████| 349/349 [01:00<00:00,  5.75it/s]\n"
     ]
    },
    {
     "name": "stdout",
     "output_type": "stream",
     "text": [
      "EPOCH 3 Completed. \n",
      " Training Loss: 31.256, Validation Loss: 19.363 \n",
      "\n"
     ]
    },
    {
     "name": "stderr",
     "output_type": "stream",
     "text": [
      "100%|██████████| 349/349 [00:54<00:00,  6.42it/s]\n"
     ]
    },
    {
     "name": "stdout",
     "output_type": "stream",
     "text": [
      "EPOCH 4 Completed. \n",
      " Training Loss: 22.582, Validation Loss: 15.404 \n",
      "\n"
     ]
    },
    {
     "name": "stderr",
     "output_type": "stream",
     "text": [
      "100%|██████████| 349/349 [00:54<00:00,  6.42it/s]\n"
     ]
    },
    {
     "name": "stdout",
     "output_type": "stream",
     "text": [
      "EPOCH 5 Completed. \n",
      " Training Loss: 17.983, Validation Loss: 13.329 \n",
      "\n"
     ]
    },
    {
     "name": "stderr",
     "output_type": "stream",
     "text": [
      "100%|██████████| 349/349 [00:54<00:00,  6.45it/s]\n"
     ]
    },
    {
     "name": "stdout",
     "output_type": "stream",
     "text": [
      "EPOCH 6 Completed. \n",
      " Training Loss: 15.312, Validation Loss: 12.233 \n",
      "\n"
     ]
    },
    {
     "name": "stderr",
     "output_type": "stream",
     "text": [
      "100%|██████████| 349/349 [00:53<00:00,  6.53it/s]\n"
     ]
    },
    {
     "name": "stdout",
     "output_type": "stream",
     "text": [
      "EPOCH 7 Completed. \n",
      " Training Loss: 13.708, Validation Loss: 11.545 \n",
      "\n"
     ]
    },
    {
     "name": "stderr",
     "output_type": "stream",
     "text": [
      "100%|██████████| 349/349 [00:53<00:00,  6.47it/s]\n"
     ]
    },
    {
     "name": "stdout",
     "output_type": "stream",
     "text": [
      "EPOCH 8 Completed. \n",
      " Training Loss: 12.764, Validation Loss: 11.095 \n",
      "\n"
     ]
    },
    {
     "name": "stderr",
     "output_type": "stream",
     "text": [
      "100%|██████████| 349/349 [00:54<00:00,  6.43it/s]\n"
     ]
    },
    {
     "name": "stdout",
     "output_type": "stream",
     "text": [
      "EPOCH 9 Completed. \n",
      " Training Loss: 12.112, Validation Loss: 10.778 \n",
      "\n"
     ]
    },
    {
     "name": "stderr",
     "output_type": "stream",
     "text": [
      "100%|██████████| 349/349 [00:53<00:00,  6.49it/s]\n"
     ]
    },
    {
     "name": "stdout",
     "output_type": "stream",
     "text": [
      "EPOCH 10 Completed. \n",
      " Training Loss: 11.680, Validation Loss: 10.548 \n",
      "\n"
     ]
    },
    {
     "name": "stderr",
     "output_type": "stream",
     "text": [
      "100%|██████████| 349/349 [00:53<00:00,  6.47it/s]\n"
     ]
    },
    {
     "name": "stdout",
     "output_type": "stream",
     "text": [
      "EPOCH 11 Completed. \n",
      " Training Loss: 11.374, Validation Loss: 10.360 \n",
      "\n"
     ]
    },
    {
     "name": "stderr",
     "output_type": "stream",
     "text": [
      "100%|██████████| 349/349 [00:53<00:00,  6.47it/s]\n"
     ]
    },
    {
     "name": "stdout",
     "output_type": "stream",
     "text": [
      "EPOCH 12 Completed. \n",
      " Training Loss: 11.119, Validation Loss: 10.257 \n",
      "\n"
     ]
    },
    {
     "name": "stderr",
     "output_type": "stream",
     "text": [
      "100%|██████████| 349/349 [00:53<00:00,  6.57it/s]\n"
     ]
    },
    {
     "name": "stdout",
     "output_type": "stream",
     "text": [
      "EPOCH 13 Completed. \n",
      " Training Loss: 10.960, Validation Loss: 10.153 \n",
      "\n"
     ]
    },
    {
     "name": "stderr",
     "output_type": "stream",
     "text": [
      "100%|██████████| 349/349 [00:52<00:00,  6.62it/s]\n"
     ]
    },
    {
     "name": "stdout",
     "output_type": "stream",
     "text": [
      "EPOCH 14 Completed. \n",
      " Training Loss: 10.823, Validation Loss: 10.097 \n",
      "\n"
     ]
    },
    {
     "name": "stderr",
     "output_type": "stream",
     "text": [
      "100%|██████████| 349/349 [00:52<00:00,  6.59it/s]\n"
     ]
    },
    {
     "name": "stdout",
     "output_type": "stream",
     "text": [
      "EPOCH 15 Completed. \n",
      " Training Loss: 10.721, Validation Loss: 10.053 \n",
      "\n"
     ]
    }
   ],
   "source": [
    "train_loss, val_loss = train(model, train_loader, valid_loader, criterion, optimizer, EPOCHS, device)"
   ]
  },
  {
   "cell_type": "code",
   "execution_count": 19,
   "metadata": {},
   "outputs": [],
   "source": [
    "predictions, eval_loss = test(model, test_loader, criterion, device)"
   ]
  },
  {
   "cell_type": "code",
   "execution_count": 20,
   "metadata": {},
   "outputs": [
    {
     "name": "stdout",
     "output_type": "stream",
     "text": [
      "82800\n"
     ]
    }
   ],
   "source": [
    "test_targets = np.empty([0])\n",
    "\n",
    "for X, y in test_loader:\n",
    "    test_targets = np.append(test_targets, y.numpy())\n",
    "\n",
    "test_num = test_targets.shape[0]\n",
    "print(test_num)"
   ]
  },
  {
   "cell_type": "code",
   "execution_count": 21,
   "metadata": {},
   "outputs": [
    {
     "data": {
      "image/png": "[encoded data removed]",
      "text/plain": [
       "<Figure size 640x480 with 1 Axes>"
      ]
     },
     "metadata": {},
     "output_type": "display_data"
    }
   ],
   "source": [
    "x = np.arange(test_num)\n",
    "plt.plot(x, test_targets, label = 'target values', color='b')\n",
    "plt.plot(x, predictions, label = 'predictions', color='r')\n",
    "plt.title('Stateful LSTM prediction')\n",
    "plt.legend()\n",
    "plt.show()"
   ]
  },
  {
   "cell_type": "code",
   "execution_count": 22,
   "metadata": {},
   "outputs": [
    {
     "data": {
      "image/png": "[encoded data removed]",
      "text/plain": [
       "<Figure size 640x480 with 1 Axes>"
      ]
     },
     "metadata": {},
     "output_type": "display_data"
    }
   ],
   "source": [
    "x = np.arange(1440)\n",
    "plt.plot(x, test_targets[:1440], label = 'target values', color='b')\n",
    "plt.plot(x, predictions[:1440], label = 'predictions', color='r')\n",
    "plt.title('Stateful LSTM prediction')\n",
    "plt.legend()\n",
    "plt.show()"
   ]
  },
  {
   "attachments": {},
   "cell_type": "markdown",
   "metadata": {},
   "source": [
    "## Future Works\n",
    "\n",
    "Compare between stateful LSTM with `shorter sequence length` and that with `longer sequence length`."
   ]
  },
  {
   "cell_type": "markdown",
   "metadata": {},
   "source": []
  }
 ],
 "metadata": {
  "kernelspec": {
   "display_name": "mathdl",
   "language": "python",
   "name": "python3"
  },
  "language_info": {
   "codemirror_mode": {
    "name": "ipython",
    "version": 3
   },
   "file_extension": ".py",
   "mimetype": "text/x-python",
   "name": "python",
   "nbconvert_exporter": "python",
   "pygments_lexer": "ipython3",
   "version": "3.8.13"
  },
  "orig_nbformat": 4,
  "vscode": {
   "interpreter": {
    "hash": "9e59e1ea385b879f446154c61f2f6127b4872fff981994bd2fbd456f7f8f6770"
   }
  }
 },
 "nbformat": 4,
 "nbformat_minor": 2
}
