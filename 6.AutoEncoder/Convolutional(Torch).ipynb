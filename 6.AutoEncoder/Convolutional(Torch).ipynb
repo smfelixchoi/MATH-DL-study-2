{
  "cells": [
    {
      "cell_type": "markdown",
      "metadata": {
        "id": "kzRYfYVzzW68"
      },
      "source": [
        "Package\n",
        "======"
      ]
    },
    {
      "cell_type": "code",
      "execution_count": 1,
      "metadata": {
        "id": "kY8jQp_izW6-"
      },
      "outputs": [],
      "source": [
        "import torch\n",
        "import torchvision\n",
        "import torch.nn.functional as F\n",
        "from torch import nn, optim\n",
        "from torchvision import transforms, datasets\n",
        "from torchsummary import summary as summary_\n",
        "import matplotlib.pyplot as plt\n",
        "import numpy as np\n",
        "from PIL import Image"
      ]
    },
    {
      "cell_type": "code",
      "execution_count": 2,
      "metadata": {
        "colab": {
          "base_uri": "https://localhost:8080/"
        },
        "id": "pJkyKXW-zW6_",
        "outputId": "9c89ad86-06d9-4647-aa8b-9744df0ff59e"
      },
      "outputs": [
        {
          "output_type": "stream",
          "name": "stdout",
          "text": [
            "Using Device: cuda\n"
          ]
        }
      ],
      "source": [
        "USE_CUDA = torch.cuda.is_available()\n",
        "DEVICE = torch.device(\"cuda\" if USE_CUDA else \"cpu\")\n",
        "print(\"Using Device:\", DEVICE)"
      ]
    },
    {
      "cell_type": "code",
      "execution_count": 3,
      "metadata": {
        "id": "gPm7Btk-zW6_"
      },
      "outputs": [],
      "source": [
        "EPOCH = 30\n",
        "BATCH_SIZE = 100\n",
        "NUM_WORKERS = 2\n",
        "learning_rate = 0.005"
      ]
    },
    {
      "cell_type": "code",
      "execution_count": 4,
      "metadata": {
        "colab": {
          "base_uri": "https://localhost:8080/"
        },
        "id": "xl4eiKWbzW6_",
        "outputId": "62bb5a57-d9fd-4080-c666-300fe25ccc2d"
      },
      "outputs": [
        {
          "output_type": "stream",
          "name": "stdout",
          "text": [
            "Files already downloaded and verified\n",
            "Files already downloaded and verified\n"
          ]
        }
      ],
      "source": [
        "# Fashion MNIST 데이터셋 불러오기\n",
        "trainset = datasets.CIFAR10(\n",
        "    root      = './.data/',\n",
        "    train     = True,\n",
        "    download  = True,\n",
        "    transform = transforms.ToTensor()\n",
        ")\n",
        "\n",
        "testset = datasets.CIFAR10(\n",
        "    root      = './.data/',\n",
        "    train     = False,\n",
        "    download  = True,\n",
        "    transform = transforms.ToTensor()\n",
        ")\n",
        "\n",
        "train_loader = torch.utils.data.DataLoader(\n",
        "    dataset     = trainset,\n",
        "    batch_size  = BATCH_SIZE,\n",
        "    shuffle     = True,\n",
        "    num_workers = NUM_WORKERS\n",
        ")\n",
        "\n",
        "test_loader = torch.utils.data.DataLoader(\n",
        "    dataset     = testset,\n",
        "    batch_size  = BATCH_SIZE,\n",
        "    shuffle     = False,\n",
        "    num_workers = NUM_WORKERS\n",
        ")"
      ]
    },
    {
      "cell_type": "code",
      "execution_count": 5,
      "metadata": {
        "id": "ocfW7FXEzW7A"
      },
      "outputs": [],
      "source": [
        "# 오토인코더 모듈 정의\n",
        "class Autoencoder(nn.Module):\n",
        "    def __init__(self):\n",
        "        super(Autoencoder, self).__init__()\n",
        "\n",
        "        self.encoder = nn.Sequential( # nn.Sequential을 사용해 encoder와 decoder 두 모듈로 묶어줍니다.\n",
        "            nn.Conv2d(in_channels=3, out_channels=16, kernel_size=3, padding=1, padding_mode='zeros'),\n",
        "            nn.ReLU(),\n",
        "            nn.MaxPool2d(kernel_size=2),\n",
        "            nn.Conv2d(in_channels=16, out_channels=32, kernel_size=3, padding=1, padding_mode='zeros'),\n",
        "            nn.ReLU(),\n",
        "            nn.MaxPool2d(kernel_size=2),\n",
        "            nn.Conv2d(in_channels=32, out_channels=32, kernel_size=3, padding=1, padding_mode='zeros'),\n",
        "            nn.ReLU(),\n",
        "            nn.MaxPool2d(kernel_size=2),\n",
        "\n",
        "        )\n",
        "        self.decoder = nn.Sequential(\n",
        "\n",
        "            nn.ConvTranspose2d(in_channels=32, out_channels=32, kernel_size=2, stride=2),\n",
        "            nn.ReLU(),\n",
        "            nn.ConvTranspose2d(in_channels=32, out_channels=16, kernel_size=2, stride=2),\n",
        "            nn.ReLU(),\n",
        "            nn.ConvTranspose2d(in_channels=16, out_channels=3, kernel_size=2, stride=2),\n",
        "            nn.ReLU()\n",
        "        )\n",
        "\n",
        "    def forward(self, x):\n",
        "        encoded = self.encoder(x) # encoder는 encoded라는 latent vector를 만들고\n",
        "        decoded = self.decoder(encoded) # decoder를 통해 decoded라는 복원이미지를 만듭니다.\n",
        "        return encoded, decoded"
      ]
    },
    {
      "cell_type": "code",
      "execution_count": 6,
      "metadata": {
        "id": "qXnXT1bxzW7A"
      },
      "outputs": [],
      "source": [
        "autoencoder = Autoencoder().to(DEVICE)\n",
        "optimizer = torch.optim.Adam(autoencoder.parameters(), lr=learning_rate)\n",
        "criterion = nn.MSELoss()"
      ]
    },
    {
      "cell_type": "code",
      "execution_count": 7,
      "metadata": {
        "colab": {
          "base_uri": "https://localhost:8080/"
        },
        "id": "OsgZPAmJzW7A",
        "outputId": "1cf87a7c-328c-47ac-dcb9-eaccede14551"
      },
      "outputs": [
        {
          "output_type": "stream",
          "name": "stdout",
          "text": [
            "----------------------------------------------------------------\n",
            "        Layer (type)               Output Shape         Param #\n",
            "================================================================\n",
            "            Conv2d-1          [100, 16, 32, 32]             448\n",
            "              ReLU-2          [100, 16, 32, 32]               0\n",
            "         MaxPool2d-3          [100, 16, 16, 16]               0\n",
            "            Conv2d-4          [100, 32, 16, 16]           4,640\n",
            "              ReLU-5          [100, 32, 16, 16]               0\n",
            "         MaxPool2d-6            [100, 32, 8, 8]               0\n",
            "            Conv2d-7            [100, 32, 8, 8]           9,248\n",
            "              ReLU-8            [100, 32, 8, 8]               0\n",
            "         MaxPool2d-9            [100, 32, 4, 4]               0\n",
            "================================================================\n",
            "Total params: 14,336\n",
            "Trainable params: 14,336\n",
            "Non-trainable params: 0\n",
            "----------------------------------------------------------------\n",
            "Input size (MB): 1.17\n",
            "Forward/backward pass size (MB): 45.70\n",
            "Params size (MB): 0.05\n",
            "Estimated Total Size (MB): 46.93\n",
            "----------------------------------------------------------------\n"
          ]
        }
      ],
      "source": [
        "summary_(autoencoder.encoder, (3,32,32), batch_size=BATCH_SIZE)"
      ]
    },
    {
      "cell_type": "code",
      "execution_count": 8,
      "metadata": {
        "colab": {
          "base_uri": "https://localhost:8080/"
        },
        "id": "Dr8fwrXEzW7B",
        "outputId": "776d4060-3b53-49f1-ff01-1db532230330"
      },
      "outputs": [
        {
          "output_type": "stream",
          "name": "stdout",
          "text": [
            "----------------------------------------------------------------\n",
            "        Layer (type)               Output Shape         Param #\n",
            "================================================================\n",
            "   ConvTranspose2d-1            [100, 32, 8, 8]           4,128\n",
            "              ReLU-2            [100, 32, 8, 8]               0\n",
            "   ConvTranspose2d-3          [100, 16, 16, 16]           2,064\n",
            "              ReLU-4          [100, 16, 16, 16]               0\n",
            "   ConvTranspose2d-5           [100, 3, 32, 32]             195\n",
            "              ReLU-6           [100, 3, 32, 32]               0\n",
            "================================================================\n",
            "Total params: 6,387\n",
            "Trainable params: 6,387\n",
            "Non-trainable params: 0\n",
            "----------------------------------------------------------------\n",
            "Input size (MB): 0.20\n",
            "Forward/backward pass size (MB): 14.06\n",
            "Params size (MB): 0.02\n",
            "Estimated Total Size (MB): 14.28\n",
            "----------------------------------------------------------------\n"
          ]
        }
      ],
      "source": [
        "summary_(autoencoder.decoder, (32,4,4), batch_size=BATCH_SIZE)"
      ]
    },
    {
      "cell_type": "code",
      "source": [
        "view_data = testset.data[:10]\n",
        "print(view_data.shape)\n",
        "view_data = np.transpose(view_data,(0,3,1,2))\n",
        "print(view_data.shape)\n",
        "view_data = torch.tensor(view_data)\n",
        "view_data = view_data.type(torch.FloatTensor)/255."
      ],
      "metadata": {
        "colab": {
          "base_uri": "https://localhost:8080/"
        },
        "id": "5mlNCeGL03WU",
        "outputId": "7bc613c0-1019-434c-fcd9-2d6732ae5393"
      },
      "execution_count": 9,
      "outputs": [
        {
          "output_type": "stream",
          "name": "stdout",
          "text": [
            "(10, 32, 32, 3)\n",
            "(10, 3, 32, 32)\n"
          ]
        }
      ]
    },
    {
      "cell_type": "code",
      "execution_count": 10,
      "metadata": {
        "id": "cJLYYZ3HzW7B"
      },
      "outputs": [],
      "source": [
        "# 학습하기 위한 함수\n",
        "def train(autoencoder, train_loader):\n",
        "    autoencoder.train()\n",
        "    total_loss=0\n",
        "    for step, (x, label) in enumerate(train_loader):\n",
        "        x = x.view(-1, 3, 32, 32).to(DEVICE)\n",
        "        y = x.view(-1, 3, 32, 32).to(DEVICE)\n",
        "        label = label.to(DEVICE)\n",
        "\n",
        "        encoded, decoded = autoencoder(x)\n",
        "\n",
        "        loss = criterion(decoded, y)\n",
        "        total_loss = total_loss + loss\n",
        "        optimizer.zero_grad() #기울기에 대한 정보를 초기화합니다.\n",
        "        loss.backward() # 기울기를 구합니다.\n",
        "        optimizer.step() #최적화를 진행합니다.\n",
        "\n",
        "    total_loss = total_loss.item()\n",
        "    print(\"total train loss:\" + str(total_loss))\n",
        "\n",
        "    return total_loss"
      ]
    },
    {
      "cell_type": "code",
      "execution_count": 11,
      "metadata": {
        "id": "ul8KymzvzW7B"
      },
      "outputs": [],
      "source": [
        "def test(autoencoder, test_loader):\n",
        "    autoencoder.eval()\n",
        "    total_loss=0\n",
        "    for step, (x, label) in enumerate(test_loader):\n",
        "        x = x.view(-1, 3, 32, 32).to(DEVICE)\n",
        "        y = x.view(-1, 3, 32, 32).to(DEVICE)\n",
        "        label = label.to(DEVICE)\n",
        "\n",
        "        encoded, decoded = autoencoder(x)\n",
        "\n",
        "        loss = criterion(decoded, y)\n",
        "        total_loss = total_loss + loss\n",
        "\n",
        "\n",
        "    total_loss = total_loss.item()\n",
        "    print(\"total test loss:\" + str(total_loss))\n",
        "\n",
        "    return total_loss"
      ]
    },
    {
      "cell_type": "code",
      "execution_count": 12,
      "metadata": {
        "colab": {
          "base_uri": "https://localhost:8080/"
        },
        "id": "h7g71N_FzW7B",
        "outputId": "c896fa4b-6918-46aa-b5a5-2594c4aae888"
      },
      "outputs": [
        {
          "output_type": "stream",
          "name": "stdout",
          "text": [
            "total train loss:10.35484790802002\n",
            "total test loss:1.225557565689087\n",
            "[Epoch 1]\n",
            "total train loss:5.669760227203369\n",
            "total test loss:1.0524693727493286\n",
            "[Epoch 2]\n",
            "total train loss:5.16528844833374\n",
            "total test loss:1.023544430732727\n",
            "[Epoch 3]\n",
            "total train loss:4.903531551361084\n",
            "total test loss:0.9592103362083435\n",
            "[Epoch 4]\n",
            "total train loss:4.728041648864746\n",
            "total test loss:0.913831889629364\n",
            "[Epoch 5]\n",
            "total train loss:4.582067966461182\n",
            "total test loss:0.8924503326416016\n",
            "[Epoch 6]\n",
            "total train loss:4.350403308868408\n",
            "total test loss:0.86122727394104\n",
            "[Epoch 7]\n",
            "total train loss:4.212668418884277\n",
            "total test loss:0.8269397020339966\n",
            "[Epoch 8]\n",
            "total train loss:4.148087024688721\n",
            "total test loss:0.8067678213119507\n",
            "[Epoch 9]\n",
            "total train loss:4.09751558303833\n",
            "total test loss:0.798702597618103\n",
            "[Epoch 10]\n",
            "total train loss:4.038583278656006\n",
            "total test loss:0.7963980436325073\n",
            "[Epoch 11]\n",
            "total train loss:4.0132880210876465\n",
            "total test loss:0.789715588092804\n",
            "[Epoch 12]\n",
            "total train loss:3.9717519283294678\n",
            "total test loss:0.7896316647529602\n",
            "[Epoch 13]\n",
            "total train loss:3.947601318359375\n",
            "total test loss:0.7800315022468567\n",
            "[Epoch 14]\n",
            "total train loss:3.9236888885498047\n",
            "total test loss:0.7692070007324219\n",
            "[Epoch 15]\n",
            "total train loss:3.897390365600586\n",
            "total test loss:0.7732576727867126\n",
            "[Epoch 16]\n",
            "total train loss:3.8811581134796143\n",
            "total test loss:0.7658106088638306\n",
            "[Epoch 17]\n",
            "total train loss:3.846522808074951\n",
            "total test loss:0.991104781627655\n",
            "[Epoch 18]\n",
            "total train loss:3.8428685665130615\n",
            "total test loss:0.7575739026069641\n",
            "[Epoch 19]\n",
            "total train loss:3.816746711730957\n",
            "total test loss:0.7563183307647705\n",
            "[Epoch 20]\n",
            "total train loss:3.809276819229126\n",
            "total test loss:0.7488294839859009\n",
            "[Epoch 21]\n",
            "total train loss:3.7896909713745117\n",
            "total test loss:0.7983378767967224\n",
            "[Epoch 22]\n",
            "total train loss:3.7790825366973877\n",
            "total test loss:0.7853776216506958\n",
            "[Epoch 23]\n",
            "total train loss:3.7681753635406494\n",
            "total test loss:0.7526150345802307\n",
            "[Epoch 24]\n",
            "total train loss:3.7511496543884277\n",
            "total test loss:0.8094547390937805\n",
            "[Epoch 25]\n",
            "total train loss:3.742673397064209\n",
            "total test loss:0.7338427305221558\n",
            "[Epoch 26]\n",
            "total train loss:3.729706048965454\n",
            "total test loss:0.731651782989502\n",
            "[Epoch 27]\n",
            "total train loss:3.7277450561523438\n",
            "total test loss:0.7390794157981873\n",
            "[Epoch 28]\n",
            "total train loss:3.7076175212860107\n",
            "total test loss:0.7402806878089905\n",
            "[Epoch 29]\n",
            "total train loss:3.7087295055389404\n",
            "total test loss:0.7244781851768494\n",
            "[Epoch 30]\n"
          ]
        }
      ],
      "source": [
        "train_losses=[]\n",
        "test_losses=[]\n",
        "#학습하기\n",
        "for epoch in range(1, EPOCH+1):\n",
        "    loss_epoch = train(autoencoder, train_loader)\n",
        "    train_losses.append(loss_epoch)\n",
        "\n",
        "    loss_epoch = test(autoencoder, test_loader)\n",
        "    test_losses.append(loss_epoch)\n",
        "    test_x = view_data.to(DEVICE)\n",
        "    _, decoded_data = autoencoder(test_x)\n",
        "\n",
        "    # 원본과 디코딩 결과 비교해보기\n",
        "    print(\"[Epoch {}]\".format(epoch))\n"
      ]
    },
    {
      "cell_type": "code",
      "execution_count": 13,
      "metadata": {
        "colab": {
          "base_uri": "https://localhost:8080/",
          "height": 430
        },
        "id": "G6Z4GYM8zW7B",
        "outputId": "df1e85e2-be76-4168-b2be-ac75e7a189c8"
      },
      "outputs": [
        {
          "output_type": "display_data",
          "data": {
            "text/plain": [
              "<Figure size 640x480 with 2 Axes>"
            ],
            "image/png": "[encoded data removed]"
          },
          "metadata": {}
        }
      ],
      "source": [
        "x = range(1,EPOCH+1)\n",
        "fig, ax1 = plt.subplots()\n",
        "ax2 = ax1.twinx()\n",
        "ax1.plot(x, train_losses, 'g-')\n",
        "ax2.plot(x, test_losses, 'b-')\n",
        "ax1.set_ylabel('train_loss', color='g')\n",
        "ax2.set_ylabel('test_loss', color='b')\n",
        "plt.show()\n"
      ]
    },
    {
      "cell_type": "code",
      "source": [
        "idx = 915\n",
        "view_data = testset.data[idx]\n",
        "print(view_data.shape)\n",
        "view_data = np.transpose(view_data,(2,0,1))\n",
        "print(view_data.shape)\n",
        "view_data = torch.tensor(view_data)\n",
        "view_data = view_data.type(torch.FloatTensor)/255.\n",
        "view_data = view_data.to(DEVICE)\n",
        "_, decoded_data = autoencoder(view_data)\n",
        "decoded_data = decoded_data.to(\"cpu\")\n",
        "out = decoded_data.detach().numpy()\n",
        "out = np.transpose(out,(1,2,0))\n",
        "out = out*255\n",
        "final_out = out.astype(np.uint8)\n",
        "PIL_image1 = Image.fromarray(np.uint8(testset.data[idx])).convert('RGB')\n",
        "PIL_image2 = Image.fromarray(np.uint8(final_out)).convert('RGB')\n"
      ],
      "metadata": {
        "colab": {
          "base_uri": "https://localhost:8080/"
        },
        "id": "h9emTlKx3tHk",
        "outputId": "2c2060fe-2c50-40d4-dc81-93d72b65dcde"
      },
      "execution_count": 14,
      "outputs": [
        {
          "output_type": "stream",
          "name": "stdout",
          "text": [
            "(32, 32, 3)\n",
            "(3, 32, 32)\n"
          ]
        }
      ]
    },
    {
      "cell_type": "code",
      "source": [
        "PIL_image1"
      ],
      "metadata": {
        "colab": {
          "base_uri": "https://localhost:8080/",
          "height": 49
        },
        "id": "6dUypDVC4bl1",
        "outputId": "a6239f8b-c25a-4b55-e102-e797f1fa8f51"
      },
      "execution_count": 15,
      "outputs": [
        {
          "output_type": "execute_result",
          "data": {
            "text/plain": [
              "<PIL.Image.Image image mode=RGB size=32x32>"
            ],
            "image/png": "[encoded data removed]"
          },
          "metadata": {},
          "execution_count": 15
        }
      ]
    },
    {
      "cell_type": "code",
      "source": [
        "PIL_image2"
      ],
      "metadata": {
        "colab": {
          "base_uri": "https://localhost:8080/",
          "height": 49
        },
        "id": "XNcQpDh54qZ8",
        "outputId": "1e7ba9fb-132c-498a-90e9-5ef098caa347"
      },
      "execution_count": 16,
      "outputs": [
        {
          "output_type": "execute_result",
          "data": {
            "text/plain": [
              "<PIL.Image.Image image mode=RGB size=32x32>"
            ],
            "image/png": "[encoded data removed]"
          },
          "metadata": {},
          "execution_count": 16
        }
      ]
    }
  ],
  "metadata": {
    "kernelspec": {
      "display_name": "Python 3",
      "name": "python3"
    },
    "language_info": {
      "codemirror_mode": {
        "name": "ipython",
        "version": 3
      },
      "file_extension": ".py",
      "mimetype": "text/x-python",
      "name": "python",
      "nbconvert_exporter": "python",
      "pygments_lexer": "ipython3",
      "version": "3.9.6"
    },
    "vscode": {
      "interpreter": {
        "hash": "b45ccf6fd3c8427b2d1b5e880d896f46770117107f616a4b6b7de4d4387dfaf4"
      }
    },
    "colab": {
      "provenance": [],
      "gpuType": "T4"
    },
    "accelerator": "GPU"
  },
  "nbformat": 4,
  "nbformat_minor": 0
}